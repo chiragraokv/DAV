{
 "cells": [
  {
   "cell_type": "markdown",
   "id": "673123c9",
   "metadata": {},
   "source": [
    "# Chirag Rao K V\n",
    "## Reg: 240962180\n",
    "## PC 66\n",
    "## a. Answer the specified questions with data summarization and effective visuals. \n",
    "## b. Write down your insights into the notebook as comments.  \n",
    "1. How many cereals(unique brands) are there in the dataset? \n",
    "\n",
    "2. How many cereals are listed per manufacturer of the cereal? \n",
    "\n",
    "3. How many hot vs cold cereals? \n",
    "\n",
    "4. Which is the best and worst cereal? \n",
    "\n",
    "5. Compare the rating for hot vs cold cereals. Which do people prefer?\n",
    "\n",
    "6. Which cereals have the highest fiber and lowest sugar? \n",
    "\n",
    "7. Which Cereals that have more than 3 grams of protein? \n",
    "\n",
    "8. Tabulate and visualize Cereals by display Shelf. \n",
    "\n",
    "9. How does the sugar content vary across different brands? \n",
    "\n",
    "10. What is the average calories in cereals per manufacturer? \n",
    "\n",
    "11. What is the average nutritional content (calories, sugars, protein, fiber, etc.) across all \n",
    "cereals? \n",
    "\n",
    "12. What is the relationship between sugar and calories? \n",
    "\n",
    "13. How does the sugar content compare in cereals with high vs. low ratings? \n",
    "\n",
    "14. Do cereals marketed as \"healthy\" (e.g., high fiber, low sugar) tend to have higher ratings? \n",
    "\n",
    "15. Is there a relationship between rating and display shelf?"
   ]
  },
  {
   "cell_type": "code",
   "execution_count": 127,
   "id": "b79c12bf",
   "metadata": {},
   "outputs": [],
   "source": [
    "import pandas as pd\n",
    "import matplotlib.pyplot as plt\n",
    "import numpy as np\n"
   ]
  },
  {
   "cell_type": "code",
   "execution_count": 128,
   "id": "f128a98f",
   "metadata": {},
   "outputs": [],
   "source": [
    "data = pd.read_csv(\"Cereals.csv\",na_values= \"?\")"
   ]
  },
  {
   "cell_type": "code",
   "execution_count": 129,
   "id": "db395e60",
   "metadata": {},
   "outputs": [
    {
     "data": {
      "text/html": [
       "<div>\n",
       "<style scoped>\n",
       "    .dataframe tbody tr th:only-of-type {\n",
       "        vertical-align: middle;\n",
       "    }\n",
       "\n",
       "    .dataframe tbody tr th {\n",
       "        vertical-align: top;\n",
       "    }\n",
       "\n",
       "    .dataframe thead th {\n",
       "        text-align: right;\n",
       "    }\n",
       "</style>\n",
       "<table border=\"1\" class=\"dataframe\">\n",
       "  <thead>\n",
       "    <tr style=\"text-align: right;\">\n",
       "      <th></th>\n",
       "      <th>name</th>\n",
       "      <th>mfr</th>\n",
       "      <th>type</th>\n",
       "      <th>calories</th>\n",
       "      <th>protein</th>\n",
       "      <th>fat</th>\n",
       "      <th>sodium</th>\n",
       "      <th>fiber</th>\n",
       "      <th>carbo</th>\n",
       "      <th>sugars</th>\n",
       "      <th>potass</th>\n",
       "      <th>vitamins</th>\n",
       "      <th>shelf</th>\n",
       "      <th>weight</th>\n",
       "      <th>cups</th>\n",
       "      <th>rating</th>\n",
       "    </tr>\n",
       "  </thead>\n",
       "  <tbody>\n",
       "    <tr>\n",
       "      <th>0</th>\n",
       "      <td>100NaturalBran</td>\n",
       "      <td>Q</td>\n",
       "      <td>C</td>\n",
       "      <td>120</td>\n",
       "      <td>3</td>\n",
       "      <td>5</td>\n",
       "      <td>15</td>\n",
       "      <td>2.0</td>\n",
       "      <td>8.0</td>\n",
       "      <td>8.0</td>\n",
       "      <td>135.0</td>\n",
       "      <td>0</td>\n",
       "      <td>3</td>\n",
       "      <td>1.0</td>\n",
       "      <td>1.00</td>\n",
       "      <td>33.983679</td>\n",
       "    </tr>\n",
       "    <tr>\n",
       "      <th>1</th>\n",
       "      <td>All-Bran</td>\n",
       "      <td>K</td>\n",
       "      <td>C</td>\n",
       "      <td>70</td>\n",
       "      <td>4</td>\n",
       "      <td>1</td>\n",
       "      <td>260</td>\n",
       "      <td>9.0</td>\n",
       "      <td>7.0</td>\n",
       "      <td>5.0</td>\n",
       "      <td>320.0</td>\n",
       "      <td>25</td>\n",
       "      <td>3</td>\n",
       "      <td>1.0</td>\n",
       "      <td>0.33</td>\n",
       "      <td>59.425505</td>\n",
       "    </tr>\n",
       "    <tr>\n",
       "      <th>2</th>\n",
       "      <td>All-BranwithExtraFiber</td>\n",
       "      <td>K</td>\n",
       "      <td>C</td>\n",
       "      <td>50</td>\n",
       "      <td>4</td>\n",
       "      <td>0</td>\n",
       "      <td>140</td>\n",
       "      <td>14.0</td>\n",
       "      <td>8.0</td>\n",
       "      <td>0.0</td>\n",
       "      <td>330.0</td>\n",
       "      <td>25</td>\n",
       "      <td>3</td>\n",
       "      <td>1.0</td>\n",
       "      <td>0.50</td>\n",
       "      <td>93.704912</td>\n",
       "    </tr>\n",
       "    <tr>\n",
       "      <th>3</th>\n",
       "      <td>AlmondDelight</td>\n",
       "      <td>R</td>\n",
       "      <td>C</td>\n",
       "      <td>110</td>\n",
       "      <td>2</td>\n",
       "      <td>2</td>\n",
       "      <td>200</td>\n",
       "      <td>1.0</td>\n",
       "      <td>14.0</td>\n",
       "      <td>8.0</td>\n",
       "      <td>0.0</td>\n",
       "      <td>25</td>\n",
       "      <td>3</td>\n",
       "      <td>1.0</td>\n",
       "      <td>0.75</td>\n",
       "      <td>34.384843</td>\n",
       "    </tr>\n",
       "    <tr>\n",
       "      <th>4</th>\n",
       "      <td>AppleCinnamonCheerios</td>\n",
       "      <td>G</td>\n",
       "      <td>C</td>\n",
       "      <td>110</td>\n",
       "      <td>2</td>\n",
       "      <td>2</td>\n",
       "      <td>180</td>\n",
       "      <td>1.5</td>\n",
       "      <td>10.5</td>\n",
       "      <td>10.0</td>\n",
       "      <td>70.0</td>\n",
       "      <td>25</td>\n",
       "      <td>1</td>\n",
       "      <td>1.0</td>\n",
       "      <td>0.75</td>\n",
       "      <td>29.509541</td>\n",
       "    </tr>\n",
       "    <tr>\n",
       "      <th>...</th>\n",
       "      <td>...</td>\n",
       "      <td>...</td>\n",
       "      <td>...</td>\n",
       "      <td>...</td>\n",
       "      <td>...</td>\n",
       "      <td>...</td>\n",
       "      <td>...</td>\n",
       "      <td>...</td>\n",
       "      <td>...</td>\n",
       "      <td>...</td>\n",
       "      <td>...</td>\n",
       "      <td>...</td>\n",
       "      <td>...</td>\n",
       "      <td>...</td>\n",
       "      <td>...</td>\n",
       "      <td>...</td>\n",
       "    </tr>\n",
       "    <tr>\n",
       "      <th>71</th>\n",
       "      <td>Triples</td>\n",
       "      <td>G</td>\n",
       "      <td>C</td>\n",
       "      <td>110</td>\n",
       "      <td>2</td>\n",
       "      <td>1</td>\n",
       "      <td>250</td>\n",
       "      <td>0.0</td>\n",
       "      <td>21.0</td>\n",
       "      <td>3.0</td>\n",
       "      <td>60.0</td>\n",
       "      <td>25</td>\n",
       "      <td>3</td>\n",
       "      <td>1.0</td>\n",
       "      <td>0.75</td>\n",
       "      <td>39.106174</td>\n",
       "    </tr>\n",
       "    <tr>\n",
       "      <th>72</th>\n",
       "      <td>Trix</td>\n",
       "      <td>G</td>\n",
       "      <td>C</td>\n",
       "      <td>110</td>\n",
       "      <td>1</td>\n",
       "      <td>1</td>\n",
       "      <td>140</td>\n",
       "      <td>0.0</td>\n",
       "      <td>13.0</td>\n",
       "      <td>12.0</td>\n",
       "      <td>25.0</td>\n",
       "      <td>25</td>\n",
       "      <td>2</td>\n",
       "      <td>1.0</td>\n",
       "      <td>1.00</td>\n",
       "      <td>27.753301</td>\n",
       "    </tr>\n",
       "    <tr>\n",
       "      <th>73</th>\n",
       "      <td>WheatChex</td>\n",
       "      <td>R</td>\n",
       "      <td>C</td>\n",
       "      <td>100</td>\n",
       "      <td>3</td>\n",
       "      <td>1</td>\n",
       "      <td>230</td>\n",
       "      <td>3.0</td>\n",
       "      <td>17.0</td>\n",
       "      <td>3.0</td>\n",
       "      <td>115.0</td>\n",
       "      <td>25</td>\n",
       "      <td>1</td>\n",
       "      <td>1.0</td>\n",
       "      <td>0.67</td>\n",
       "      <td>49.787445</td>\n",
       "    </tr>\n",
       "    <tr>\n",
       "      <th>74</th>\n",
       "      <td>Wheaties</td>\n",
       "      <td>G</td>\n",
       "      <td>C</td>\n",
       "      <td>100</td>\n",
       "      <td>3</td>\n",
       "      <td>1</td>\n",
       "      <td>200</td>\n",
       "      <td>3.0</td>\n",
       "      <td>17.0</td>\n",
       "      <td>3.0</td>\n",
       "      <td>110.0</td>\n",
       "      <td>25</td>\n",
       "      <td>1</td>\n",
       "      <td>1.0</td>\n",
       "      <td>1.00</td>\n",
       "      <td>51.592193</td>\n",
       "    </tr>\n",
       "    <tr>\n",
       "      <th>75</th>\n",
       "      <td>WheatiesHoneyGold</td>\n",
       "      <td>G</td>\n",
       "      <td>C</td>\n",
       "      <td>110</td>\n",
       "      <td>2</td>\n",
       "      <td>1</td>\n",
       "      <td>200</td>\n",
       "      <td>1.0</td>\n",
       "      <td>16.0</td>\n",
       "      <td>8.0</td>\n",
       "      <td>60.0</td>\n",
       "      <td>25</td>\n",
       "      <td>1</td>\n",
       "      <td>1.0</td>\n",
       "      <td>0.75</td>\n",
       "      <td>36.187559</td>\n",
       "    </tr>\n",
       "  </tbody>\n",
       "</table>\n",
       "<p>76 rows × 16 columns</p>\n",
       "</div>"
      ],
      "text/plain": [
       "                      name mfr type  calories  protein  fat  sodium  fiber  \\\n",
       "0           100NaturalBran   Q    C       120        3    5      15    2.0   \n",
       "1                 All-Bran   K    C        70        4    1     260    9.0   \n",
       "2   All-BranwithExtraFiber   K    C        50        4    0     140   14.0   \n",
       "3            AlmondDelight   R    C       110        2    2     200    1.0   \n",
       "4    AppleCinnamonCheerios   G    C       110        2    2     180    1.5   \n",
       "..                     ...  ..  ...       ...      ...  ...     ...    ...   \n",
       "71                 Triples   G    C       110        2    1     250    0.0   \n",
       "72                    Trix   G    C       110        1    1     140    0.0   \n",
       "73               WheatChex   R    C       100        3    1     230    3.0   \n",
       "74                Wheaties   G    C       100        3    1     200    3.0   \n",
       "75       WheatiesHoneyGold   G    C       110        2    1     200    1.0   \n",
       "\n",
       "    carbo  sugars  potass  vitamins  shelf  weight  cups     rating  \n",
       "0     8.0     8.0   135.0         0      3     1.0  1.00  33.983679  \n",
       "1     7.0     5.0   320.0        25      3     1.0  0.33  59.425505  \n",
       "2     8.0     0.0   330.0        25      3     1.0  0.50  93.704912  \n",
       "3    14.0     8.0     0.0        25      3     1.0  0.75  34.384843  \n",
       "4    10.5    10.0    70.0        25      1     1.0  0.75  29.509541  \n",
       "..    ...     ...     ...       ...    ...     ...   ...        ...  \n",
       "71   21.0     3.0    60.0        25      3     1.0  0.75  39.106174  \n",
       "72   13.0    12.0    25.0        25      2     1.0  1.00  27.753301  \n",
       "73   17.0     3.0   115.0        25      1     1.0  0.67  49.787445  \n",
       "74   17.0     3.0   110.0        25      1     1.0  1.00  51.592193  \n",
       "75   16.0     8.0    60.0        25      1     1.0  0.75  36.187559  \n",
       "\n",
       "[76 rows x 16 columns]"
      ]
     },
     "execution_count": 129,
     "metadata": {},
     "output_type": "execute_result"
    }
   ],
   "source": [
    "data.fillna(0)"
   ]
  },
  {
   "cell_type": "code",
   "execution_count": 130,
   "id": "0e04015d",
   "metadata": {},
   "outputs": [
    {
     "data": {
      "text/plain": [
       "76"
      ]
     },
     "execution_count": 130,
     "metadata": {},
     "output_type": "execute_result"
    }
   ],
   "source": [
    "# How many cereals(unique brands) are there in the dataset?\n",
    "len(data[\"name\"].unique())\n",
    "\n",
    "# there are 76 unique brands of cereals"
   ]
  },
  {
   "cell_type": "code",
   "execution_count": 131,
   "id": "f4a46fe3",
   "metadata": {},
   "outputs": [
    {
     "data": {
      "text/plain": [
       "mfr\n",
       "K    23\n",
       "G    22\n",
       "P     9\n",
       "R     8\n",
       "Q     8\n",
       "N     5\n",
       "A     1\n",
       "Name: count, dtype: int64"
      ]
     },
     "execution_count": 131,
     "metadata": {},
     "output_type": "execute_result"
    }
   ],
   "source": [
    "#How many cereals are listed per manufacturer of the cereal?\n",
    "data[\"mfr\"].value_counts()\n",
    "#Lists the mo of rows contating respective category"
   ]
  },
  {
   "cell_type": "code",
   "execution_count": 132,
   "id": "7263c391",
   "metadata": {},
   "outputs": [
    {
     "data": {
      "text/plain": [
       "type\n",
       "C    73\n",
       "H     3\n",
       "Name: count, dtype: int64"
      ]
     },
     "execution_count": 132,
     "metadata": {},
     "output_type": "execute_result"
    }
   ],
   "source": [
    "#How many hot vs cold cereals?\n",
    "# Counts the number od cereals in the hot and cold category\n",
    "data[\"type\"].value_counts()"
   ]
  },
  {
   "cell_type": "code",
   "execution_count": 133,
   "id": "f2817d44",
   "metadata": {},
   "outputs": [
    {
     "name": "stdout",
     "output_type": "stream",
     "text": [
      "The worst cereal is :\n"
     ]
    },
    {
     "data": {
      "text/html": [
       "<div>\n",
       "<style scoped>\n",
       "    .dataframe tbody tr th:only-of-type {\n",
       "        vertical-align: middle;\n",
       "    }\n",
       "\n",
       "    .dataframe tbody tr th {\n",
       "        vertical-align: top;\n",
       "    }\n",
       "\n",
       "    .dataframe thead th {\n",
       "        text-align: right;\n",
       "    }\n",
       "</style>\n",
       "<table border=\"1\" class=\"dataframe\">\n",
       "  <thead>\n",
       "    <tr style=\"text-align: right;\">\n",
       "      <th></th>\n",
       "      <th>name</th>\n",
       "      <th>mfr</th>\n",
       "      <th>type</th>\n",
       "      <th>calories</th>\n",
       "      <th>protein</th>\n",
       "      <th>fat</th>\n",
       "      <th>sodium</th>\n",
       "      <th>fiber</th>\n",
       "      <th>carbo</th>\n",
       "      <th>sugars</th>\n",
       "      <th>potass</th>\n",
       "      <th>vitamins</th>\n",
       "      <th>shelf</th>\n",
       "      <th>weight</th>\n",
       "      <th>cups</th>\n",
       "      <th>rating</th>\n",
       "    </tr>\n",
       "  </thead>\n",
       "  <tbody>\n",
       "    <tr>\n",
       "      <th>9</th>\n",
       "      <td>CapnCrunch</td>\n",
       "      <td>Q</td>\n",
       "      <td>C</td>\n",
       "      <td>120</td>\n",
       "      <td>1</td>\n",
       "      <td>2</td>\n",
       "      <td>220</td>\n",
       "      <td>0.0</td>\n",
       "      <td>12.0</td>\n",
       "      <td>12.0</td>\n",
       "      <td>35.0</td>\n",
       "      <td>25</td>\n",
       "      <td>2</td>\n",
       "      <td>1.0</td>\n",
       "      <td>0.75</td>\n",
       "      <td>18.042851</td>\n",
       "    </tr>\n",
       "  </tbody>\n",
       "</table>\n",
       "</div>"
      ],
      "text/plain": [
       "         name mfr type  calories  protein  fat  sodium  fiber  carbo  sugars  \\\n",
       "9  CapnCrunch   Q    C       120        1    2     220    0.0   12.0    12.0   \n",
       "\n",
       "   potass  vitamins  shelf  weight  cups     rating  \n",
       "9    35.0        25      2     1.0  0.75  18.042851  "
      ]
     },
     "execution_count": 133,
     "metadata": {},
     "output_type": "execute_result"
    }
   ],
   "source": [
    "#Which is the best and worst cereal?\n",
    "#Prints the cerial with highest rating and least rating\n",
    "print(\"The worst cereal is :\" )\n",
    "data[data[\"rating\"] == data[\"rating\"].min()]\n"
   ]
  },
  {
   "cell_type": "code",
   "execution_count": 134,
   "id": "9d7b99ae",
   "metadata": {},
   "outputs": [
    {
     "name": "stdout",
     "output_type": "stream",
     "text": [
      "\n",
      "The best cereal is :\n"
     ]
    },
    {
     "data": {
      "text/html": [
       "<div>\n",
       "<style scoped>\n",
       "    .dataframe tbody tr th:only-of-type {\n",
       "        vertical-align: middle;\n",
       "    }\n",
       "\n",
       "    .dataframe tbody tr th {\n",
       "        vertical-align: top;\n",
       "    }\n",
       "\n",
       "    .dataframe thead th {\n",
       "        text-align: right;\n",
       "    }\n",
       "</style>\n",
       "<table border=\"1\" class=\"dataframe\">\n",
       "  <thead>\n",
       "    <tr style=\"text-align: right;\">\n",
       "      <th></th>\n",
       "      <th>name</th>\n",
       "      <th>mfr</th>\n",
       "      <th>type</th>\n",
       "      <th>calories</th>\n",
       "      <th>protein</th>\n",
       "      <th>fat</th>\n",
       "      <th>sodium</th>\n",
       "      <th>fiber</th>\n",
       "      <th>carbo</th>\n",
       "      <th>sugars</th>\n",
       "      <th>potass</th>\n",
       "      <th>vitamins</th>\n",
       "      <th>shelf</th>\n",
       "      <th>weight</th>\n",
       "      <th>cups</th>\n",
       "      <th>rating</th>\n",
       "    </tr>\n",
       "  </thead>\n",
       "  <tbody>\n",
       "    <tr>\n",
       "      <th>2</th>\n",
       "      <td>All-BranwithExtraFiber</td>\n",
       "      <td>K</td>\n",
       "      <td>C</td>\n",
       "      <td>50</td>\n",
       "      <td>4</td>\n",
       "      <td>0</td>\n",
       "      <td>140</td>\n",
       "      <td>14.0</td>\n",
       "      <td>8.0</td>\n",
       "      <td>0.0</td>\n",
       "      <td>330.0</td>\n",
       "      <td>25</td>\n",
       "      <td>3</td>\n",
       "      <td>1.0</td>\n",
       "      <td>0.5</td>\n",
       "      <td>93.704912</td>\n",
       "    </tr>\n",
       "  </tbody>\n",
       "</table>\n",
       "</div>"
      ],
      "text/plain": [
       "                     name mfr type  calories  protein  fat  sodium  fiber  \\\n",
       "2  All-BranwithExtraFiber   K    C        50        4    0     140   14.0   \n",
       "\n",
       "   carbo  sugars  potass  vitamins  shelf  weight  cups     rating  \n",
       "2    8.0     0.0   330.0        25      3     1.0   0.5  93.704912  "
      ]
     },
     "execution_count": 134,
     "metadata": {},
     "output_type": "execute_result"
    }
   ],
   "source": [
    "print(\"\\nThe best cereal is :\" )\n",
    "data[data[\"rating\"] == data[\"rating\"].max()]"
   ]
  },
  {
   "cell_type": "code",
   "execution_count": 135,
   "id": "3679a51e",
   "metadata": {},
   "outputs": [
    {
     "name": "stdout",
     "output_type": "stream",
     "text": [
      "Mean rating of cold serials\n",
      "41.73483816438357\n",
      "\n",
      "Mean rating of hot serials\n",
      "56.73770833333334\n"
     ]
    }
   ],
   "source": [
    "#Compare the rating for hot vs cold cereals. Which do people prefer?\n",
    "index = data[\"type\"]== \"C\"\n",
    "print(\"Mean rating of cold serials\")\n",
    "print(np.mean(data[index][\"rating\"]))\n",
    "print(\"\\nMean rating of hot serials\")\n",
    "index = data[\"type\"]== \"H\"\n",
    "print(np.mean(np.mean(data[index][\"rating\"])))\n",
    "# deciding peoples preference based in mean value of ratings"
   ]
  },
  {
   "cell_type": "code",
   "execution_count": 136,
   "id": "85d418cb",
   "metadata": {},
   "outputs": [
    {
     "data": {
      "text/html": [
       "<div>\n",
       "<style scoped>\n",
       "    .dataframe tbody tr th:only-of-type {\n",
       "        vertical-align: middle;\n",
       "    }\n",
       "\n",
       "    .dataframe tbody tr th {\n",
       "        vertical-align: top;\n",
       "    }\n",
       "\n",
       "    .dataframe thead th {\n",
       "        text-align: right;\n",
       "    }\n",
       "</style>\n",
       "<table border=\"1\" class=\"dataframe\">\n",
       "  <thead>\n",
       "    <tr style=\"text-align: right;\">\n",
       "      <th></th>\n",
       "      <th>name</th>\n",
       "      <th>mfr</th>\n",
       "      <th>type</th>\n",
       "      <th>calories</th>\n",
       "      <th>protein</th>\n",
       "      <th>fat</th>\n",
       "      <th>sodium</th>\n",
       "      <th>fiber</th>\n",
       "      <th>carbo</th>\n",
       "      <th>sugars</th>\n",
       "      <th>potass</th>\n",
       "      <th>vitamins</th>\n",
       "      <th>shelf</th>\n",
       "      <th>weight</th>\n",
       "      <th>cups</th>\n",
       "      <th>rating</th>\n",
       "    </tr>\n",
       "  </thead>\n",
       "  <tbody>\n",
       "    <tr>\n",
       "      <th>2</th>\n",
       "      <td>All-BranwithExtraFiber</td>\n",
       "      <td>K</td>\n",
       "      <td>C</td>\n",
       "      <td>50</td>\n",
       "      <td>4</td>\n",
       "      <td>0</td>\n",
       "      <td>140</td>\n",
       "      <td>14.0</td>\n",
       "      <td>8.0</td>\n",
       "      <td>0.0</td>\n",
       "      <td>330.0</td>\n",
       "      <td>25</td>\n",
       "      <td>3</td>\n",
       "      <td>1.0</td>\n",
       "      <td>0.5</td>\n",
       "      <td>93.704912</td>\n",
       "    </tr>\n",
       "  </tbody>\n",
       "</table>\n",
       "</div>"
      ],
      "text/plain": [
       "                     name mfr type  calories  protein  fat  sodium  fiber  \\\n",
       "2  All-BranwithExtraFiber   K    C        50        4    0     140   14.0   \n",
       "\n",
       "   carbo  sugars  potass  vitamins  shelf  weight  cups     rating  \n",
       "2    8.0     0.0   330.0        25      3     1.0   0.5  93.704912  "
      ]
     },
     "execution_count": 136,
     "metadata": {},
     "output_type": "execute_result"
    }
   ],
   "source": [
    "#Which cereals have the highest fiber and lowest sugar?\n",
    "# finding the cerial with these conditions\n",
    "data.loc[(data[\"fiber\"] == data[\"fiber\"].max()) & (data[\"sugars\"] == data[\"sugars\"].min())]"
   ]
  },
  {
   "cell_type": "code",
   "execution_count": 137,
   "id": "603fe098",
   "metadata": {},
   "outputs": [
    {
     "data": {
      "text/html": [
       "<div>\n",
       "<style scoped>\n",
       "    .dataframe tbody tr th:only-of-type {\n",
       "        vertical-align: middle;\n",
       "    }\n",
       "\n",
       "    .dataframe tbody tr th {\n",
       "        vertical-align: top;\n",
       "    }\n",
       "\n",
       "    .dataframe thead th {\n",
       "        text-align: right;\n",
       "    }\n",
       "</style>\n",
       "<table border=\"1\" class=\"dataframe\">\n",
       "  <thead>\n",
       "    <tr style=\"text-align: right;\">\n",
       "      <th></th>\n",
       "      <th>name</th>\n",
       "      <th>mfr</th>\n",
       "      <th>type</th>\n",
       "      <th>calories</th>\n",
       "      <th>protein</th>\n",
       "      <th>fat</th>\n",
       "      <th>sodium</th>\n",
       "      <th>fiber</th>\n",
       "      <th>carbo</th>\n",
       "      <th>sugars</th>\n",
       "      <th>potass</th>\n",
       "      <th>vitamins</th>\n",
       "      <th>shelf</th>\n",
       "      <th>weight</th>\n",
       "      <th>cups</th>\n",
       "      <th>rating</th>\n",
       "    </tr>\n",
       "  </thead>\n",
       "  <tbody>\n",
       "    <tr>\n",
       "      <th>1</th>\n",
       "      <td>All-Bran</td>\n",
       "      <td>K</td>\n",
       "      <td>C</td>\n",
       "      <td>70</td>\n",
       "      <td>4</td>\n",
       "      <td>1</td>\n",
       "      <td>260</td>\n",
       "      <td>9.0</td>\n",
       "      <td>7.0</td>\n",
       "      <td>5.0</td>\n",
       "      <td>320.0</td>\n",
       "      <td>25</td>\n",
       "      <td>3</td>\n",
       "      <td>1.0</td>\n",
       "      <td>0.33</td>\n",
       "      <td>59.425505</td>\n",
       "    </tr>\n",
       "    <tr>\n",
       "      <th>2</th>\n",
       "      <td>All-BranwithExtraFiber</td>\n",
       "      <td>K</td>\n",
       "      <td>C</td>\n",
       "      <td>50</td>\n",
       "      <td>4</td>\n",
       "      <td>0</td>\n",
       "      <td>140</td>\n",
       "      <td>14.0</td>\n",
       "      <td>8.0</td>\n",
       "      <td>0.0</td>\n",
       "      <td>330.0</td>\n",
       "      <td>25</td>\n",
       "      <td>3</td>\n",
       "      <td>1.0</td>\n",
       "      <td>0.50</td>\n",
       "      <td>93.704912</td>\n",
       "    </tr>\n",
       "    <tr>\n",
       "      <th>10</th>\n",
       "      <td>Cheerios</td>\n",
       "      <td>G</td>\n",
       "      <td>C</td>\n",
       "      <td>110</td>\n",
       "      <td>6</td>\n",
       "      <td>2</td>\n",
       "      <td>290</td>\n",
       "      <td>2.0</td>\n",
       "      <td>17.0</td>\n",
       "      <td>1.0</td>\n",
       "      <td>105.0</td>\n",
       "      <td>25</td>\n",
       "      <td>1</td>\n",
       "      <td>1.0</td>\n",
       "      <td>1.25</td>\n",
       "      <td>50.764999</td>\n",
       "    </tr>\n",
       "    <tr>\n",
       "      <th>40</th>\n",
       "      <td>Life</td>\n",
       "      <td>Q</td>\n",
       "      <td>C</td>\n",
       "      <td>100</td>\n",
       "      <td>4</td>\n",
       "      <td>2</td>\n",
       "      <td>150</td>\n",
       "      <td>2.0</td>\n",
       "      <td>12.0</td>\n",
       "      <td>6.0</td>\n",
       "      <td>95.0</td>\n",
       "      <td>25</td>\n",
       "      <td>2</td>\n",
       "      <td>1.0</td>\n",
       "      <td>0.67</td>\n",
       "      <td>45.328074</td>\n",
       "    </tr>\n",
       "    <tr>\n",
       "      <th>42</th>\n",
       "      <td>Maypo</td>\n",
       "      <td>A</td>\n",
       "      <td>H</td>\n",
       "      <td>100</td>\n",
       "      <td>4</td>\n",
       "      <td>1</td>\n",
       "      <td>0</td>\n",
       "      <td>0.0</td>\n",
       "      <td>16.0</td>\n",
       "      <td>3.0</td>\n",
       "      <td>95.0</td>\n",
       "      <td>25</td>\n",
       "      <td>2</td>\n",
       "      <td>1.0</td>\n",
       "      <td>1.00</td>\n",
       "      <td>54.850917</td>\n",
       "    </tr>\n",
       "    <tr>\n",
       "      <th>43</th>\n",
       "      <td>MuesliRaisinsDatesAlmonds</td>\n",
       "      <td>R</td>\n",
       "      <td>C</td>\n",
       "      <td>150</td>\n",
       "      <td>4</td>\n",
       "      <td>3</td>\n",
       "      <td>95</td>\n",
       "      <td>3.0</td>\n",
       "      <td>16.0</td>\n",
       "      <td>11.0</td>\n",
       "      <td>170.0</td>\n",
       "      <td>25</td>\n",
       "      <td>3</td>\n",
       "      <td>1.0</td>\n",
       "      <td>1.00</td>\n",
       "      <td>37.136863</td>\n",
       "    </tr>\n",
       "    <tr>\n",
       "      <th>44</th>\n",
       "      <td>MuesliRaisinsPeachesPecans</td>\n",
       "      <td>R</td>\n",
       "      <td>C</td>\n",
       "      <td>150</td>\n",
       "      <td>4</td>\n",
       "      <td>3</td>\n",
       "      <td>150</td>\n",
       "      <td>3.0</td>\n",
       "      <td>16.0</td>\n",
       "      <td>11.0</td>\n",
       "      <td>170.0</td>\n",
       "      <td>25</td>\n",
       "      <td>3</td>\n",
       "      <td>1.0</td>\n",
       "      <td>1.00</td>\n",
       "      <td>34.139765</td>\n",
       "    </tr>\n",
       "    <tr>\n",
       "      <th>55</th>\n",
       "      <td>QuakerOatSquares</td>\n",
       "      <td>Q</td>\n",
       "      <td>C</td>\n",
       "      <td>100</td>\n",
       "      <td>4</td>\n",
       "      <td>1</td>\n",
       "      <td>135</td>\n",
       "      <td>2.0</td>\n",
       "      <td>14.0</td>\n",
       "      <td>6.0</td>\n",
       "      <td>110.0</td>\n",
       "      <td>25</td>\n",
       "      <td>3</td>\n",
       "      <td>1.0</td>\n",
       "      <td>0.50</td>\n",
       "      <td>49.511874</td>\n",
       "    </tr>\n",
       "    <tr>\n",
       "      <th>56</th>\n",
       "      <td>QuakerOatmeal</td>\n",
       "      <td>Q</td>\n",
       "      <td>H</td>\n",
       "      <td>100</td>\n",
       "      <td>5</td>\n",
       "      <td>2</td>\n",
       "      <td>0</td>\n",
       "      <td>2.7</td>\n",
       "      <td>NaN</td>\n",
       "      <td>NaN</td>\n",
       "      <td>110.0</td>\n",
       "      <td>0</td>\n",
       "      <td>1</td>\n",
       "      <td>1.0</td>\n",
       "      <td>0.67</td>\n",
       "      <td>50.828392</td>\n",
       "    </tr>\n",
       "    <tr>\n",
       "      <th>66</th>\n",
       "      <td>SpecialK</td>\n",
       "      <td>K</td>\n",
       "      <td>C</td>\n",
       "      <td>110</td>\n",
       "      <td>6</td>\n",
       "      <td>0</td>\n",
       "      <td>230</td>\n",
       "      <td>1.0</td>\n",
       "      <td>16.0</td>\n",
       "      <td>3.0</td>\n",
       "      <td>55.0</td>\n",
       "      <td>25</td>\n",
       "      <td>1</td>\n",
       "      <td>1.0</td>\n",
       "      <td>1.00</td>\n",
       "      <td>53.131324</td>\n",
       "    </tr>\n",
       "  </tbody>\n",
       "</table>\n",
       "</div>"
      ],
      "text/plain": [
       "                          name mfr type  calories  protein  fat  sodium  \\\n",
       "1                     All-Bran   K    C        70        4    1     260   \n",
       "2       All-BranwithExtraFiber   K    C        50        4    0     140   \n",
       "10                    Cheerios   G    C       110        6    2     290   \n",
       "40                        Life   Q    C       100        4    2     150   \n",
       "42                       Maypo   A    H       100        4    1       0   \n",
       "43   MuesliRaisinsDatesAlmonds   R    C       150        4    3      95   \n",
       "44  MuesliRaisinsPeachesPecans   R    C       150        4    3     150   \n",
       "55            QuakerOatSquares   Q    C       100        4    1     135   \n",
       "56               QuakerOatmeal   Q    H       100        5    2       0   \n",
       "66                    SpecialK   K    C       110        6    0     230   \n",
       "\n",
       "    fiber  carbo  sugars  potass  vitamins  shelf  weight  cups     rating  \n",
       "1     9.0    7.0     5.0   320.0        25      3     1.0  0.33  59.425505  \n",
       "2    14.0    8.0     0.0   330.0        25      3     1.0  0.50  93.704912  \n",
       "10    2.0   17.0     1.0   105.0        25      1     1.0  1.25  50.764999  \n",
       "40    2.0   12.0     6.0    95.0        25      2     1.0  0.67  45.328074  \n",
       "42    0.0   16.0     3.0    95.0        25      2     1.0  1.00  54.850917  \n",
       "43    3.0   16.0    11.0   170.0        25      3     1.0  1.00  37.136863  \n",
       "44    3.0   16.0    11.0   170.0        25      3     1.0  1.00  34.139765  \n",
       "55    2.0   14.0     6.0   110.0        25      3     1.0  0.50  49.511874  \n",
       "56    2.7    NaN     NaN   110.0         0      1     1.0  0.67  50.828392  \n",
       "66    1.0   16.0     3.0    55.0        25      1     1.0  1.00  53.131324  "
      ]
     },
     "execution_count": 137,
     "metadata": {},
     "output_type": "execute_result"
    }
   ],
   "source": [
    "#Which Cereals that have more than 3 grams of protein?\n",
    "data[data[\"protein\"] > 3]"
   ]
  },
  {
   "cell_type": "code",
   "execution_count": 138,
   "id": "da3b395a",
   "metadata": {},
   "outputs": [],
   "source": [
    "#Tabulate and visualize Cereals by display Shelf."
   ]
  },
  {
   "cell_type": "code",
   "execution_count": 139,
   "id": "71f29cc7",
   "metadata": {},
   "outputs": [
    {
     "data": {
      "text/plain": [
       "0      8.0\n",
       "1      5.0\n",
       "2      0.0\n",
       "3      8.0\n",
       "4     10.0\n",
       "      ... \n",
       "71     3.0\n",
       "72    12.0\n",
       "73     3.0\n",
       "74     3.0\n",
       "75     8.0\n",
       "Name: sugars, Length: 76, dtype: float64"
      ]
     },
     "execution_count": 139,
     "metadata": {},
     "output_type": "execute_result"
    }
   ],
   "source": [
    "#How does the sugar content vary across different brands?\n",
    "data[\"sugars\"]"
   ]
  },
  {
   "cell_type": "code",
   "execution_count": 140,
   "id": "75477339",
   "metadata": {},
   "outputs": [
    {
     "data": {
      "text/plain": [
       "shelf\n",
       "3    35\n",
       "2    21\n",
       "1    20\n",
       "Name: count, dtype: int64"
      ]
     },
     "execution_count": 140,
     "metadata": {},
     "output_type": "execute_result"
    }
   ],
   "source": [
    "# Tabulate and visualize Cereals by display Shelf. \n",
    "shelf_counts = data['shelf'].value_counts()\n",
    "shelf_counts"
   ]
  },
  {
   "cell_type": "code",
   "execution_count": null,
   "id": "15f83826",
   "metadata": {},
   "outputs": [
    {
     "data": {
      "image/png": "[encoded data removed]",
      "text/plain": [
       "<Figure size 640x480 with 1 Axes>"
      ]
     },
     "metadata": {},
     "output_type": "display_data"
    }
   ],
   "source": [
    "\n",
    "# Visualize, This gives the idea of shelf life of cerials across multiple \n",
    "color = [\"red\",\"yellow\",\"blue\"]\n",
    "plt.bar(shelf_counts.index,shelf_counts,color = color)\n",
    "plt.title('Cereals by Display Shelf')\n",
    "plt.xlabel('Shelf')\n",
    "plt.ylabel('Number of Cereals')\n",
    "plt.show()"
   ]
  },
  {
   "cell_type": "code",
   "execution_count": 142,
   "id": "f30b4270",
   "metadata": {},
   "outputs": [
    {
     "data": {
      "image/png": "[encoded data removed]",
      "text/plain": [
       "<Figure size 640x480 with 1 Axes>"
      ]
     },
     "metadata": {},
     "output_type": "display_data"
    }
   ],
   "source": [
    "# How does the sugar content vary across different brands? \n",
    "plt.bar(data[\"name\"],data[\"sugars\"])\n",
    "plt.title('Cereals by Sugar')\n",
    "plt.xlabel('SheSugarlf')\n",
    "plt.ylabel('Cerials')\n",
    "plt.show()"
   ]
  },
  {
   "cell_type": "code",
   "execution_count": 143,
   "id": "be34d45a",
   "metadata": {},
   "outputs": [
    {
     "data": {
      "image/png": "[encoded data removed]",
      "text/plain": [
       "<Figure size 640x480 with 1 Axes>"
      ]
     },
     "metadata": {},
     "output_type": "display_data"
    }
   ],
   "source": [
    "#What is the average calories in cereals per manufacturer? \n",
    "calories_by_brand = data.groupby('mfr')['calories'].mean()\n",
    "\n",
    "# Visualize, this shows that manufacturer R has highest calorie in their cerials\n",
    "plt.bar(calories_by_brand.index, calories_by_brand.values)\n",
    "plt.title('Average Calories by Manufacturer')\n",
    "plt.xlabel('Manufacturer')\n",
    "plt.ylabel('Average Calories')\n",
    "plt.show()\n"
   ]
  },
  {
   "cell_type": "code",
   "execution_count": 144,
   "id": "ec8ca915",
   "metadata": {},
   "outputs": [
    {
     "data": {
      "text/plain": [
       "calories    107.368421\n",
       "sugars        7.040000\n",
       "protein       2.526316\n",
       "fiber         2.048684\n",
       "dtype: float64"
      ]
     },
     "execution_count": 144,
     "metadata": {},
     "output_type": "execute_result"
    }
   ],
   "source": [
    "#What is the Average Nutritional Content Across All Cereals?\n",
    "# Calculate mean nutritional content\n",
    "average_nutrition = data[['calories', 'sugars', 'protein', 'fiber']].mean()\n",
    "average_nutrition"
   ]
  },
  {
   "cell_type": "code",
   "execution_count": 145,
   "id": "f7220f8f",
   "metadata": {},
   "outputs": [
    {
     "data": {
      "image/png": "[encoded data removed]",
      "text/plain": [
       "<Figure size 640x480 with 1 Axes>"
      ]
     },
     "metadata": {},
     "output_type": "display_data"
    }
   ],
   "source": [
    "#What is the Relationship Between Sugar and Calories?\n",
    "plt.bar(data['sugars'], data['calories'])\n",
    "plt.title('Relationship Between Sugar and Calories')\n",
    "plt.xlabel('Sugar Content')\n",
    "plt.ylabel('Calories')\n",
    "plt.show()\n",
    "# in general we can say higher sugar has more calories"
   ]
  },
  {
   "cell_type": "code",
   "execution_count": 146,
   "id": "2e1217c3",
   "metadata": {},
   "outputs": [
    {
     "name": "stdout",
     "output_type": "stream",
     "text": [
      "Average sugar content in high-rated cereals: 3.7837837837837838\n",
      "Average sugar content in low-rated cereals: 10.210526315789474\n"
     ]
    }
   ],
   "source": [
    "#How Does the Sugar Content Compare in Cereals with High vs. Low Ratings?\n",
    "median_rating = data['rating'].median()\n",
    "high_rating = data[data['rating'] > median_rating]\n",
    "low_rating = data[data['rating'] <= median_rating]\n",
    "high_rating_sugar = high_rating['sugars'].mean()\n",
    "low_rating_sugar = low_rating['sugars'].mean()\n",
    "print(f'Average sugar content in high-rated cereals: {high_rating_sugar}')\n",
    "print(f'Average sugar content in low-rated cereals: {low_rating_sugar}')\n",
    "\n",
    "# This shows that people give cerials with low sugar higher rating"
   ]
  },
  {
   "cell_type": "code",
   "execution_count": 147,
   "id": "9bc4cccc",
   "metadata": {},
   "outputs": [
    {
     "name": "stdout",
     "output_type": "stream",
     "text": [
      "Average rating of healthy cereals: 56.521204499999996\n",
      "Average rating of unhealthy cereals: 37.010978709090914\n"
     ]
    }
   ],
   "source": [
    "#Do Cereals Marketed as \"Healthy\" Tend to Have Higher Ratings?\n",
    "healthy_cereals = data[(data['fiber'] > data['fiber'].median()) & (data['sugars'] < data['sugars'].median())]\n",
    "unhealthy_cereals = data[(data['fiber'] <= data['fiber'].median()) | (data['sugars'] >= data['sugars'].median())]\n",
    "healthy_rating = healthy_cereals['rating'].mean()\n",
    "unhealthy_rating = unhealthy_cereals['rating'].mean()\n",
    "print(f'Average rating of healthy cereals: {healthy_rating}')\n",
    "print(f'Average rating of unhealthy cereals: {unhealthy_rating}')\n",
    "\n",
    "# This shows Marking cerials as helathy positely affects their rating"
   ]
  },
  {
   "cell_type": "code",
   "execution_count": 148,
   "id": "fa11fde6",
   "metadata": {},
   "outputs": [
    {
     "data": {
      "image/png": "[encoded data removed]",
      "text/plain": [
       "<Figure size 640x480 with 1 Axes>"
      ]
     },
     "metadata": {},
     "output_type": "display_data"
    }
   ],
   "source": [
    "#Is There a Relationship Between Rating and Display Shelf?\n",
    "rating_by_shelf = data.groupby('shelf')['rating'].mean()\n",
    "plt.bar(rating_by_shelf.index, rating_by_shelf.values)\n",
    "plt.title('Average Rating by Display Shelf')\n",
    "plt.xlabel('Shelf')\n",
    "plt.ylabel('Average Rating')\n",
    "plt.show()\n",
    "# shelf life dosent show any cosistancy in rating "
   ]
  }
 ],
 "metadata": {
  "kernelspec": {
   "display_name": "usr",
   "language": "python",
   "name": "python3"
  },
  "language_info": {
   "codemirror_mode": {
    "name": "ipython",
    "version": 3
   },
   "file_extension": ".py",
   "mimetype": "text/x-python",
   "name": "python",
   "nbconvert_exporter": "python",
   "pygments_lexer": "ipython3",
   "version": "3.10.12"
  }
 },
 "nbformat": 4,
 "nbformat_minor": 5
}
