{
 "cells": [
  {
   "cell_type": "code",
   "execution_count": 1,
   "id": "24561642",
   "metadata": {},
   "outputs": [],
   "source": [
    "import pandas as pd\n",
    "import numpy as np\n",
    "import seaborn as sns\n",
    "import matplotlib.pyplot as plt\n"
   ]
  },
  {
   "cell_type": "code",
   "execution_count": 2,
   "id": "dc95c4cb",
   "metadata": {},
   "outputs": [],
   "source": [
    "df = pd.read_csv('transaction_data.csv')"
   ]
  },
  {
   "cell_type": "code",
   "execution_count": 27,
   "id": "fd0bc044",
   "metadata": {},
   "outputs": [
    {
     "data": {
      "text/plain": [
       "Index(['Transaction ID', 'Sender Account ID', 'Receiver Account ID',\n",
       "       'Transaction Amount', 'Transaction Type', 'Timestamp',\n",
       "       'Transaction Status', 'Fraud Flag', 'Geolocation (Latitude/Longitude)',\n",
       "       'Device Used'],\n",
       "      dtype='object')"
      ]
     },
     "execution_count": 27,
     "metadata": {},
     "output_type": "execute_result"
    }
   ],
   "source": [
    "df.columns"
   ]
  },
  {
   "cell_type": "code",
   "execution_count": 26,
   "id": "8e77dc47",
   "metadata": {},
   "outputs": [
    {
     "data": {
      "text/html": [
       "<div>\n",
       "<style scoped>\n",
       "    .dataframe tbody tr th:only-of-type {\n",
       "        vertical-align: middle;\n",
       "    }\n",
       "\n",
       "    .dataframe tbody tr th {\n",
       "        vertical-align: top;\n",
       "    }\n",
       "\n",
       "    .dataframe thead th {\n",
       "        text-align: right;\n",
       "    }\n",
       "</style>\n",
       "<table border=\"1\" class=\"dataframe\">\n",
       "  <thead>\n",
       "    <tr style=\"text-align: right;\">\n",
       "      <th></th>\n",
       "      <th>Transaction ID</th>\n",
       "      <th>Sender Account ID</th>\n",
       "      <th>Receiver Account ID</th>\n",
       "      <th>Transaction Amount</th>\n",
       "      <th>Transaction Type</th>\n",
       "      <th>Timestamp</th>\n",
       "      <th>Transaction Status</th>\n",
       "      <th>Fraud Flag</th>\n",
       "      <th>Geolocation (Latitude/Longitude)</th>\n",
       "      <th>Device Used</th>\n",
       "    </tr>\n",
       "  </thead>\n",
       "  <tbody>\n",
       "    <tr>\n",
       "      <th>0</th>\n",
       "      <td>TXN9520068950</td>\n",
       "      <td>ACC14994</td>\n",
       "      <td>ACC16656</td>\n",
       "      <td>495.90</td>\n",
       "      <td>Deposit</td>\n",
       "      <td>1/17/2025 10:14</td>\n",
       "      <td>Failed</td>\n",
       "      <td>True</td>\n",
       "      <td>34.0522 N, -74.006 W</td>\n",
       "      <td>Desktop</td>\n",
       "    </tr>\n",
       "    <tr>\n",
       "      <th>1</th>\n",
       "      <td>TXN9412011085</td>\n",
       "      <td>ACC58958</td>\n",
       "      <td>ACC32826</td>\n",
       "      <td>529.62</td>\n",
       "      <td>Withdrawal</td>\n",
       "      <td>1/17/2025 10:51</td>\n",
       "      <td>Success</td>\n",
       "      <td>False</td>\n",
       "      <td>35.6895 N, -118.2437 W</td>\n",
       "      <td>Mobile</td>\n",
       "    </tr>\n",
       "    <tr>\n",
       "      <th>2</th>\n",
       "      <td>TXN4407425052</td>\n",
       "      <td>ACC56321</td>\n",
       "      <td>ACC92481</td>\n",
       "      <td>862.47</td>\n",
       "      <td>Withdrawal</td>\n",
       "      <td>1/17/2025 10:50</td>\n",
       "      <td>Failed</td>\n",
       "      <td>False</td>\n",
       "      <td>48.8566 N, 2.3522 W</td>\n",
       "      <td>Mobile</td>\n",
       "    </tr>\n",
       "    <tr>\n",
       "      <th>3</th>\n",
       "      <td>TXN2214150284</td>\n",
       "      <td>ACC48650</td>\n",
       "      <td>ACC76457</td>\n",
       "      <td>1129.88</td>\n",
       "      <td>Transfer</td>\n",
       "      <td>1/17/2025 10:56</td>\n",
       "      <td>Success</td>\n",
       "      <td>True</td>\n",
       "      <td>34.0522 N, -74.006 W</td>\n",
       "      <td>Mobile</td>\n",
       "    </tr>\n",
       "    <tr>\n",
       "      <th>4</th>\n",
       "      <td>TXN4247571145</td>\n",
       "      <td>ACC60921</td>\n",
       "      <td>ACC11419</td>\n",
       "      <td>933.24</td>\n",
       "      <td>Deposit</td>\n",
       "      <td>1/17/2025 10:25</td>\n",
       "      <td>Success</td>\n",
       "      <td>True</td>\n",
       "      <td>55.7558 N, 37.6173 W</td>\n",
       "      <td>Mobile</td>\n",
       "    </tr>\n",
       "    <tr>\n",
       "      <th>...</th>\n",
       "      <td>...</td>\n",
       "      <td>...</td>\n",
       "      <td>...</td>\n",
       "      <td>...</td>\n",
       "      <td>...</td>\n",
       "      <td>...</td>\n",
       "      <td>...</td>\n",
       "      <td>...</td>\n",
       "      <td>...</td>\n",
       "      <td>...</td>\n",
       "    </tr>\n",
       "    <tr>\n",
       "      <th>995</th>\n",
       "      <td>TXN7395336359</td>\n",
       "      <td>ACC79886</td>\n",
       "      <td>ACC14903</td>\n",
       "      <td>1340.76</td>\n",
       "      <td>Transfer</td>\n",
       "      <td>1/17/2025 10:49</td>\n",
       "      <td>Success</td>\n",
       "      <td>False</td>\n",
       "      <td>35.6895 N, -118.2437 W</td>\n",
       "      <td>Mobile</td>\n",
       "    </tr>\n",
       "    <tr>\n",
       "      <th>996</th>\n",
       "      <td>TXN2215717837</td>\n",
       "      <td>ACC95972</td>\n",
       "      <td>ACC50750</td>\n",
       "      <td>483.36</td>\n",
       "      <td>Withdrawal</td>\n",
       "      <td>1/17/2025 11:00</td>\n",
       "      <td>Failed</td>\n",
       "      <td>True</td>\n",
       "      <td>55.7558 N, 37.6173 W</td>\n",
       "      <td>Mobile</td>\n",
       "    </tr>\n",
       "    <tr>\n",
       "      <th>997</th>\n",
       "      <td>TXN1676848215</td>\n",
       "      <td>ACC95938</td>\n",
       "      <td>ACC18507</td>\n",
       "      <td>199.81</td>\n",
       "      <td>Withdrawal</td>\n",
       "      <td>1/17/2025 10:54</td>\n",
       "      <td>Success</td>\n",
       "      <td>False</td>\n",
       "      <td>34.0522 N, 139.6917 W</td>\n",
       "      <td>Desktop</td>\n",
       "    </tr>\n",
       "    <tr>\n",
       "      <th>998</th>\n",
       "      <td>TXN2479413280</td>\n",
       "      <td>ACC76523</td>\n",
       "      <td>ACC95234</td>\n",
       "      <td>1341.86</td>\n",
       "      <td>Transfer</td>\n",
       "      <td>1/17/2025 10:59</td>\n",
       "      <td>Success</td>\n",
       "      <td>True</td>\n",
       "      <td>51.5074 N, 139.6917 W</td>\n",
       "      <td>Mobile</td>\n",
       "    </tr>\n",
       "    <tr>\n",
       "      <th>999</th>\n",
       "      <td>TXN3992032184</td>\n",
       "      <td>ACC16789</td>\n",
       "      <td>ACC21980</td>\n",
       "      <td>495.36</td>\n",
       "      <td>Transfer</td>\n",
       "      <td>1/17/2025 10:02</td>\n",
       "      <td>Failed</td>\n",
       "      <td>False</td>\n",
       "      <td>55.7558 N, -74.006 W</td>\n",
       "      <td>Mobile</td>\n",
       "    </tr>\n",
       "  </tbody>\n",
       "</table>\n",
       "<p>1000 rows × 10 columns</p>\n",
       "</div>"
      ],
      "text/plain": [
       "    Transaction ID Sender Account ID Receiver Account ID  Transaction Amount  \\\n",
       "0    TXN9520068950          ACC14994            ACC16656              495.90   \n",
       "1    TXN9412011085          ACC58958            ACC32826              529.62   \n",
       "2    TXN4407425052          ACC56321            ACC92481              862.47   \n",
       "3    TXN2214150284          ACC48650            ACC76457             1129.88   \n",
       "4    TXN4247571145          ACC60921            ACC11419              933.24   \n",
       "..             ...               ...                 ...                 ...   \n",
       "995  TXN7395336359          ACC79886            ACC14903             1340.76   \n",
       "996  TXN2215717837          ACC95972            ACC50750              483.36   \n",
       "997  TXN1676848215          ACC95938            ACC18507              199.81   \n",
       "998  TXN2479413280          ACC76523            ACC95234             1341.86   \n",
       "999  TXN3992032184          ACC16789            ACC21980              495.36   \n",
       "\n",
       "    Transaction Type        Timestamp Transaction Status  Fraud Flag  \\\n",
       "0            Deposit  1/17/2025 10:14             Failed        True   \n",
       "1         Withdrawal  1/17/2025 10:51            Success       False   \n",
       "2         Withdrawal  1/17/2025 10:50             Failed       False   \n",
       "3           Transfer  1/17/2025 10:56            Success        True   \n",
       "4            Deposit  1/17/2025 10:25            Success        True   \n",
       "..               ...              ...                ...         ...   \n",
       "995         Transfer  1/17/2025 10:49            Success       False   \n",
       "996       Withdrawal  1/17/2025 11:00             Failed        True   \n",
       "997       Withdrawal  1/17/2025 10:54            Success       False   \n",
       "998         Transfer  1/17/2025 10:59            Success        True   \n",
       "999         Transfer  1/17/2025 10:02             Failed       False   \n",
       "\n",
       "    Geolocation (Latitude/Longitude) Device Used  \n",
       "0               34.0522 N, -74.006 W     Desktop  \n",
       "1             35.6895 N, -118.2437 W      Mobile  \n",
       "2                48.8566 N, 2.3522 W      Mobile  \n",
       "3               34.0522 N, -74.006 W      Mobile  \n",
       "4               55.7558 N, 37.6173 W      Mobile  \n",
       "..                               ...         ...  \n",
       "995           35.6895 N, -118.2437 W      Mobile  \n",
       "996             55.7558 N, 37.6173 W      Mobile  \n",
       "997            34.0522 N, 139.6917 W     Desktop  \n",
       "998            51.5074 N, 139.6917 W      Mobile  \n",
       "999             55.7558 N, -74.006 W      Mobile  \n",
       "\n",
       "[1000 rows x 10 columns]"
      ]
     },
     "execution_count": 26,
     "metadata": {},
     "output_type": "execute_result"
    }
   ],
   "source": [
    "df.drop_duplicates() # no duplicates"
   ]
  },
  {
   "cell_type": "code",
   "execution_count": 24,
   "id": "783ee9e2",
   "metadata": {},
   "outputs": [
    {
     "data": {
      "text/html": [
       "<div>\n",
       "<style scoped>\n",
       "    .dataframe tbody tr th:only-of-type {\n",
       "        vertical-align: middle;\n",
       "    }\n",
       "\n",
       "    .dataframe tbody tr th {\n",
       "        vertical-align: top;\n",
       "    }\n",
       "\n",
       "    .dataframe thead th {\n",
       "        text-align: right;\n",
       "    }\n",
       "</style>\n",
       "<table border=\"1\" class=\"dataframe\">\n",
       "  <thead>\n",
       "    <tr style=\"text-align: right;\">\n",
       "      <th></th>\n",
       "      <th>Transaction Amount</th>\n",
       "    </tr>\n",
       "  </thead>\n",
       "  <tbody>\n",
       "    <tr>\n",
       "      <th>count</th>\n",
       "      <td>1000.00000</td>\n",
       "    </tr>\n",
       "    <tr>\n",
       "      <th>mean</th>\n",
       "      <td>771.16529</td>\n",
       "    </tr>\n",
       "    <tr>\n",
       "      <th>std</th>\n",
       "      <td>411.01925</td>\n",
       "    </tr>\n",
       "    <tr>\n",
       "      <th>min</th>\n",
       "      <td>51.89000</td>\n",
       "    </tr>\n",
       "    <tr>\n",
       "      <th>25%</th>\n",
       "      <td>423.34750</td>\n",
       "    </tr>\n",
       "    <tr>\n",
       "      <th>50%</th>\n",
       "      <td>761.65500</td>\n",
       "    </tr>\n",
       "    <tr>\n",
       "      <th>75%</th>\n",
       "      <td>1122.67250</td>\n",
       "    </tr>\n",
       "    <tr>\n",
       "      <th>max</th>\n",
       "      <td>1497.76000</td>\n",
       "    </tr>\n",
       "  </tbody>\n",
       "</table>\n",
       "</div>"
      ],
      "text/plain": [
       "       Transaction Amount\n",
       "count          1000.00000\n",
       "mean            771.16529\n",
       "std             411.01925\n",
       "min              51.89000\n",
       "25%             423.34750\n",
       "50%             761.65500\n",
       "75%            1122.67250\n",
       "max            1497.76000"
      ]
     },
     "execution_count": 24,
     "metadata": {},
     "output_type": "execute_result"
    }
   ],
   "source": [
    "df.describe()"
   ]
  },
  {
   "cell_type": "code",
   "execution_count": 4,
   "id": "0395b343",
   "metadata": {},
   "outputs": [
    {
     "data": {
      "text/plain": [
       "Transaction ID                      0\n",
       "Sender Account ID                   0\n",
       "Receiver Account ID                 0\n",
       "Transaction Amount                  0\n",
       "Transaction Type                    0\n",
       "Timestamp                           0\n",
       "Transaction Status                  0\n",
       "Fraud Flag                          0\n",
       "Geolocation (Latitude/Longitude)    0\n",
       "Device Used                         0\n",
       "dtype: int64"
      ]
     },
     "execution_count": 4,
     "metadata": {},
     "output_type": "execute_result"
    }
   ],
   "source": [
    "df.isna().sum()"
   ]
  },
  {
   "cell_type": "code",
   "execution_count": 9,
   "id": "3f953035",
   "metadata": {},
   "outputs": [],
   "source": [
    "transactions = df.groupby('Transaction ID')['Transaction Amount'].sum()"
   ]
  },
  {
   "cell_type": "code",
   "execution_count": 20,
   "id": "18936215",
   "metadata": {},
   "outputs": [],
   "source": [
    "transactions = transactions.nlargest(10).reset_index()"
   ]
  },
  {
   "cell_type": "code",
   "execution_count": 21,
   "id": "65cea8d5",
   "metadata": {},
   "outputs": [
    {
     "data": {
      "text/html": [
       "<div>\n",
       "<style scoped>\n",
       "    .dataframe tbody tr th:only-of-type {\n",
       "        vertical-align: middle;\n",
       "    }\n",
       "\n",
       "    .dataframe tbody tr th {\n",
       "        vertical-align: top;\n",
       "    }\n",
       "\n",
       "    .dataframe thead th {\n",
       "        text-align: right;\n",
       "    }\n",
       "</style>\n",
       "<table border=\"1\" class=\"dataframe\">\n",
       "  <thead>\n",
       "    <tr style=\"text-align: right;\">\n",
       "      <th></th>\n",
       "      <th>Transaction ID</th>\n",
       "      <th>Transaction Amount</th>\n",
       "    </tr>\n",
       "  </thead>\n",
       "  <tbody>\n",
       "    <tr>\n",
       "      <th>0</th>\n",
       "      <td>TXN1696527060</td>\n",
       "      <td>1497.76</td>\n",
       "    </tr>\n",
       "    <tr>\n",
       "      <th>1</th>\n",
       "      <td>TXN8741905833</td>\n",
       "      <td>1495.01</td>\n",
       "    </tr>\n",
       "    <tr>\n",
       "      <th>2</th>\n",
       "      <td>TXN4979176158</td>\n",
       "      <td>1494.20</td>\n",
       "    </tr>\n",
       "    <tr>\n",
       "      <th>3</th>\n",
       "      <td>TXN7486103501</td>\n",
       "      <td>1494.03</td>\n",
       "    </tr>\n",
       "    <tr>\n",
       "      <th>4</th>\n",
       "      <td>TXN4433757533</td>\n",
       "      <td>1494.01</td>\n",
       "    </tr>\n",
       "    <tr>\n",
       "      <th>5</th>\n",
       "      <td>TXN8552007460</td>\n",
       "      <td>1493.86</td>\n",
       "    </tr>\n",
       "    <tr>\n",
       "      <th>6</th>\n",
       "      <td>TXN9255711120</td>\n",
       "      <td>1493.27</td>\n",
       "    </tr>\n",
       "    <tr>\n",
       "      <th>7</th>\n",
       "      <td>TXN7347670619</td>\n",
       "      <td>1488.93</td>\n",
       "    </tr>\n",
       "    <tr>\n",
       "      <th>8</th>\n",
       "      <td>TXN4930471112</td>\n",
       "      <td>1485.37</td>\n",
       "    </tr>\n",
       "    <tr>\n",
       "      <th>9</th>\n",
       "      <td>TXN9960780796</td>\n",
       "      <td>1485.22</td>\n",
       "    </tr>\n",
       "  </tbody>\n",
       "</table>\n",
       "</div>"
      ],
      "text/plain": [
       "  Transaction ID  Transaction Amount\n",
       "0  TXN1696527060             1497.76\n",
       "1  TXN8741905833             1495.01\n",
       "2  TXN4979176158             1494.20\n",
       "3  TXN7486103501             1494.03\n",
       "4  TXN4433757533             1494.01\n",
       "5  TXN8552007460             1493.86\n",
       "6  TXN9255711120             1493.27\n",
       "7  TXN7347670619             1488.93\n",
       "8  TXN4930471112             1485.37\n",
       "9  TXN9960780796             1485.22"
      ]
     },
     "execution_count": 21,
     "metadata": {},
     "output_type": "execute_result"
    }
   ],
   "source": [
    "transactions"
   ]
  },
  {
   "cell_type": "code",
   "execution_count": 23,
   "id": "ac71d8ba",
   "metadata": {},
   "outputs": [
    {
     "data": {
      "image/png": "[encoded data removed]",
      "text/plain": [
       "<Figure size 640x480 with 1 Axes>"
      ]
     },
     "metadata": {},
     "output_type": "display_data"
    }
   ],
   "source": [
    "sns.barplot(x ='Transaction ID',y = 'Transaction Amount',data = transactions)\n",
    "plt.xticks(rotation = 90)\n",
    "plt.show()"
   ]
  },
  {
   "cell_type": "code",
   "execution_count": 54,
   "id": "2434811e",
   "metadata": {},
   "outputs": [],
   "source": [
    "type_no = df.groupby('Transaction Type')['Transaction Type'].count()"
   ]
  },
  {
   "cell_type": "code",
   "execution_count": 58,
   "id": "ee1c708e",
   "metadata": {},
   "outputs": [
    {
     "data": {
      "image/png": "[encoded data removed]",
      "text/plain": [
       "<Figure size 640x480 with 1 Axes>"
      ]
     },
     "metadata": {},
     "output_type": "display_data"
    }
   ],
   "source": [
    "plt.pie(type_no.values, labels=type_no.index, autopct='%1.1f%%', startangle=90)\n",
    "plt.title('Transaction Types Distribution')\n",
    "plt.show()"
   ]
  },
  {
   "cell_type": "code",
   "execution_count": 66,
   "id": "e51cef6f",
   "metadata": {},
   "outputs": [
    {
     "data": {
      "image/png": "[encoded data removed]",
      "text/plain": [
       "<Figure size 640x480 with 1 Axes>"
      ]
     },
     "metadata": {},
     "output_type": "display_data"
    }
   ],
   "source": [
    "fraud =df.groupby('Fraud Flag')['Fraud Flag'].count()\n",
    "plt.pie(fraud.values, labels=type_no.index, autopct='%1.1f%%', startangle=90)\n",
    "plt.title('Fraud flag')\n",
    "plt.show()"
   ]
  },
  {
   "cell_type": "code",
   "execution_count": null,
   "id": "8a75ca90",
   "metadata": {},
   "outputs": [],
   "source": []
  }
 ],
 "metadata": {
  "kernelspec": {
   "display_name": "Python 3 (ipykernel)",
   "language": "python",
   "name": "python3"
  },
  "language_info": {
   "codemirror_mode": {
    "name": "ipython",
    "version": 3
   },
   "file_extension": ".py",
   "mimetype": "text/x-python",
   "name": "python",
   "nbconvert_exporter": "python",
   "pygments_lexer": "ipython3",
   "version": "3.9.13"
  }
 },
 "nbformat": 4,
 "nbformat_minor": 5
}
