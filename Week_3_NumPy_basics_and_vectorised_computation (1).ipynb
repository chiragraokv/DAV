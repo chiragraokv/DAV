{
 "cells": [
  {
   "cell_type": "code",
   "execution_count": null,
   "metadata": {
    "id": "RFjTfs96jSZd"
   },
   "outputs": [],
   "source": [
    "# Data Visualization\n",
    "# BTech Computer Science Stream , January 2025\n",
    "# Week 3 NumPy Basics: Arrays and Vectorized Computation - Demonstration Code\n",
    "# Name: Rajesh Gopakumar, Reg Number , Date: 06/01/2025"
   ]
  },
  {
   "cell_type": "markdown",
   "metadata": {
    "id": "6RQMKXoITgu_"
   },
   "source": [
    "**Note**\n",
    "\n",
    "1.   **Triple ###** in each cell is description(explanation, information) for the code.\n",
    "2.   **Single #** need to be removed for sequential execution of the code.\n",
    "\n"
   ]
  },
  {
   "cell_type": "markdown",
   "metadata": {
    "id": "tbLaYuo0qmSp"
   },
   "source": [
    "# **NumPy**\n",
    " short for Numerical Python, is one of the most important foundational packages for numerical computing in Python.\n",
    "\n",
    "**NumPy advantages**\n",
    "1. *ndarray*, an efficient multidimensional array providing fast arrayoriented arithmetic operations and flexible broadcasting\n",
    "capabilities.\n",
    "2. Mathematical functions for fast operations on entire arrays of data\n",
    "without having to write loops.\n",
    "3. Tools for reading/writing array data to disk and working with\n",
    "memory-mapped files.\n",
    "4. Linear algebra, random number generation, and Fourier transform\n",
    "capabilities.\n",
    "5. A C API for connecting NumPy with libraries written in C, C++,\n",
    "or FORTRAN. This provides a Dynamic and easyto-use interface.\n",
    "\n",
    "**Why numPy is important**\n",
    "* **NumPy** internally stores data in a contiguous block of memory, independent of other built-in Python objects. NumPy’s library of\n",
    "algorithms written in the C language can operate on this memory\n",
    "without any type checking or other overhead. NumPy arrays also\n",
    "use much less memory than built-in Python sequences.\n",
    "* **NumPy** operations perform complex computations on entire arrays\n",
    "without the need for Python for loops, which can be slow for\n",
    "large sequences. NumPy is faster than regular Python code because\n",
    "its C-based algorithms avoid overhead present with regular\n",
    "interpreted Python code.\n",
    "Naming Convention - Use descriptive names indicating the content of the array. Use 'arr' as suffix or prefix, Can also convey dimensions, shape, or type. Use underscores (snake_case) for better readability"
   ]
  },
  {
   "cell_type": "code",
   "execution_count": null,
   "metadata": {
    "id": "arWh_odDnDLu"
   },
   "outputs": [],
   "source": [
    "### performance difference between pure python and numpy execution\n",
    "import numpy as np\n",
    "my_arr = np.arange(1_000_000)\n",
    "my_list = list(range(1_000_000))"
   ]
  },
  {
   "cell_type": "code",
   "execution_count": null,
   "metadata": {
    "colab": {
     "base_uri": "https://localhost:8080/"
    },
    "id": "ys0RYcvJnDLu",
    "outputId": "087ad9a7-4a24-4190-ac7b-10e433b1c658"
   },
   "outputs": [
    {
     "name": "stdout",
     "output_type": "stream",
     "text": [
      "1.07 ms ± 120 µs per loop (mean ± std. dev. of 7 runs, 1000 loops each)\n",
      "72.1 ms ± 17.8 ms per loop (mean ± std. dev. of 7 runs, 10 loops each)\n"
     ]
    }
   ],
   "source": [
    "### %timeit calculates the time for the below line in a cell.\n",
    "### %%timeit calculates time for the entire cell.\n",
    "%timeit my_arr2 = my_arr * 2\n",
    "%timeit my_list2 = [x * 2 for x in my_list]\n",
    "# my_list2 = [x * 2 for x in my_list]"
   ]
  },
  {
   "cell_type": "code",
   "execution_count": null,
   "metadata": {
    "id": "AEqg7f6vnDLv"
   },
   "outputs": [],
   "source": [
    "### Some mathematical operations\n",
    "import numpy as np\n",
    "data = np.array([[1.5, -0.1, 3], [0, -3, 6.5]])\n",
    "data * 10"
   ]
  },
  {
   "cell_type": "code",
   "execution_count": null,
   "metadata": {
    "id": "OyZKOFb4Qy0F"
   },
   "outputs": [],
   "source": [
    "data + data"
   ]
  },
  {
   "cell_type": "markdown",
   "metadata": {
    "id": "4JgjfVXISDm3"
   },
   "source": [
    "# ***ndarrays***\n",
    "**The NumPy *ndarray*: A Multidimensional Array Object**\n",
    "\n",
    "An ndarray is a generic multidimensional container for **homogeneous data**; that is, all of the elements must be the same type.\n",
    "Every array has a **shape**, a tuple indicating the size of each dimension, and a **dtype**, an object describing the data type of the array."
   ]
  },
  {
   "cell_type": "code",
   "execution_count": null,
   "metadata": {
    "id": "la9CtggynDLw"
   },
   "outputs": [],
   "source": [
    "data.shape\n",
    "# data.dtype"
   ]
  },
  {
   "cell_type": "code",
   "execution_count": null,
   "metadata": {
    "colab": {
     "base_uri": "https://localhost:8080/"
    },
    "id": "vaNKpXLOnDLw",
    "outputId": "bd7bb63e-3195-452f-8a88-4d19e5889539"
   },
   "outputs": [
    {
     "data": {
      "text/plain": [
       "array([6. , 7.5, 8. , 0. , 1. ])"
      ]
     },
     "execution_count": 25,
     "metadata": {},
     "output_type": "execute_result"
    }
   ],
   "source": [
    "### Creating ndarrays from a list\n",
    "data1 = [6, 7.5, 8, 0, 1]\n",
    "arr1 = np.array(data1)\n",
    "arr1"
   ]
  },
  {
   "cell_type": "code",
   "execution_count": null,
   "metadata": {
    "id": "vdM7lJwenDLx"
   },
   "outputs": [],
   "source": [
    "### multidimensional array (list of lists) from equal-length lists\n",
    "data2 = [[1, 2, 3, 4], [5, 6, 7, 8]]\n",
    "arr2 = np.array(data2)\n",
    "arr2"
   ]
  },
  {
   "cell_type": "code",
   "execution_count": null,
   "metadata": {
    "id": "KCf37ox7nDLy"
   },
   "outputs": [],
   "source": [
    "### ndim and shape attributes for a multidimentional array\n",
    "arr2.ndim\n",
    "#arr2.shape"
   ]
  },
  {
   "cell_type": "code",
   "execution_count": null,
   "metadata": {
    "id": "LmDjBCuhnDLz"
   },
   "outputs": [],
   "source": [
    "### dtype, n object describing the data type of the array\n",
    "arr1.dtype\n",
    "#arr2.dtype"
   ]
  },
  {
   "cell_type": "code",
   "execution_count": null,
   "metadata": {
    "id": "Fid-HRbOnDL0"
   },
   "outputs": [],
   "source": [
    "### other functions to create arrays\n",
    "np.zeros(10)\n",
    "#np.zeros((3, 6))\n",
    "#np.empty((2, 3, 2)) # uninitialied array (garbage values)\n",
    "#np.ones(10)\n",
    "np.eye(3) # identity"
   ]
  },
  {
   "cell_type": "markdown",
   "metadata": {
    "id": "fROChGZbY2df"
   },
   "source": [
    "***iNote ***:It’s not safe to assume that np.empty will return an array of all zeros. This function returns uninitialized memory and thus may contain non-zero “garbage” values."
   ]
  },
  {
   "cell_type": "code",
   "execution_count": null,
   "metadata": {
    "id": "GFq3IfOHnDL1"
   },
   "outputs": [],
   "source": [
    "### \"arange\" is an array-valued version of the built-in Python range function\n",
    "np.arange(15)\n",
    "#arange(start(optional),stop,step(optional))\n",
    "#np.arange(3,15,3)"
   ]
  },
  {
   "cell_type": "markdown",
   "metadata": {
    "id": "IhXKgQmjbpHB"
   },
   "source": [
    "NumPy is focused on numerical computing, the data type, if not specified will in many cases be float64 (floating point).\n",
    "\n",
    "**Data Types for ndarrays**\n",
    "The data type or ***dtype*** is a special object containing the information (or metadata, data about data) the ndarray needs to interpret a chunk of memory as a particular type of data."
   ]
  },
  {
   "cell_type": "code",
   "execution_count": 2,
   "metadata": {
    "colab": {
     "base_uri": "https://localhost:8080/"
    },
    "id": "4uTGUEmpnDL2",
    "outputId": "34e55847-0fd2-48b2-9d8f-1743214cb2f2"
   },
   "outputs": [
    {
     "data": {
      "text/plain": [
       "dtype('float64')"
      ]
     },
     "execution_count": 2,
     "metadata": {},
     "output_type": "execute_result"
    }
   ],
   "source": [
    "### dtype\n",
    "import numpy as np\n",
    "arr1 = np.array([1, 2, 3], dtype=np.float64)\n",
    "arr2 = np.array([1, 2, 3], dtype=np.int32)\n",
    "arr1.dtype\n",
    "#arr2.dtype"
   ]
  },
  {
   "cell_type": "code",
   "execution_count": null,
   "metadata": {
    "id": "I1WyJMTwnDL2"
   },
   "outputs": [],
   "source": [
    "### You can explicitly convert or cast an array from one dtype to another using ndarray’s \"astype\" method\n",
    "arr = np.array([1, 2, 3, 4, 5])\n",
    "arr.dtype\n",
    "#float_arr = arr.astype(np.float64)\n",
    "#float_arr\n",
    "#float_arr.dtype"
   ]
  },
  {
   "cell_type": "code",
   "execution_count": null,
   "metadata": {
    "id": "ldfeF1q2nDL3"
   },
   "outputs": [],
   "source": [
    "### You can explicitly convert or cast an array from one dtype to another using ndarray’s \"astype\" method\n",
    "arr = np.array([3.7, -1.2, -2.6, 0.5, 12.9, 10.1])\n",
    "arr\n",
    "arr.astype(np.int32)"
   ]
  },
  {
   "cell_type": "code",
   "execution_count": null,
   "metadata": {
    "id": "KeZXI5RPnDL4"
   },
   "outputs": [],
   "source": [
    "### you can use astype to convert strings to numeric form\n",
    "numeric_strings = np.array([\"1.25\", \"-9.6\", \"42\"], dtype=np.string_)\n",
    "numeric_strings.astype(float)\n",
    "#numeric_strings = np.array(['1', '-9', '42'], dtype=np.string_)\n",
    "#numeric_strings.astype(int)\n",
    "#numeric_strings = np.array([\"1\", \"-9\", \"42\"], dtype=np.string_)\n",
    "#numeric_strings.astype(np.int32)"
   ]
  },
  {
   "cell_type": "code",
   "execution_count": null,
   "metadata": {
    "id": "JOc-Q5vNnDL4"
   },
   "outputs": [],
   "source": [
    "### another way of casting using dtype attribute\n",
    "int_array = np.arange(10)\n",
    "cal = np.array([.22, .270, .357, .380, .44, .50], dtype=np.float64)\n",
    "int_array.astype(cal.dtype)"
   ]
  },
  {
   "cell_type": "markdown",
   "metadata": {
    "id": "01tKAvHZrIuL"
   },
   "source": [
    "***iNote*** :Calling ***astype*** always creates a new array (a copy of the data), even if the new dtype is the same as the old dtype."
   ]
  },
  {
   "cell_type": "code",
   "execution_count": null,
   "metadata": {
    "id": "0qv5jnLRnDL5"
   },
   "outputs": [],
   "source": [
    "### shorthand type code strings you can also use to refer to a dtype\n",
    "zeros_uint32 = np.zeros(8, dtype=\"u4\")\n",
    "zeros_uint32"
   ]
  },
  {
   "cell_type": "markdown",
   "metadata": {
    "id": "mc1mK0D5r3dI"
   },
   "source": [
    "# **Arithmetic with NumPy Arrays**"
   ]
  },
  {
   "cell_type": "code",
   "execution_count": null,
   "metadata": {
    "id": "K9XAFjGHnDL5"
   },
   "outputs": [],
   "source": [
    "### vectorization: batch operations on data without writing any for loops\n",
    "### Arithmetic operations between equal-size arrays applies the operation element-wise\n",
    "arr = np.array([[1., 2., 3.], [4., 5., 6.]])\n",
    "arr\n",
    "#arr * arr\n",
    "#arr - arr"
   ]
  },
  {
   "cell_type": "code",
   "execution_count": null,
   "metadata": {
    "id": "qyUda_ZAnDL6"
   },
   "outputs": [],
   "source": [
    "### More operations Arithmetic operations with scalars propagate the scalar\n",
    "### argument to each element in the array\n",
    "1 / arr\n",
    "#arr ** 2"
   ]
  },
  {
   "cell_type": "code",
   "execution_count": null,
   "metadata": {
    "id": "PPtIlxxWnDL6"
   },
   "outputs": [],
   "source": [
    "### Comparisons between arrays of the same size yield boolean arrays\n",
    "arr2 = np.array([[0., 4., 1.], [7., 2., 12.]])\n",
    "arr2\n",
    "arr2 > arr"
   ]
  },
  {
   "cell_type": "markdown",
   "metadata": {
    "id": "zrOVWBi9xS27"
   },
   "source": [
    "# **Basic Indexing and Slicing**"
   ]
  },
  {
   "cell_type": "code",
   "execution_count": null,
   "metadata": {
    "colab": {
     "base_uri": "https://localhost:8080/"
    },
    "id": "s3X9u3LVnDL7",
    "outputId": "399dad5f-57da-431c-c355-a15cc00efdd1"
   },
   "outputs": [
    {
     "data": {
      "text/plain": [
       "array([0, 1, 2, 3, 4, 5, 6, 7, 8, 9])"
      ]
     },
     "execution_count": 128,
     "metadata": {},
     "output_type": "execute_result"
    }
   ],
   "source": [
    "arr = np.arange(10)\n",
    "arr\n",
    "#arr[5]\n",
    "#arr[5:8]\n",
    "#arr[5:8] = 12 # if you assign a scalar value to a slice, as in arr[5:8] = 12, the value is propagated (or broadcasted henceforth) to the entire selection.\n",
    "#arr"
   ]
  },
  {
   "cell_type": "markdown",
   "metadata": {
    "id": "UVi2_jGIz1w8"
   },
   "source": [
    "***iNote*** : An important first distinction from Python’s built-in lists is that\n",
    "array slices are views on the original array. This means that the data is not\n",
    "copied, and any modifications to the view will be reflected in the source\n",
    "array."
   ]
  },
  {
   "cell_type": "code",
   "execution_count": null,
   "metadata": {
    "colab": {
     "base_uri": "https://localhost:8080/"
    },
    "id": "6cWCHJtHnDL7",
    "outputId": "ae2cc67f-50b8-47eb-fef2-7cadbffacc29"
   },
   "outputs": [
    {
     "data": {
      "text/plain": [
       "array([5, 6, 7])"
      ]
     },
     "execution_count": 129,
     "metadata": {},
     "output_type": "execute_result"
    }
   ],
   "source": [
    "arr_slice = arr[5:8]\n",
    "arr_slice"
   ]
  },
  {
   "cell_type": "code",
   "execution_count": null,
   "metadata": {
    "colab": {
     "base_uri": "https://localhost:8080/"
    },
    "id": "anCfF7_gnDL8",
    "outputId": "3160867e-f84f-4ade-be62-df1e17d77420"
   },
   "outputs": [
    {
     "data": {
      "text/plain": [
       "array([    0,     1,     2,     3,     4,     5, 12345,     7,     8,\n",
       "           9])"
      ]
     },
     "execution_count": 130,
     "metadata": {},
     "output_type": "execute_result"
    }
   ],
   "source": [
    "arr_slice[1] = 12345 # the mutations are reflected in the original array arr\n",
    "arr"
   ]
  },
  {
   "cell_type": "code",
   "execution_count": null,
   "metadata": {
    "colab": {
     "base_uri": "https://localhost:8080/"
    },
    "id": "LgrF-rQxnDL8",
    "outputId": "b030adf7-377a-490b-889b-4b6ab0299f4e"
   },
   "outputs": [
    {
     "data": {
      "text/plain": [
       "array([ 0,  1,  2,  3,  4, 64, 64, 64,  8,  9])"
      ]
     },
     "execution_count": 131,
     "metadata": {},
     "output_type": "execute_result"
    }
   ],
   "source": [
    "### The “bare” slice [:] will assign to all values in an array\n",
    "arr_slice[:] = 64\n",
    "arr"
   ]
  },
  {
   "cell_type": "code",
   "execution_count": null,
   "metadata": {
    "id": "akYLWbjUnDL8"
   },
   "outputs": [],
   "source": [
    "### higher dimensional arrays; the elements at each index are no longer scalars but rather one-dimensional arrays\n",
    "arr2d = np.array([[1, 2, 3], [4, 5, 6], [7, 8, 9]])\n",
    "arr2d[2]"
   ]
  },
  {
   "cell_type": "code",
   "execution_count": null,
   "metadata": {
    "colab": {
     "base_uri": "https://localhost:8080/"
    },
    "id": "P214jMehnDL9",
    "outputId": "da417174-5be2-467f-9c0c-80755acc5f81"
   },
   "outputs": [
    {
     "data": {
      "text/plain": [
       "3"
      ]
     },
     "execution_count": 136,
     "metadata": {},
     "output_type": "execute_result"
    }
   ],
   "source": [
    "### 2D Array\n",
    "arr2d[0][2]\n",
    "#arr2d[0, 2] #comma-separated list of indices to select individual elements"
   ]
  },
  {
   "cell_type": "code",
   "execution_count": null,
   "metadata": {
    "colab": {
     "base_uri": "https://localhost:8080/"
    },
    "id": "YKVhx5mJnDL9",
    "outputId": "07df2eb7-f93e-4ac5-9213-368999d7cd51"
   },
   "outputs": [
    {
     "data": {
      "text/plain": [
       "array([[[ 1,  2,  3],\n",
       "        [ 4,  5,  6]],\n",
       "\n",
       "       [[ 7,  8,  9],\n",
       "        [10, 11, 12]]])"
      ]
     },
     "execution_count": 160,
     "metadata": {},
     "output_type": "execute_result"
    }
   ],
   "source": [
    "### 3D Array\n",
    "arr3d = np.array([[[1, 2, 3], [4, 5, 6]], [[7, 8, 9], [10, 11, 12]]])\n",
    "arr3d"
   ]
  },
  {
   "cell_type": "code",
   "execution_count": null,
   "metadata": {
    "colab": {
     "base_uri": "https://localhost:8080/"
    },
    "id": "3k6g_rCXnDL-",
    "outputId": "0e570fc9-420c-4c91-ec65-7c032faedffd"
   },
   "outputs": [
    {
     "data": {
      "text/plain": [
       "array([[1, 2, 3],\n",
       "       [4, 5, 6]])"
      ]
     },
     "execution_count": 149,
     "metadata": {},
     "output_type": "execute_result"
    }
   ],
   "source": [
    "### arr3d[0] is a 2 × 3 array\n",
    "### The index 0 gives the First 2D array\n",
    "arr3d[0]"
   ]
  },
  {
   "cell_type": "code",
   "execution_count": null,
   "metadata": {
    "id": "zBeLBooYnDL-"
   },
   "outputs": [],
   "source": [
    "### Both scalar values and arrays can be assigned to arr3d[0]\n",
    "old_values = arr3d[0].copy()\n",
    "arr3d[0] = 42\n",
    "arr3d\n",
    "arr3d[0] = old_values\n",
    "arr3d"
   ]
  },
  {
   "cell_type": "code",
   "execution_count": null,
   "metadata": {
    "id": "WgN60rFHnDL_"
   },
   "outputs": [],
   "source": [
    "### arr3d[1, 0] gives you all of the values whose indices start with (1, 0), forming a 1-dimensional array.\n",
    "arr3d[1, 0]"
   ]
  },
  {
   "cell_type": "code",
   "execution_count": null,
   "metadata": {
    "id": "Cx33xwdInDL_"
   },
   "outputs": [],
   "source": [
    "### Equivalant for arr3d[1,0] in two steps\n",
    "x = arr3d[1]\n",
    "x\n",
    "x[0]"
   ]
  },
  {
   "cell_type": "markdown",
   "metadata": {
    "id": "F0rEDGIsGkds"
   },
   "source": [
    "***iNote*** : Note that in all of these cases where subsections of the array have been selected, the returned arrays are views."
   ]
  },
  {
   "cell_type": "markdown",
   "metadata": {
    "id": "-r_l94GWGz6e"
   },
   "source": [
    "**Indexing with slices**"
   ]
  },
  {
   "cell_type": "code",
   "execution_count": null,
   "metadata": {
    "id": "yyseAOl5nDMB"
   },
   "outputs": [],
   "source": [
    "### ndarrays can be sliced with the familiar syntax\n",
    "arr\n",
    "arr[1:6]"
   ]
  },
  {
   "cell_type": "code",
   "execution_count": null,
   "metadata": {
    "id": "044uBAFWIqJ3"
   },
   "outputs": [],
   "source": [
    "### 2D array arr2d\n",
    "arr2d"
   ]
  },
  {
   "cell_type": "code",
   "execution_count": null,
   "metadata": {
    "id": "ArZlkJdEnDMC"
   },
   "outputs": [],
   "source": [
    "### Slicing two-dimensional array arr2d\n",
    "arr2d\n",
    "arr2d[:2] # the first two rows of arr2d"
   ]
  },
  {
   "cell_type": "code",
   "execution_count": null,
   "metadata": {
    "id": "GA1ydeN8nDMF"
   },
   "outputs": [],
   "source": [
    "### multiple slices\n",
    "arr2d[:2, 1:] #"
   ]
  },
  {
   "cell_type": "markdown",
   "metadata": {
    "id": "QiZGpNXtJgu-"
   },
   "source": [
    "***iNote*** : When slicing like this, you always obtain array views of the same number of dimensions."
   ]
  },
  {
   "cell_type": "code",
   "execution_count": null,
   "metadata": {
    "id": "k246tGTCPs6n"
   },
   "outputs": [],
   "source": [
    "#$$ mixing integer indexes and slices, you get lower dimensional slices\n",
    "arr2d"
   ]
  },
  {
   "cell_type": "code",
   "execution_count": null,
   "metadata": {
    "id": "IbjLTrcenDMG"
   },
   "outputs": [],
   "source": [
    "### second row but only the first two columns\n",
    "lower_dim_slice = arr2d[2, :2]\n",
    "lower_dim_slice"
   ]
  },
  {
   "cell_type": "code",
   "execution_count": null,
   "metadata": {
    "id": "Z1EUaAr_nDMH"
   },
   "outputs": [],
   "source": [
    "### shape of lower_dim_slice\n",
    "lower_dim_slice.shape"
   ]
  },
  {
   "cell_type": "code",
   "execution_count": null,
   "metadata": {
    "id": "iCyap51MnDMH"
   },
   "outputs": [],
   "source": [
    "### third column but only the first two rows\n",
    "arr2d[:2, 2]"
   ]
  },
  {
   "cell_type": "code",
   "execution_count": null,
   "metadata": {
    "id": "RbCQN8YJnDMH"
   },
   "outputs": [],
   "source": [
    "### a colon by itself means to take the entire axis, so you can slice only higher dimensional axes by doing\n",
    "arr2d[:, :1]"
   ]
  },
  {
   "cell_type": "code",
   "execution_count": null,
   "metadata": {
    "id": "qshQdX0JnDMW"
   },
   "outputs": [],
   "source": [
    "### assigning to a slice expression assigns to the whole selection [fig. 4.2]\n",
    "arr2d[:2, 1:] = 0\n",
    "arr2d"
   ]
  },
  {
   "cell_type": "markdown",
   "metadata": {
    "id": "Wy3Mr9d6SK50"
   },
   "source": [
    "**Boolean Indexing**"
   ]
  },
  {
   "cell_type": "code",
   "execution_count": null,
   "metadata": {
    "colab": {
     "base_uri": "https://localhost:8080/"
    },
    "id": "KthLcYbBnDMX",
    "outputId": "eed3152b-d2ce-42c4-ed3f-0d7c3246cd81"
   },
   "outputs": [
    {
     "data": {
      "text/plain": [
       "array([[  4,   7],\n",
       "       [  0,   2],\n",
       "       [ -5,   6],\n",
       "       [  0,   0],\n",
       "       [  1,   2],\n",
       "       [-12,  -4],\n",
       "       [  3,   4]])"
      ]
     },
     "execution_count": 251,
     "metadata": {},
     "output_type": "execute_result"
    }
   ],
   "source": [
    "names = np.array([\"Bob\", \"Joe\", \"Will\", \"Bob\", \"Will\", \"Joe\", \"Joe\"])\n",
    "data = np.array([[4, 7], [0, 2], [-5, 6], [0, 0], [1, 2],\n",
    "                 [-12, -4], [3, 4]])\n",
    "#names\n",
    "data"
   ]
  },
  {
   "cell_type": "markdown",
   "metadata": {
    "id": "DLrgUXYzUtEm"
   },
   "source": [
    "Suppose each name corresponds to a row in the data array and we wanted to select all the rows with corresponding name 'Bob'. Like arithmetic operations, comparisons (such as ==) with arrays are also vectorized. Thus, comparing names with the string 'Bob' yields a boolean array"
   ]
  },
  {
   "cell_type": "code",
   "execution_count": null,
   "metadata": {
    "colab": {
     "base_uri": "https://localhost:8080/"
    },
    "id": "9-IRm3HcnDMY",
    "outputId": "fbdc53b5-edae-4315-f5f1-9d3002d57d5c"
   },
   "outputs": [
    {
     "data": {
      "text/plain": [
       "array([ True, False, False,  True, False, False, False])"
      ]
     },
     "execution_count": 236,
     "metadata": {},
     "output_type": "execute_result"
    }
   ],
   "source": [
    "names == \"Bob\""
   ]
  },
  {
   "cell_type": "markdown",
   "metadata": {
    "id": "xs2TzZw_Uzcx"
   },
   "source": [
    "This boolean array can be passed when indexing the array"
   ]
  },
  {
   "cell_type": "code",
   "execution_count": null,
   "metadata": {
    "colab": {
     "base_uri": "https://localhost:8080/"
    },
    "id": "oD12pq2mnDMY",
    "outputId": "fc2ed92a-927c-41a3-8351-5db7d2c2c3ae"
   },
   "outputs": [
    {
     "data": {
      "text/plain": [
       "array([[4, 7],\n",
       "       [0, 0]])"
      ]
     },
     "execution_count": 237,
     "metadata": {},
     "output_type": "execute_result"
    }
   ],
   "source": [
    "data[names == \"Bob\"]"
   ]
  },
  {
   "cell_type": "markdown",
   "metadata": {
    "id": "a11tVtVyVAB8"
   },
   "source": [
    "The boolean array must be of the same length as the array axis it’s indexing. You can even mix and match boolean arrays with slices or integers"
   ]
  },
  {
   "cell_type": "code",
   "execution_count": null,
   "metadata": {
    "colab": {
     "base_uri": "https://localhost:8080/"
    },
    "id": "xA5uV_8pnDMY",
    "outputId": "3612e96f-7ba6-4b4d-923d-b954f61687bb"
   },
   "outputs": [
    {
     "data": {
      "text/plain": [
       "array([7, 0])"
      ]
     },
     "execution_count": 246,
     "metadata": {},
     "output_type": "execute_result"
    }
   ],
   "source": [
    "data[names == \"Bob\", 1:]\n",
    "data[names == \"Bob\", 1]"
   ]
  },
  {
   "cell_type": "code",
   "execution_count": null,
   "metadata": {
    "colab": {
     "base_uri": "https://localhost:8080/"
    },
    "id": "r1mqZIq5nDMZ",
    "outputId": "2cb20451-abb5-470c-b100-0c8b339d81c6"
   },
   "outputs": [
    {
     "data": {
      "text/plain": [
       "array([[  0,   2],\n",
       "       [ -5,   6],\n",
       "       [  1,   2],\n",
       "       [-12,  -4],\n",
       "       [  3,   4]])"
      ]
     },
     "execution_count": 250,
     "metadata": {},
     "output_type": "execute_result"
    }
   ],
   "source": [
    "### To select everything but 'Bob', you can either use != or negate the condition using ~:\n",
    "names != \"Bob\"\n",
    "#~(names == \"Bob\")\n",
    "#data[~(names == \"Bob\")]"
   ]
  },
  {
   "cell_type": "code",
   "execution_count": null,
   "metadata": {
    "colab": {
     "base_uri": "https://localhost:8080/"
    },
    "id": "YS_jxsBEnDMZ",
    "outputId": "bd166151-5402-4da4-8a4e-9c65c956e9bc"
   },
   "outputs": [
    {
     "data": {
      "text/plain": [
       "array([[  0,   2],\n",
       "       [ -5,   6],\n",
       "       [  1,   2],\n",
       "       [-12,  -4],\n",
       "       [  3,   4]])"
      ]
     },
     "execution_count": 252,
     "metadata": {},
     "output_type": "execute_result"
    }
   ],
   "source": [
    "### The ~ operator can be useful when you want to invert a boolean array referenced by a variable\n",
    "cond = names == \"Bob\"\n",
    "data[~cond]"
   ]
  },
  {
   "cell_type": "markdown",
   "metadata": {
    "id": "f2vo-z9TXG97"
   },
   "source": [
    "**Boolean arithmetic operators like & (and) and | (or)**"
   ]
  },
  {
   "cell_type": "code",
   "execution_count": null,
   "metadata": {
    "colab": {
     "base_uri": "https://localhost:8080/"
    },
    "id": "GtlAcwA2nDMa",
    "outputId": "73933214-83cf-40ee-ed93-dbd4827b797c"
   },
   "outputs": [
    {
     "data": {
      "text/plain": [
       "array([[4, 7],\n",
       "       [0, 6],\n",
       "       [0, 0],\n",
       "       [1, 2]])"
      ]
     },
     "execution_count": 255,
     "metadata": {},
     "output_type": "execute_result"
    }
   ],
   "source": [
    "mask = (names == \"Bob\") | (names == \"Will\")\n",
    "mask\n",
    "data[mask]"
   ]
  },
  {
   "cell_type": "markdown",
   "metadata": {
    "id": "8ceB77NoXk15"
   },
   "source": [
    "***iNote*** : Selecting data from an array by boolean indexing always creates a copy of the data, even if the returned array is unchanged"
   ]
  },
  {
   "cell_type": "code",
   "execution_count": null,
   "metadata": {
    "colab": {
     "base_uri": "https://localhost:8080/"
    },
    "id": "WtvR7UDYnDMa",
    "outputId": "699c3ebd-c43f-4577-a199-24ce9e5defae"
   },
   "outputs": [
    {
     "data": {
      "text/plain": [
       "array([[4, 7],\n",
       "       [0, 2],\n",
       "       [0, 6],\n",
       "       [0, 0],\n",
       "       [1, 2],\n",
       "       [0, 0],\n",
       "       [3, 4]])"
      ]
     },
     "execution_count": 254,
     "metadata": {},
     "output_type": "execute_result"
    }
   ],
   "source": [
    "### set all of the negative values in data to 0\n",
    "data[data < 0] = 0\n",
    "data"
   ]
  },
  {
   "cell_type": "code",
   "execution_count": null,
   "metadata": {
    "colab": {
     "base_uri": "https://localhost:8080/"
    },
    "id": "WeNIqhdHnDMb",
    "outputId": "95e17131-3318-45a5-cf9e-5be396883e11"
   },
   "outputs": [
    {
     "data": {
      "text/plain": [
       "array([[7, 7],\n",
       "       [0, 2],\n",
       "       [7, 7],\n",
       "       [7, 7],\n",
       "       [7, 7],\n",
       "       [0, 0],\n",
       "       [3, 4]])"
      ]
     },
     "execution_count": 256,
     "metadata": {},
     "output_type": "execute_result"
    }
   ],
   "source": [
    "### Setting whole rows or columns using a one-dimensional boolean array\n",
    "data[names != \"Joe\"] = 7\n",
    "data"
   ]
  },
  {
   "cell_type": "markdown",
   "metadata": {
    "id": "WlfVWENYYtxf"
   },
   "source": [
    "**Fancy Indexing**\n",
    "\n",
    "indexing using integer arrays"
   ]
  },
  {
   "cell_type": "code",
   "execution_count": null,
   "metadata": {
    "colab": {
     "base_uri": "https://localhost:8080/"
    },
    "id": "ZEEgWPuknDMb",
    "outputId": "b95ece42-0cd6-4bbc-cb47-f9b31b42ce61"
   },
   "outputs": [
    {
     "data": {
      "text/plain": [
       "array([[0., 0., 0., 0.],\n",
       "       [1., 1., 1., 1.],\n",
       "       [2., 2., 2., 2.],\n",
       "       [3., 3., 3., 3.],\n",
       "       [4., 4., 4., 4.],\n",
       "       [5., 5., 5., 5.],\n",
       "       [6., 6., 6., 6.],\n",
       "       [7., 7., 7., 7.]])"
      ]
     },
     "execution_count": 257,
     "metadata": {},
     "output_type": "execute_result"
    }
   ],
   "source": [
    "### creating an 8 x 4 array\n",
    "arr = np.zeros((8, 4))\n",
    "for i in range(8):\n",
    "    arr[i] = i\n",
    "arr"
   ]
  },
  {
   "cell_type": "code",
   "execution_count": null,
   "metadata": {
    "colab": {
     "base_uri": "https://localhost:8080/"
    },
    "id": "YpDOEbsknDMb",
    "outputId": "75bdd7a8-3f0b-4201-ab96-5a1e827ec0a1"
   },
   "outputs": [
    {
     "data": {
      "text/plain": [
       "array([[4., 4., 4., 4.],\n",
       "       [3., 3., 3., 3.],\n",
       "       [0., 0., 0., 0.],\n",
       "       [6., 6., 6., 6.]])"
      ]
     },
     "execution_count": 258,
     "metadata": {},
     "output_type": "execute_result"
    }
   ],
   "source": [
    "### To select out a subset of the rows in a particular order, you can simply pass a list or ndarray of integers specifying the desired order\n",
    "arr[[4, 3, 0, 6]]"
   ]
  },
  {
   "cell_type": "code",
   "execution_count": null,
   "metadata": {
    "colab": {
     "base_uri": "https://localhost:8080/"
    },
    "id": "qeL5s75nnDMc",
    "outputId": "45c11d17-87b6-4ba2-da5b-42fdc982e13e"
   },
   "outputs": [
    {
     "data": {
      "text/plain": [
       "array([[5., 5., 5., 5.],\n",
       "       [3., 3., 3., 3.],\n",
       "       [1., 1., 1., 1.]])"
      ]
     },
     "execution_count": 259,
     "metadata": {},
     "output_type": "execute_result"
    }
   ],
   "source": [
    "### Using negative indices selects rows from the end\n",
    "arr[[-3, -5, -7]]"
   ]
  },
  {
   "cell_type": "code",
   "execution_count": null,
   "metadata": {
    "colab": {
     "base_uri": "https://localhost:8080/"
    },
    "id": "5WaNBmibnDMc",
    "outputId": "6eee642b-693f-4ff6-8ebd-39815826f05b"
   },
   "outputs": [
    {
     "data": {
      "text/plain": [
       "array([[ 0,  1,  2,  3],\n",
       "       [ 4,  5,  6,  7],\n",
       "       [ 8,  9, 10, 11],\n",
       "       [12, 13, 14, 15],\n",
       "       [16, 17, 18, 19],\n",
       "       [20, 21, 22, 23],\n",
       "       [24, 25, 26, 27],\n",
       "       [28, 29, 30, 31]])"
      ]
     },
     "execution_count": 263,
     "metadata": {},
     "output_type": "execute_result"
    }
   ],
   "source": [
    "### Creating a multi dimentional array\n",
    "arr = np.arange(32).reshape((8, 4))\n",
    "arr\n",
    "#arr[[1, 5, 7, 2], [0, 3, 1, 2]]"
   ]
  },
  {
   "cell_type": "markdown",
   "metadata": {
    "id": "R6J9JFKebBWj"
   },
   "source": [
    "Here the elements (1, 0), (5, 3), (7, 1), and (2, 2) were\n",
    "selected. Regardless of how many dimensions the array has (here, only 2), the result of fancy indexing with multiple integer arrays is always onedimensional."
   ]
  },
  {
   "cell_type": "code",
   "execution_count": null,
   "metadata": {
    "colab": {
     "base_uri": "https://localhost:8080/"
    },
    "id": "WOG1_TdrnDMd",
    "outputId": "cac1b51f-be94-4452-907f-24c69434f0fc"
   },
   "outputs": [
    {
     "data": {
      "text/plain": [
       "array([[ 4,  7,  5,  6],\n",
       "       [20, 23, 21, 22],\n",
       "       [28, 31, 29, 30],\n",
       "       [ 8, 11,  9, 10]])"
      ]
     },
     "execution_count": 262,
     "metadata": {},
     "output_type": "execute_result"
    }
   ],
   "source": [
    "arr[[1, 5, 7, 2]][:, [0, 3, 1, 2]]"
   ]
  },
  {
   "cell_type": "markdown",
   "metadata": {
    "id": "uQJZsEJNcAxJ"
   },
   "source": [
    "***iNote*** : Fancy indexing, unlike slicing, always copies the data\n",
    "into a new array."
   ]
  },
  {
   "cell_type": "code",
   "execution_count": null,
   "metadata": {
    "colab": {
     "base_uri": "https://localhost:8080/"
    },
    "id": "BOqo2njZnDMe",
    "outputId": "b0637b67-87ab-4e9f-d454-54b91d00faf7"
   },
   "outputs": [
    {
     "data": {
      "text/plain": [
       "array([[ 0,  1,  2,  3],\n",
       "       [ 0,  5,  6,  7],\n",
       "       [ 8,  9,  0, 11],\n",
       "       [12, 13, 14, 15],\n",
       "       [16, 17, 18, 19],\n",
       "       [20, 21, 22,  0],\n",
       "       [24, 25, 26, 27],\n",
       "       [28,  0, 30, 31]])"
      ]
     },
     "execution_count": 264,
     "metadata": {},
     "output_type": "execute_result"
    }
   ],
   "source": [
    "arr[[1, 5, 7, 2], [0, 3, 1, 2]]\n",
    "arr[[1, 5, 7, 2], [0, 3, 1, 2]] = 0\n",
    "arr"
   ]
  },
  {
   "cell_type": "markdown",
   "metadata": {
    "id": "Rjl38KH-cRKd"
   },
   "source": [
    "# **Transposing Arrays and Swapping Axes**\n",
    "\n",
    "Transposing is a special form of reshaping that similarly returns a view on the underlying data without copying anything"
   ]
  },
  {
   "cell_type": "code",
   "execution_count": null,
   "metadata": {
    "colab": {
     "base_uri": "https://localhost:8080/"
    },
    "id": "r2ZVsLF_nDMe",
    "outputId": "a2d1cf12-6185-49d4-c012-cd086a42926e"
   },
   "outputs": [
    {
     "data": {
      "text/plain": [
       "array([[ 0,  1,  2,  3,  4],\n",
       "       [ 5,  6,  7,  8,  9],\n",
       "       [10, 11, 12, 13, 14]])"
      ]
     },
     "execution_count": 267,
     "metadata": {},
     "output_type": "execute_result"
    }
   ],
   "source": [
    "### Creating a 3 x 5 array\n",
    "arr = np.arange(15).reshape((3, 5))\n",
    "arr"
   ]
  },
  {
   "cell_type": "code",
   "execution_count": null,
   "metadata": {
    "colab": {
     "base_uri": "https://localhost:8080/"
    },
    "id": "cqgnArX4ddwE",
    "outputId": "6fba742d-c8da-4984-b1d2-66dfe23e72bf"
   },
   "outputs": [
    {
     "data": {
      "text/plain": [
       "array([[ 0,  5, 10],\n",
       "       [ 1,  6, 11],\n",
       "       [ 2,  7, 12],\n",
       "       [ 3,  8, 13],\n",
       "       [ 4,  9, 14]])"
      ]
     },
     "execution_count": 268,
     "metadata": {},
     "output_type": "execute_result"
    }
   ],
   "source": [
    "### Arrays have the transpose method and also the special T attribute\n",
    "arr.T"
   ]
  },
  {
   "cell_type": "code",
   "execution_count": null,
   "metadata": {
    "colab": {
     "base_uri": "https://localhost:8080/"
    },
    "id": "Idva41RaebQ8",
    "outputId": "c53c5de8-7377-479b-c3d2-25ca8a445fef"
   },
   "outputs": [
    {
     "data": {
      "text/plain": [
       "array([[17, 22, 27],\n",
       "       [22, 29, 36],\n",
       "       [27, 36, 45]])"
      ]
     },
     "execution_count": 274,
     "metadata": {},
     "output_type": "execute_result"
    }
   ],
   "source": [
    "### Inner matrix product\n",
    "arr = np.array([[1, 2, 3], [4, 5, 6]])\n",
    "arr\n",
    "#np.dot(arr.T, arr)"
   ]
  },
  {
   "cell_type": "code",
   "execution_count": null,
   "metadata": {
    "colab": {
     "base_uri": "https://localhost:8080/"
    },
    "id": "d_3r0zonnDMf",
    "outputId": "696dd7c2-113e-4c14-facc-f0fb34bf855f"
   },
   "outputs": [
    {
     "data": {
      "text/plain": [
       "array([[ 0,  1,  0],\n",
       "       [ 1,  2, -2],\n",
       "       [ 6,  3,  2],\n",
       "       [-1,  0, -1],\n",
       "       [ 1,  0,  1]])"
      ]
     },
     "execution_count": 277,
     "metadata": {},
     "output_type": "execute_result"
    }
   ],
   "source": [
    "### Inner matrix product\n",
    "arr = np.array([[0, 1, 0], [1, 2, -2], [6, 3, 2], [-1, 0, -1], [1, 0, 1]])\n",
    "arr\n",
    "#np.dot(arr.T, arr)"
   ]
  },
  {
   "cell_type": "code",
   "execution_count": null,
   "metadata": {
    "colab": {
     "base_uri": "https://localhost:8080/"
    },
    "id": "LIl_ivAsnDMf",
    "outputId": "637e6ead-1d37-4244-925e-6ff8f2a0d3da"
   },
   "outputs": [
    {
     "data": {
      "text/plain": [
       "array([[39, 20, 12],\n",
       "       [20, 14,  2],\n",
       "       [12,  2, 10]])"
      ]
     },
     "execution_count": 278,
     "metadata": {},
     "output_type": "execute_result"
    }
   ],
   "source": [
    "### The @ infix operator is another way to do matrix multiplication\n",
    "arr.T @ arr"
   ]
  },
  {
   "cell_type": "markdown",
   "metadata": {
    "id": "beBFk3K7gJSc"
   },
   "source": [
    "**Swap axes**"
   ]
  },
  {
   "cell_type": "code",
   "execution_count": null,
   "metadata": {
    "colab": {
     "base_uri": "https://localhost:8080/"
    },
    "id": "BXmvePsbnDMg",
    "outputId": "cf427675-5308-42b9-cd36-05d50debc446"
   },
   "outputs": [
    {
     "data": {
      "text/plain": [
       "array([[ 0,  1,  0],\n",
       "       [ 1,  2, -2],\n",
       "       [ 6,  3,  2],\n",
       "       [-1,  0, -1],\n",
       "       [ 1,  0,  1]])"
      ]
     },
     "execution_count": 288,
     "metadata": {},
     "output_type": "execute_result"
    }
   ],
   "source": [
    "arr\n",
    "arr.swapaxes(0, 1)"
   ]
  },
  {
   "cell_type": "markdown",
   "metadata": {
    "id": "z34GPDgfhbpj"
   },
   "source": [
    "***iNote*** : swapaxes returns a view on the data without making a copy."
   ]
  },
  {
   "cell_type": "markdown",
   "metadata": {
    "id": "WP-w0Jhvh2kg"
   },
   "source": [
    "# **Universal Functions: Fast Element-Wise Array Functions**\n",
    "\n",
    "A universal function, or ***ufunc***, is a function that performs element-wise\n",
    "operations on data in ndarrays. You can think of them as fast vectorized\n",
    "wrappers for simple functions that take one or more scalar values and\n",
    "produce one or more scalar results."
   ]
  },
  {
   "cell_type": "code",
   "execution_count": null,
   "metadata": {
    "colab": {
     "base_uri": "https://localhost:8080/"
    },
    "id": "PxzzbK6inDMh",
    "outputId": "f52051dc-fab0-4ed8-94a2-7ec23558f21d"
   },
   "outputs": [
    {
     "data": {
      "text/plain": [
       "array([1.00000000e+00, 2.71828183e+00, 7.38905610e+00, 2.00855369e+01,\n",
       "       5.45981500e+01, 1.48413159e+02, 4.03428793e+02, 1.09663316e+03,\n",
       "       2.98095799e+03, 8.10308393e+03])"
      ]
     },
     "execution_count": 318,
     "metadata": {},
     "output_type": "execute_result"
    }
   ],
   "source": [
    "### unary ufuncs\n",
    "arr = np.arange(10)\n",
    "arr\n",
    "np.sqrt(arr)\n",
    "np.exp(arr)"
   ]
  },
  {
   "cell_type": "code",
   "execution_count": 42,
   "metadata": {
    "colab": {
     "base_uri": "https://localhost:8080/"
    },
    "id": "gnpQ61yhnDMi",
    "outputId": "6d45000c-476e-431d-f374-6fffcb6753f7"
   },
   "outputs": [
    {
     "data": {
      "text/plain": [
       "array([ 1.32098715,  0.77784584,  0.25036766,  0.85827789, -1.12113236,\n",
       "        1.17969142, -1.07593303,  1.38893343])"
      ]
     },
     "execution_count": 42,
     "metadata": {},
     "output_type": "execute_result"
    }
   ],
   "source": [
    "### binary ufuncs take two arrays and return a single array as the result\n",
    "x = np.random.standard_normal(8) # Draw samples from a standard Normal distribution (mean=0, stdev=1)\n",
    "y = np.random.standard_normal(8)\n",
    "x\n",
    "y\n",
    "#np.maximum(x, y) ### computed the element-wise maximum of the elements in x and y"
   ]
  },
  {
   "cell_type": "code",
   "execution_count": null,
   "metadata": {
    "colab": {
     "base_uri": "https://localhost:8080/"
    },
    "id": "-n2o7aAInDMi",
    "outputId": "e5fa040c-2dce-4289-d888-554381d723c2"
   },
   "outputs": [
    {
     "data": {
      "text/plain": [
       "array([ 1.,  0.,  1.,  0.,  2., -5., -9.])"
      ]
     },
     "execution_count": 310,
     "metadata": {},
     "output_type": "execute_result"
    }
   ],
   "source": [
    "### modf function: it returns the fractional and integral parts of a floating-point array\n",
    "arr = np.random.standard_normal(7) * 5\n",
    "arr\n",
    "remainder, whole_part = np.modf(arr)\n",
    "remainder\n",
    "whole_part"
   ]
  },
  {
   "cell_type": "code",
   "execution_count": null,
   "metadata": {
    "colab": {
     "base_uri": "https://localhost:8080/"
    },
    "id": "RGVz-9ZwnDMj",
    "outputId": "8dee0a82-f08a-424d-8bcc-41421bdef662"
   },
   "outputs": [
    {
     "data": {
      "text/plain": [
       "array([ 2.50260435,  1.26528323,  2.28635762,  1.17871431,  3.73618343,\n",
       "       -4.6148079 , -8.87623834])"
      ]
     },
     "execution_count": 317,
     "metadata": {},
     "output_type": "execute_result"
    }
   ],
   "source": [
    "### add function\n",
    "arr\n",
    "#out = np.zeros_like(arr)\n",
    "np.add(arr, 1)\n",
    "#np.add(arr, 1, out=out)\n",
    "#out"
   ]
  },
  {
   "cell_type": "markdown",
   "metadata": {
    "id": "bZ3vmIcrl2qo"
   },
   "source": [
    "***iNote*** : Ufuncs accept an optional out argument that allows them to assign their results into an existing array rather than creating a new one.\n",
    "Refer to table 4.3 and 4.4 for a listing of some of NumPy’s ufuncs."
   ]
  },
  {
   "cell_type": "markdown",
   "metadata": {
    "id": "gbAkCVHZDrhQ"
   },
   "source": [
    "# **Expressing Conditional Logic as Array Operations**\n",
    "The ***numpy.where*** function is a vectorized version of the ternary\n",
    "expression x if condition else y."
   ]
  },
  {
   "cell_type": "code",
   "execution_count": null,
   "metadata": {
    "id": "85TTRo4inDMn"
   },
   "outputs": [],
   "source": [
    "###\n",
    "xarr = np.array([1.1, 1.2, 1.3, 1.4, 1.5])\n",
    "yarr = np.array([2.1, 2.2, 2.3, 2.4, 2.5])\n",
    "cond = np.array([True, False, True, True, False])"
   ]
  },
  {
   "cell_type": "code",
   "execution_count": null,
   "metadata": {
    "id": "jz8tT95NnDMn"
   },
   "outputs": [],
   "source": [
    "###\n",
    "result = [(x if c else y)\n",
    "          for x, y, c in zip(xarr, yarr, cond)]\n",
    "result"
   ]
  },
  {
   "cell_type": "code",
   "execution_count": null,
   "metadata": {
    "id": "09LoJbFUnDMo"
   },
   "outputs": [],
   "source": [
    "###\n",
    "result = np.where(cond, xarr, yarr)\n",
    "result"
   ]
  },
  {
   "cell_type": "code",
   "execution_count": null,
   "metadata": {
    "id": "vqCL-5yMnDMo"
   },
   "outputs": [],
   "source": [
    "###\n",
    "arr = np.random.standard_normal((4, 4))\n",
    "arr\n",
    "arr > 0\n",
    "np.where(arr > 0, 2, -2)"
   ]
  },
  {
   "cell_type": "code",
   "execution_count": null,
   "metadata": {
    "id": "vq-EQTwOnDMp"
   },
   "outputs": [],
   "source": [
    "###\n",
    "np.where(arr > 0, 2, arr) # set only positive values to 2"
   ]
  },
  {
   "cell_type": "markdown",
   "metadata": {
    "id": "8DFTSTSK-5gx"
   },
   "source": [
    "# **Mathematical and Statistical Methods**\n",
    "A set of mathematical functions that compute statistics about an entire array or about the data along an axis are accessible as methods of the array class."
   ]
  },
  {
   "cell_type": "code",
   "execution_count": null,
   "metadata": {
    "id": "TZvlin0tnDMs"
   },
   "outputs": [],
   "source": [
    "### normally distributed random data and compute some aggregate statistics\n",
    "arr = np.random.standard_normal((5, 4))\n",
    "arr\n",
    "arr.mean()\n",
    "np.mean(arr)\n",
    "arr.sum()"
   ]
  },
  {
   "cell_type": "code",
   "execution_count": null,
   "metadata": {
    "id": "3I-sBcYSlFW_"
   },
   "outputs": [],
   "source": [
    "### Functions mean and sum take an optional axis argument that computes the statistic over the given axis, resulting in an array with one less dimension\n",
    "xArr = np.array([[1, 2, 3], [4, 5, 6]])\n",
    "xArr.mean(axis=1)\n",
    "xArr.sum(axis=0)"
   ]
  },
  {
   "cell_type": "code",
   "execution_count": null,
   "metadata": {
    "id": "2UojN-3inDMt"
   },
   "outputs": [],
   "source": [
    "### cumsum and cumprod do not aggregate, instead produce an array of the intermediate results\n",
    "xArr = np.array([0, 1, 2, 3, 4, 5, 6, 7])\n",
    "xArr.cumsum()\n",
    "xArr.cumprod()"
   ]
  },
  {
   "cell_type": "code",
   "execution_count": null,
   "metadata": {
    "id": "TVnZ83hWl3OC"
   },
   "outputs": [],
   "source": [
    "### computed along the indicated axis according to each lower dimensional slice\n",
    "xArr = np.array([[1, 2, 3], [4, 5, 6]])\n",
    "xArr.cumsum(0)\n",
    "#xArr.cumprod(1)"
   ]
  },
  {
   "cell_type": "code",
   "execution_count": null,
   "metadata": {
    "id": "fnlJrP7JnDMu"
   },
   "outputs": [],
   "source": [
    "###\n",
    "xArr3d = np.array([[0, 1, 2], [3, 4, 5], [6, 7, 8]])\n",
    "xArr3d\n",
    "xArr3d.cumsum(axis=0)\n",
    "xArr3d.cumprod(axis=1)"
   ]
  },
  {
   "cell_type": "markdown",
   "metadata": {
    "id": "rgGzQrtw7k_E"
   },
   "source": [
    "# **Methods for Boolean Arrays**\n"
   ]
  },
  {
   "cell_type": "code",
   "execution_count": 83,
   "metadata": {
    "colab": {
     "base_uri": "https://localhost:8080/"
    },
    "id": "LOad_jswnDMu",
    "outputId": "6e24a7a8-f2d0-4f62-f054-f2086967f666"
   },
   "outputs": [
    {
     "data": {
      "text/plain": [
       "4"
      ]
     },
     "execution_count": 83,
     "metadata": {},
     "output_type": "execute_result"
    }
   ],
   "source": [
    "### Boolean values are coerced to 1 (True) and 0 (False). So \"sum\" is often used as a means of counting True values in a boolean array\n",
    "#arr = np.random.standard_normal(100)\n",
    "xArr = np.array([-5, 1, 2, -1, -4, -7, 3])\n",
    "xArr\n",
    "(xArr > 0).sum() # Number of positive values\n",
    "(xArr <= 0).sum() # Number of non-positive values"
   ]
  },
  {
   "cell_type": "code",
   "execution_count": 76,
   "metadata": {
    "colab": {
     "base_uri": "https://localhost:8080/"
    },
    "id": "C6iIV-p0nDMu",
    "outputId": "768b6775-2d69-46eb-d893-bfca3ce0508a"
   },
   "outputs": [
    {
     "data": {
      "text/plain": [
       "True"
      ]
     },
     "execution_count": 76,
     "metadata": {},
     "output_type": "execute_result"
    }
   ],
   "source": [
    "### methods, \"any\" and \"all\" are useful especially for boolean arrays.\n",
    "### \"any\" method tests whether one or more values in an array is True,\n",
    "### \"all\" method checks if every value is True\n",
    "bools = np.array([False, False, True, False])\n",
    "bools.any()\n",
    "#bools.all()"
   ]
  },
  {
   "cell_type": "markdown",
   "metadata": {
    "id": "mjhtOA-A701V"
   },
   "source": [
    "***iNote*** : These methods also work with non-boolean arrays, where non-zero\n",
    "elements are treated as True."
   ]
  },
  {
   "cell_type": "markdown",
   "metadata": {
    "id": "FkvbDH9r4oS-"
   },
   "source": [
    "# **Sorting**"
   ]
  },
  {
   "cell_type": "code",
   "execution_count": 63,
   "metadata": {
    "colab": {
     "base_uri": "https://localhost:8080/"
    },
    "id": "WMJaD8ctnDMv",
    "outputId": "d95cb8de-545b-44d9-b44d-23bf50a4e816"
   },
   "outputs": [
    {
     "data": {
      "text/plain": [
       "array([-0.85779058, -0.0928956 ,  0.12297438,  1.29199914,  1.61937963,\n",
       "        2.48882931])"
      ]
     },
     "execution_count": 63,
     "metadata": {},
     "output_type": "execute_result"
    }
   ],
   "source": [
    "### NumPy arrays can be sorted in-place with the sort method\n",
    "arr = np.random.standard_normal(6)\n",
    "arr\n",
    "arr.sort()\n",
    "arr"
   ]
  },
  {
   "cell_type": "code",
   "execution_count": 64,
   "metadata": {
    "colab": {
     "base_uri": "https://localhost:8080/"
    },
    "id": "Jkcskj-JnDMw",
    "outputId": "13e6477a-6529-49b3-805e-811d4c630f35"
   },
   "outputs": [
    {
     "data": {
      "text/plain": [
       "array([[ 0.43522325, -0.43933108,  2.24474216],\n",
       "       [ 1.74481257, -0.11029615,  1.49901156],\n",
       "       [ 1.54045699, -0.29167033, -1.276872  ],\n",
       "       [-0.31921275, -0.42388507,  0.32128426],\n",
       "       [-0.43196419, -0.66223105,  0.49909259]])"
      ]
     },
     "execution_count": 64,
     "metadata": {},
     "output_type": "execute_result"
    }
   ],
   "source": [
    "### Creating a multidimentional array\n",
    "arr = np.random.standard_normal((5, 3))\n",
    "arr"
   ]
  },
  {
   "cell_type": "code",
   "execution_count": 69,
   "metadata": {
    "colab": {
     "base_uri": "https://localhost:8080/"
    },
    "id": "G_xkWGeynDMw",
    "outputId": "24033ad3-7fda-414c-a011-b26da37001ab"
   },
   "outputs": [
    {
     "data": {
      "text/plain": [
       "array([[1, 2, 5],\n",
       "       [3, 4, 7]])"
      ]
     },
     "execution_count": 69,
     "metadata": {},
     "output_type": "execute_result"
    }
   ],
   "source": [
    "### sort each one-dimensional section of values in a multidimensional array in-place along an axis by passing the axis number to sort\n",
    "xArr = np.array([[5, 1, 2], [4, 7, 3]])\n",
    "xArr.sort(axis=0)\n",
    "xArr\n",
    "#xArr.sort(axis=1)\n",
    "#xArr"
   ]
  },
  {
   "cell_type": "code",
   "execution_count": 72,
   "metadata": {
    "colab": {
     "base_uri": "https://localhost:8080/"
    },
    "id": "gNxm7tXdnDMx",
    "outputId": "50963351-66e0-4674-b1db-edbfa52226f3"
   },
   "outputs": [
    {
     "data": {
      "text/plain": [
       "array([-10,  -3,   0,   1,   5,   7])"
      ]
     },
     "execution_count": 72,
     "metadata": {},
     "output_type": "execute_result"
    }
   ],
   "source": [
    "### method np.sort returns a sorted copy of an array instead of modifying the array in-place\n",
    "arr2 = np.array([5, -10, 7, 1, 0, -3])\n",
    "np.sort(arr2)\n",
    "sorted_arr2 = np.sort(arr2)\n",
    "sorted_arr2"
   ]
  },
  {
   "cell_type": "markdown",
   "metadata": {
    "id": "2reTLCnl2ZT3"
   },
   "source": [
    "# **Unique and Other Set Logic**\n",
    "NumPy has some basic set operations for one-dimensional ndarrays."
   ]
  },
  {
   "cell_type": "code",
   "execution_count": 59,
   "metadata": {
    "colab": {
     "base_uri": "https://localhost:8080/"
    },
    "id": "pkMmvA6qnDMx",
    "outputId": "da681013-726b-4f5d-d946-a7ee66962bb3"
   },
   "outputs": [
    {
     "data": {
      "text/plain": [
       "array(['Bob', 'Joe', 'Will'], dtype='<U4')"
      ]
     },
     "execution_count": 59,
     "metadata": {},
     "output_type": "execute_result"
    }
   ],
   "source": [
    "### np.unique, which returns the sorted unique values in an array\n",
    "names = np.array([\"Bob\", \"Will\", \"Joe\", \"Bob\", \"Will\", \"Joe\", \"Joe\"])\n",
    "names\n",
    "np.unique(names)\n",
    "#ints = np.array([3, 3, 3, 2, 2, 1, 1, 4, 4])\n",
    "#np.unique(ints)"
   ]
  },
  {
   "cell_type": "code",
   "execution_count": 60,
   "metadata": {
    "colab": {
     "base_uri": "https://localhost:8080/"
    },
    "id": "OKmlyJ0tnDMx",
    "outputId": "6f4d6098-2507-412c-a7ce-9fed6d48e3fb"
   },
   "outputs": [
    {
     "data": {
      "text/plain": [
       "['Bob', 'Joe', 'Will']"
      ]
     },
     "execution_count": 60,
     "metadata": {},
     "output_type": "execute_result"
    }
   ],
   "source": [
    "### Pure Python alternative for np.unique\n",
    "sorted(set(names))"
   ]
  },
  {
   "cell_type": "code",
   "execution_count": 61,
   "metadata": {
    "colab": {
     "base_uri": "https://localhost:8080/"
    },
    "id": "5jT9Qx2VnDMx",
    "outputId": "2fcbe98d-cd6b-482e-8b77-e3b34fc8c3b8"
   },
   "outputs": [
    {
     "data": {
      "text/plain": [
       "array([ True, False, False,  True,  True, False,  True])"
      ]
     },
     "execution_count": 61,
     "metadata": {},
     "output_type": "execute_result"
    }
   ],
   "source": [
    "### np.in1d, tests membership of the values in one array in another, returning a boolean array\n",
    "values = np.array([6, 0, 0, 3, 2, 5, 6])\n",
    "np.in1d(values, [2, 3, 6])"
   ]
  },
  {
   "cell_type": "markdown",
   "metadata": {
    "id": "olrTmn3Rxv7n"
   },
   "source": [
    "# **File Input and Output with Arrays**\n",
    "NumPy is able to save and load data to and from disk in some text or binary\n",
    "formats.\n",
    "\n",
    "***np.save*** and ***np.load*** are the two functions for efficiently\n",
    "saving and loading array data on disk in NumPy’s built-in binary format.\n",
    "\n",
    "Arrays are saved by default in an uncompressed raw binary format with file extension .npy"
   ]
  },
  {
   "cell_type": "code",
   "execution_count": 52,
   "metadata": {
    "id": "Nu0LciH7nDMy"
   },
   "outputs": [],
   "source": [
    "### the file some_array.npy wil be created in the same directory where your Python script is running\n",
    "arr = np.arange(10)\n",
    "np.save(\"some_array\", arr) ### give full path if you want to chage the destination \"/path/to/directory/some_array.npy\""
   ]
  },
  {
   "cell_type": "code",
   "execution_count": 53,
   "metadata": {
    "colab": {
     "base_uri": "https://localhost:8080/"
    },
    "id": "jyiDKc15nDMy",
    "outputId": "87318abe-4b3c-484b-fed1-67466a51dd96"
   },
   "outputs": [
    {
     "data": {
      "text/plain": [
       "array([0, 1, 2, 3, 4, 5, 6, 7, 8, 9])"
      ]
     },
     "execution_count": 53,
     "metadata": {},
     "output_type": "execute_result"
    }
   ],
   "source": [
    "### The array on disk can then be loaded with np.load function\n",
    "np.load(\"some_array.npy\")"
   ]
  },
  {
   "cell_type": "code",
   "execution_count": 54,
   "metadata": {
    "id": "CmQ8FPJOnDMy"
   },
   "outputs": [],
   "source": [
    "### save multiple arrays in an uncompressed archive using np.savez and passing the arrays as keyword arguments\n",
    "np.savez(\"array_archive.npz\", a=arr, b=arr)"
   ]
  },
  {
   "cell_type": "code",
   "execution_count": 55,
   "metadata": {
    "colab": {
     "base_uri": "https://localhost:8080/"
    },
    "id": "Ay_qTJMjnDMy",
    "outputId": "626ec7a5-d85f-47eb-e61e-9fe4f319f51e"
   },
   "outputs": [
    {
     "data": {
      "text/plain": [
       "array([0, 1, 2, 3, 4, 5, 6, 7, 8, 9])"
      ]
     },
     "execution_count": 55,
     "metadata": {},
     "output_type": "execute_result"
    }
   ],
   "source": [
    "arch = np.load(\"array_archive.npz\")\n",
    "arch[\"b\"]"
   ]
  },
  {
   "cell_type": "code",
   "execution_count": 56,
   "metadata": {
    "id": "grjgg3xmnDMz"
   },
   "outputs": [],
   "source": [
    "### compressed array storing\n",
    "np.savez_compressed(\"arrays_compressed.npz\", a=arr, b=arr)"
   ]
  },
  {
   "cell_type": "code",
   "execution_count": null,
   "metadata": {
    "id": "7JzEF94xnDMz"
   },
   "outputs": [],
   "source": [
    "### rm shell command to remove file and directories\n",
    "# !rm some_array.npy\n",
    "# !rm array_archive.npz\n",
    "# !rm arrays_compressed.npz"
   ]
  },
  {
   "cell_type": "markdown",
   "metadata": {
    "id": "DieUxbuSpdvq"
   },
   "source": [
    "# **Linear Algebra**\n",
    "**The function dot** for matrix multiplication\n"
   ]
  },
  {
   "cell_type": "code",
   "execution_count": 26,
   "metadata": {
    "colab": {
     "base_uri": "https://localhost:8080/"
    },
    "id": "QNooMN2GnDMz",
    "outputId": "a0e236c1-035d-4bcf-92c6-e5ebe14e2d1f"
   },
   "outputs": [
    {
     "data": {
      "text/plain": [
       "array([[ 28.,  64.],\n",
       "       [ 67., 181.]])"
      ]
     },
     "execution_count": 26,
     "metadata": {},
     "output_type": "execute_result"
    }
   ],
   "source": [
    "### dot, both an array method and a function in the numpy namespace\n",
    "x = np.array([[1., 2., 3.], [4., 5., 6.]])\n",
    "y = np.array([[6., 23.], [-1, 7], [8, 9]])\n",
    "x\n",
    "y\n",
    "x.dot(y)"
   ]
  },
  {
   "cell_type": "code",
   "execution_count": 27,
   "metadata": {
    "colab": {
     "base_uri": "https://localhost:8080/"
    },
    "id": "2kq1eajjnDM0",
    "outputId": "a62cc0ee-9f68-49d4-9d5b-4267f62f9509"
   },
   "outputs": [
    {
     "data": {
      "text/plain": [
       "array([[ 28.,  64.],\n",
       "       [ 67., 181.]])"
      ]
     },
     "execution_count": 27,
     "metadata": {},
     "output_type": "execute_result"
    }
   ],
   "source": [
    "np.dot(x, y)"
   ]
  },
  {
   "cell_type": "code",
   "execution_count": 38,
   "metadata": {
    "colab": {
     "base_uri": "https://localhost:8080/"
    },
    "id": "LliyIm9cnDM1",
    "outputId": "e0c83121-e316-4df7-9a63-bc118e202765"
   },
   "outputs": [
    {
     "data": {
      "text/plain": [
       "array([ 6., 15.])"
      ]
     },
     "execution_count": 38,
     "metadata": {},
     "output_type": "execute_result"
    }
   ],
   "source": [
    "### A matrix product between a two-dimensional array and a suitably sized one-dimensional array results in a one-dimensional array\n",
    "np.dot(x, np.ones(3))\n",
    "#x @ np.ones(3) ###The @ symbol (as of Python 3.5) also works as an infix operator that performs matrix multiplication"
   ]
  },
  {
   "cell_type": "code",
   "execution_count": 51,
   "metadata": {
    "id": "HJOPBshjnDM1"
   },
   "outputs": [],
   "source": [
    "### numpy.linalg has a standard inverse and determinant implemented via linear algebra libraries BLAS, LAPACK\n",
    "### see commonly used numpy.linalg functions online\n",
    "from numpy.linalg import inv, det\n",
    "X = np.random.standard_normal((5, 5))\n",
    "#print(X)\n",
    "mat = X.T @ X\n",
    "#mat\n",
    "#inv(mat)\n",
    "#mat @ inv(mat)\n",
    "#det(mat)"
   ]
  },
  {
   "cell_type": "code",
   "execution_count": null,
   "metadata": {
    "id": "xadLjmxxnDM3"
   },
   "outputs": [],
   "source": []
  }
 ],
 "metadata": {
  "colab": {
   "provenance": []
  },
  "kernelspec": {
   "display_name": "Python 3 (ipykernel)",
   "language": "python",
   "name": "python3"
  },
  "language_info": {
   "codemirror_mode": {
    "name": "ipython",
    "version": 3
   },
   "file_extension": ".py",
   "mimetype": "text/x-python",
   "name": "python",
   "nbconvert_exporter": "python",
   "pygments_lexer": "ipython3",
   "version": "3.9.13"
  }
 },
 "nbformat": 4,
 "nbformat_minor": 1
}
