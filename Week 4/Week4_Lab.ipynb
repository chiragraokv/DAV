{
 "cells": [
  {
   "cell_type": "markdown",
   "metadata": {},
   "source": [
    "# WEEK 4 LAB \n",
    "Rovin Castelino\n",
    "\n",
    "240957001\n",
    "\n",
    "PC 46"
   ]
  },
  {
   "cell_type": "code",
   "execution_count": 22,
   "metadata": {},
   "outputs": [],
   "source": [
    "import pandas as pd"
   ]
  },
  {
   "cell_type": "code",
   "execution_count": 23,
   "metadata": {},
   "outputs": [
    {
     "name": "stdout",
     "output_type": "stream",
     "text": [
      "Average temperature for the week: 21.857142857142858°C\n"
     ]
    }
   ],
   "source": [
    "temperatures = pd.Series([22, 24, 20, 18, 25, 23, 21], \n",
    "                         index=[\"Monday\", \"Tuesday\", \"Wednesday\", \"Thursday\", \"Friday\", \"Saturday\", \"Sunday\"])\n",
    "\n",
    "total_temperature = 0\n",
    "for temp in temperatures:\n",
    "    total_temperature += temp\n",
    "average_temperature = total_temperature / len(temperatures)\n",
    "print(f\"Average temperature for the week: {average_temperature}°C\")"
   ]
  },
  {
   "cell_type": "code",
   "execution_count": 24,
   "metadata": {},
   "outputs": [
    {
     "name": "stdout",
     "output_type": "stream",
     "text": [
      "Maximum temperature: 25°C on Friday\n",
      "Minimum temperature: 18°C on Thursday\n"
     ]
    },
    {
     "name": "stderr",
     "output_type": "stream",
     "text": [
      "C:\\Users\\chira\\AppData\\Local\\Temp\\ipykernel_15136\\2403270483.py:1: FutureWarning: Series.__getitem__ treating keys as positions is deprecated. In a future version, integer keys will always be treated as labels (consistent with DataFrame behavior). To access a value by position, use `ser.iloc[pos]`\n",
      "  max_temp = temperatures[0]\n",
      "C:\\Users\\chira\\AppData\\Local\\Temp\\ipykernel_15136\\2403270483.py:2: FutureWarning: Series.__getitem__ treating keys as positions is deprecated. In a future version, integer keys will always be treated as labels (consistent with DataFrame behavior). To access a value by position, use `ser.iloc[pos]`\n",
      "  min_temp = temperatures[0]\n"
     ]
    }
   ],
   "source": [
    "max_temp = temperatures[0]\n",
    "min_temp = temperatures[0]\n",
    "max_day = \"Monday\"\n",
    "min_day = \"Monday\"\n",
    "\n",
    "for day, temp in temperatures.items():\n",
    "    if temp > max_temp:\n",
    "        max_temp = temp\n",
    "        max_day = day\n",
    "    if temp < min_temp:\n",
    "        min_temp = temp\n",
    "        min_day = day\n",
    "\n",
    "print(f\"Maximum temperature: {max_temp}°C on {max_day}\")\n",
    "print(f\"Minimum temperature: {min_temp}°C on {min_day}\")\n",
    "\n"
   ]
  },
  {
   "cell_type": "code",
   "execution_count": 25,
   "metadata": {},
   "outputs": [
    {
     "name": "stdout",
     "output_type": "stream",
     "text": [
      "Temperatures greater than 22°C:\n",
      "Tuesday: 24°C\n",
      "Friday: 25°C\n",
      "Saturday: 23°C\n"
     ]
    }
   ],
   "source": [
    "print(\"Temperatures greater than 22°C:\")\n",
    "for day, temp in temperatures.items():\n",
    "    if temp > 22:\n",
    "        print(f\"{day}: {temp}°C\")\n",
    "\n"
   ]
  },
  {
   "cell_type": "code",
   "execution_count": 26,
   "metadata": {},
   "outputs": [
    {
     "name": "stdout",
     "output_type": "stream",
     "text": [
      "Temperatures in Fahrenheit:\n",
      "Monday: 71.6°F\n",
      "Tuesday: 75.2°F\n",
      "Wednesday: 68.0°F\n",
      "Thursday: 64.4°F\n",
      "Friday: 77.0°F\n",
      "Saturday: 73.4°F\n",
      "Sunday: 69.8°F\n"
     ]
    }
   ],
   "source": [
    "print(\"Temperatures in Fahrenheit:\")\n",
    "for day, temp in temperatures.items():\n",
    "    fahrenheit = temp * 9/5 + 32\n",
    "    print(f\"{day}: {fahrenheit}°F\")\n",
    "\n"
   ]
  },
  {
   "cell_type": "code",
   "execution_count": 27,
   "metadata": {},
   "outputs": [
    {
     "name": "stdout",
     "output_type": "stream",
     "text": [
      "Days with temperatures above the average:\n",
      "Monday: 22°C\n",
      "Tuesday: 24°C\n",
      "Friday: 25°C\n",
      "Saturday: 23°C\n"
     ]
    }
   ],
   "source": [
    "print(\"Days with temperatures above the average:\")\n",
    "for day, temp in temperatures.items():\n",
    "    if temp > average_temperature:\n",
    "        print(f\"{day}: {temp}°C\")"
   ]
  },
  {
   "cell_type": "markdown",
   "metadata": {},
   "source": [
    "### Task 2"
   ]
  },
  {
   "cell_type": "code",
   "execution_count": 28,
   "metadata": {},
   "outputs": [
    {
     "name": "stdout",
     "output_type": "stream",
     "text": [
      "Student Data with Total Marks:\n",
      "   Roll Number     Name Gender  Marks1  Marks2  Marks3  Total Marks\n",
      "0            1    Alice      F      85      70      88          243\n",
      "1            2      Bob      M      72      80      75          227\n",
      "2            3  Charlie      M      64      55      80          199\n",
      "3            4    David      M      50      45      60          155\n",
      "4            5      Eva      F      90      60      95          245\n",
      "5            6    Frank      M      55      85      92          232\n",
      "6            7    Grace      F      79      70      85          234\n",
      "7            8   Hannah      F      88      95      78          261\n",
      "8            9      Ivy      F      92      65      88          245\n",
      "9           10     Jack      M      76      80      76          232\n"
     ]
    }
   ],
   "source": [
    "\n",
    "data = {\n",
    "    \"Roll Number\": [1, 2, 3, 4, 5, 6, 7, 8, 9, 10],\n",
    "    \"Name\": [\"Alice\", \"Bob\", \"Charlie\", \"David\", \"Eva\", \"Frank\", \"Grace\", \"Hannah\", \"Ivy\", \"Jack\"],\n",
    "    \"Gender\": [\"F\", \"M\", \"M\", \"M\", \"F\", \"M\", \"F\", \"F\", \"F\", \"M\"],\n",
    "    \"Marks1\": [85, 72, 64, 50, 90, 55, 79, 88, 92, 76],\n",
    "    \"Marks2\": [70, 80, 55, 45, 60, 85, 70, 95, 65, 80],\n",
    "    \"Marks3\": [88, 75, 80, 60, 95, 92, 85, 78, 88, 76]\n",
    "}\n",
    "students_df = pd.DataFrame(data)\n",
    "\n",
    "students_df[\"Total Marks\"] = 0\n",
    "for i in range(len(students_df)):\n",
    "    students_df.at[i, \"Total Marks\"] = students_df.at[i, \"Marks1\"] + students_df.at[i, \"Marks2\"] + students_df.at[i, \"Marks3\"]\n",
    "print(\"Student Data with Total Marks:\")\n",
    "print(students_df)\n",
    "\n"
   ]
  },
  {
   "cell_type": "code",
   "execution_count": 29,
   "metadata": {},
   "outputs": [
    {
     "name": "stdout",
     "output_type": "stream",
     "text": [
      "Lowest marks in Marks1: 50\n"
     ]
    }
   ],
   "source": [
    "lowest_marks1 = students_df[\"Marks1\"][0]\n",
    "for mark in students_df[\"Marks1\"]:\n",
    "    if mark < lowest_marks1:\n",
    "        lowest_marks1 = mark\n",
    "print(f\"Lowest marks in Marks1: {lowest_marks1}\")\n",
    "\n"
   ]
  },
  {
   "cell_type": "code",
   "execution_count": 30,
   "metadata": {},
   "outputs": [
    {
     "name": "stdout",
     "output_type": "stream",
     "text": [
      "Highest marks in Marks2: 95\n"
     ]
    }
   ],
   "source": [
    "highest_marks2 = students_df[\"Marks2\"][0]\n",
    "for mark in students_df[\"Marks2\"]:\n",
    "    if mark > highest_marks2:\n",
    "        highest_marks2 = mark\n",
    "print(f\"Highest marks in Marks2: {highest_marks2}\")\n",
    "\n",
    "\n"
   ]
  },
  {
   "cell_type": "code",
   "execution_count": 31,
   "metadata": {},
   "outputs": [
    {
     "name": "stdout",
     "output_type": "stream",
     "text": [
      "Average marks in Marks3: 81.7\n"
     ]
    }
   ],
   "source": [
    "total_marks3 = 0\n",
    "for mark in students_df[\"Marks3\"]:\n",
    "    total_marks3 += mark\n",
    "average_marks3 = total_marks3 / len(students_df[\"Marks3\"])\n",
    "print(f\"Average marks in Marks3: {average_marks3}\")\n",
    "\n"
   ]
  },
  {
   "cell_type": "code",
   "execution_count": 32,
   "metadata": {},
   "outputs": [
    {
     "name": "stdout",
     "output_type": "stream",
     "text": [
      "Student with the highest average marks: Hannah\n"
     ]
    }
   ],
   "source": [
    "# e. Find student name with highest average marks\n",
    "highest_avg = 0\n",
    "best_student = \"\"\n",
    "for i in range(len(students_df)):\n",
    "    average = (students_df.at[i, \"Marks1\"] + students_df.at[i, \"Marks2\"] + students_df.at[i, \"Marks3\"]) / 3\n",
    "    if average > highest_avg:\n",
    "        highest_avg = average\n",
    "        best_student = students_df.at[i, \"Name\"]\n",
    "print(f\"Student with the highest average marks: {best_student}\")\n",
    "\n"
   ]
  },
  {
   "cell_type": "code",
   "execution_count": 33,
   "metadata": {},
   "outputs": [
    {
     "name": "stdout",
     "output_type": "stream",
     "text": [
      "Number of students who failed in Marks2: 0\n"
     ]
    }
   ],
   "source": [
    "# f. Find how many students failed in Marks2 (<40)\n",
    "failed_students = 0\n",
    "for mark in students_df[\"Marks2\"]:\n",
    "    if mark < 40:\n",
    "        failed_students += 1\n",
    "print(f\"Number of students who failed in Marks2: {failed_students}\")"
   ]
  }
 ],
 "metadata": {
  "kernelspec": {
   "display_name": "Python 3",
   "language": "python",
   "name": "python3"
  },
  "language_info": {
   "codemirror_mode": {
    "name": "ipython",
    "version": 3
   },
   "file_extension": ".py",
   "mimetype": "text/x-python",
   "name": "python",
   "nbconvert_exporter": "python",
   "pygments_lexer": "ipython3",
   "version": "3.13.2"
  }
 },
 "nbformat": 4,
 "nbformat_minor": 2
}
