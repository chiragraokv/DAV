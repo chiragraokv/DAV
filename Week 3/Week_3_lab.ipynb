{
 "cells": [
  {
   "cell_type": "markdown",
   "id": "b3e91914",
   "metadata": {},
   "source": [
    "## 1. Generate a 3x4 NumPy array with random integers between 1 and 50.   \n",
    "\n",
    "a. Calculate and print the Mean, Median, and Standard Deviation of the array \n",
    "\n",
    "b. Print the Sum of all elements and the sum of each row. \n",
    "\n",
    "c. Reshape the 3x4 array into a 2x6 array and print it. "
   ]
  },
  {
   "cell_type": "markdown",
   "id": "2ce7c393",
   "metadata": {},
   "source": [
    "### Chirag Rao K V\n",
    "\n",
    "PC 66\n",
    "\n",
    "reg 240962180"
   ]
  },
  {
   "cell_type": "code",
   "execution_count": 1,
   "id": "53d2dd83",
   "metadata": {},
   "outputs": [],
   "source": [
    "import numpy as np\n"
   ]
  },
  {
   "cell_type": "code",
   "execution_count": 2,
   "id": "90d116fa",
   "metadata": {},
   "outputs": [
    {
     "data": {
      "text/plain": [
       "array([[34, 22, 23, 20],\n",
       "       [ 2, 24, 11, 40],\n",
       "       [22, 27, 40, 44]], dtype=int32)"
      ]
     },
     "execution_count": 2,
     "metadata": {},
     "output_type": "execute_result"
    }
   ],
   "source": [
    "array = np.random.randint(1,50,size = (3,4))\n",
    "array"
   ]
  },
  {
   "cell_type": "code",
   "execution_count": 3,
   "id": "a2e57543",
   "metadata": {},
   "outputs": [],
   "source": [
    "mean = np.mean(array)\n",
    "medain = np.median(array)\n",
    "standard_deviation = np.std(array)"
   ]
  },
  {
   "cell_type": "code",
   "execution_count": 4,
   "id": "eeda95e3",
   "metadata": {},
   "outputs": [
    {
     "name": "stdout",
     "output_type": "stream",
     "text": [
      "mean = 25.75, medain = 23.5, standard deviation = 11.769487386175038\n"
     ]
    }
   ],
   "source": [
    "print(f\"mean = {mean}, medain = {medain}, standard deviation = {standard_deviation}\")"
   ]
  },
  {
   "cell_type": "code",
   "execution_count": 5,
   "id": "f45668df",
   "metadata": {},
   "outputs": [
    {
     "data": {
      "text/plain": [
       "np.int64(309)"
      ]
     },
     "execution_count": 5,
     "metadata": {},
     "output_type": "execute_result"
    }
   ],
   "source": [
    "# sum of all the elements\n",
    "np.sum(array)"
   ]
  },
  {
   "cell_type": "code",
   "execution_count": 6,
   "id": "c519c08e",
   "metadata": {},
   "outputs": [
    {
     "data": {
      "text/plain": [
       "array([ 99,  77, 133])"
      ]
     },
     "execution_count": 6,
     "metadata": {},
     "output_type": "execute_result"
    }
   ],
   "source": [
    "# sum of elements of row\n",
    "np.sum(array, axis =1)"
   ]
  },
  {
   "cell_type": "code",
   "execution_count": 7,
   "id": "b2d620b5",
   "metadata": {},
   "outputs": [
    {
     "data": {
      "text/plain": [
       "array([[34, 22, 23, 20,  2, 24],\n",
       "       [11, 40, 22, 27, 40, 44]], dtype=int32)"
      ]
     },
     "execution_count": 7,
     "metadata": {},
     "output_type": "execute_result"
    }
   ],
   "source": [
    "\n",
    "array.resize(2,6,refcheck=False)\n",
    "array"
   ]
  },
  {
   "cell_type": "markdown",
   "id": "a39e6002",
   "metadata": {},
   "source": [
    "## 2. Create two (3 * 3) matrices using NumPy and print it. Perform and print the results of the following linear algebra operations \n",
    "\n",
    "a. Matrix addition \n",
    "\n",
    "b. Matrix subtraction \n",
    "\n",
    "c. Matrix multiplication (element-wise and dot product) \n",
    "\n",
    "d. Transpose of a matrix \n",
    "\n",
    "e. Determinant and inverse (if applicable) "
   ]
  },
  {
   "cell_type": "code",
   "execution_count": 8,
   "id": "91241855",
   "metadata": {},
   "outputs": [
    {
     "data": {
      "text/plain": [
       "(array([[14, 21, 12],\n",
       "        [18,  4, 21],\n",
       "        [42, 48, 32]], dtype=int32),\n",
       " array([[19, 19,  3],\n",
       "        [ 8, 37, 22],\n",
       "        [41, 10,  8]], dtype=int32))"
      ]
     },
     "execution_count": 8,
     "metadata": {},
     "output_type": "execute_result"
    }
   ],
   "source": [
    "array1 = np.random.randint(1,50,size = (3,3))\n",
    "array2 = np.random.randint(1,50,size = (3,3))\n",
    "array1,array2"
   ]
  },
  {
   "cell_type": "code",
   "execution_count": 9,
   "id": "ecdf5f0d",
   "metadata": {},
   "outputs": [
    {
     "data": {
      "text/plain": [
       "array([[33, 40, 15],\n",
       "       [26, 41, 43],\n",
       "       [83, 58, 40]], dtype=int32)"
      ]
     },
     "execution_count": 9,
     "metadata": {},
     "output_type": "execute_result"
    }
   ],
   "source": [
    "#addition of martix\n",
    "np.add(array1,array2)"
   ]
  },
  {
   "cell_type": "code",
   "execution_count": 10,
   "id": "5fe86bfb",
   "metadata": {},
   "outputs": [
    {
     "data": {
      "text/plain": [
       "array([[ 926, 1163,  600],\n",
       "       [1235,  700,  310],\n",
       "       [2494, 2894, 1438]], dtype=int32)"
      ]
     },
     "execution_count": 10,
     "metadata": {},
     "output_type": "execute_result"
    }
   ],
   "source": [
    "#Multiplication (dot product)\n",
    "np.dot(array1,array2)"
   ]
  },
  {
   "cell_type": "code",
   "execution_count": 11,
   "id": "55fbf1c9",
   "metadata": {},
   "outputs": [
    {
     "data": {
      "text/plain": [
       "array([[ 266,  399,   36],\n",
       "       [ 144,  148,  462],\n",
       "       [1722,  480,  256]], dtype=int32)"
      ]
     },
     "execution_count": 11,
     "metadata": {},
     "output_type": "execute_result"
    }
   ],
   "source": [
    "#Multiplication (dot product)\n",
    "np.multiply(array1,array2)"
   ]
  },
  {
   "cell_type": "code",
   "execution_count": 12,
   "id": "ad76343a",
   "metadata": {},
   "outputs": [
    {
     "name": "stdout",
     "output_type": "stream",
     "text": [
      "ARRAY =\n",
      "[[14 21 12]\n",
      " [18  4 21]\n",
      " [42 48 32]]\n",
      "Afte transpose =\n",
      "[[14 18 42]\n",
      " [21  4 48]\n",
      " [12 21 32]]\n"
     ]
    }
   ],
   "source": [
    "print(f\"ARRAY =\\n{array1}\\nAfte transpose =\\n{np.transpose(array1)}\")"
   ]
  },
  {
   "cell_type": "code",
   "execution_count": 13,
   "id": "441575dd",
   "metadata": {},
   "outputs": [
    {
     "name": "stdout",
     "output_type": "stream",
     "text": [
      "The determinant = 2458.0000000000014\n"
     ]
    }
   ],
   "source": [
    "print(f\"The determinant = {np.linalg.det(array1)}\")"
   ]
  }
 ],
 "metadata": {
  "kernelspec": {
   "display_name": "Python 3",
   "language": "python",
   "name": "python3"
  },
  "language_info": {
   "codemirror_mode": {
    "name": "ipython",
    "version": 3
   },
   "file_extension": ".py",
   "mimetype": "text/x-python",
   "name": "python",
   "nbconvert_exporter": "python",
   "pygments_lexer": "ipython3",
   "version": "3.13.1"
  }
 },
 "nbformat": 4,
 "nbformat_minor": 5
}
