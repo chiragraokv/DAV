{
 "cells": [
  {
   "cell_type": "code",
   "execution_count": 1,
   "id": "b51951d8",
   "metadata": {},
   "outputs": [],
   "source": [
    "# Data Visualization \n",
    "# BTech Computer Science Stream , January 2025\n",
    "# Week 1 Python Language Basics - Demonstration Code\n",
    "# Name: Rohini R Rao, Reg Number , Date: 28/12/2024"
   ]
  },
  {
   "cell_type": "code",
   "execution_count": 58,
   "id": "7d384eb8",
   "metadata": {},
   "outputs": [
    {
     "name": "stdout",
     "output_type": "stream",
     "text": [
      "Hello, Welcome to Data Visualization Course\n"
     ]
    }
   ],
   "source": [
    "print('Hello, Welcome to Data Visualization Course')"
   ]
  },
  {
   "cell_type": "code",
   "execution_count": 60,
   "id": "a9dd0990",
   "metadata": {},
   "outputs": [
    {
     "name": "stdout",
     "output_type": "stream",
     "text": [
      "Var C= 21\n"
     ]
    }
   ],
   "source": [
    "# Python Language Basics - Dynamic references, strong types: Variables no inherent type, simply do assignment\n",
    "# Scalar Data Types -Integer \n",
    "# Use variables with snake casing or camel casing\n",
    "var_A=15\n",
    "var_B=6\n",
    "var_C=var_A + var_B\n",
    "print('Var C=',var_C)"
   ]
  },
  {
   "cell_type": "code",
   "execution_count": 62,
   "id": "ec5dbb68",
   "metadata": {},
   "outputs": [
    {
     "name": "stdout",
     "output_type": "stream",
     "text": [
      "2.5\n",
      "2\n"
     ]
    }
   ],
   "source": [
    "# Mathematical Operations\n",
    "print(var_A/var_B)\n",
    "print(var_A//var_B)"
   ]
  },
  {
   "cell_type": "code",
   "execution_count": 12,
   "id": "6ffcf3f3",
   "metadata": {},
   "outputs": [
    {
     "name": "stdout",
     "output_type": "stream",
     "text": [
      "0.34568\n"
     ]
    }
   ],
   "source": [
    "#Scalar Data Types -Float\n",
    "var_fA=0.345\n",
    "var_fB=6.8e-4\n",
    "print(var_fA+var_fB)"
   ]
  },
  {
   "cell_type": "code",
   "execution_count": 24,
   "id": "330146f1",
   "metadata": {},
   "outputs": [
    {
     "name": "stdout",
     "output_type": "stream",
     "text": [
      " String that spans\n",
      "Multiple Lines\n",
      "\n"
     ]
    },
    {
     "data": {
      "text/plain": [
       "2"
      ]
     },
     "execution_count": 24,
     "metadata": {},
     "output_type": "execute_result"
    }
   ],
   "source": [
    "# Scalar Data Types- String\n",
    "var_strA='This is my first Python class'\n",
    "var_strB=\"\"\" String that spans\n",
    "Multiple Lines\n",
    "\"\"\"\n",
    "print(var_strB)\n",
    "var_strB.count(\"\\n\")"
   ]
  },
  {
   "cell_type": "code",
   "execution_count": 29,
   "id": "b6599d4d",
   "metadata": {},
   "outputs": [
    {
     "data": {
      "text/plain": [
       "'This is my first Python demonstration'"
      ]
     },
     "execution_count": 29,
     "metadata": {},
     "output_type": "execute_result"
    }
   ],
   "source": [
    "# Python Language Basics- Tab Completion- Tab key will search the namespace for any variables (objects,functions, etc.) \n",
    "# Scalar Data Types- Strings are immutable\n",
    "# String is a class, can see all supported methods and properties with tab\n",
    "var_strC=var_strA.replace(\"class\",\"demonstration\")\n",
    "var_strC"
   ]
  },
  {
   "cell_type": "raw",
   "id": "6545fb69",
   "metadata": {},
   "source": []
  },
  {
   "cell_type": "code",
   "execution_count": 38,
   "id": "245fc0de",
   "metadata": {},
   "outputs": [
    {
     "data": {
      "text/plain": [
       "\u001b[1;31mType:\u001b[0m        bool\n",
       "\u001b[1;31mString form:\u001b[0m True\n",
       "\u001b[1;31mDocstring:\u001b[0m  \n",
       "bool(x) -> bool\n",
       "\n",
       "Returns True when the argument x is true, False otherwise.\n",
       "The builtins True and False are the only two instances of the class bool.\n",
       "The class bool is a subclass of the class int, and cannot be subclassed."
      ]
     },
     "metadata": {},
     "output_type": "display_data"
    }
   ],
   "source": [
    "# Scalar Data Types- Boolean\n",
    "var_boolA=True\n",
    "var_boolB=False\n",
    "# question mark (?) before or after a variable will display some general information about the object\n",
    "var_boolA?"
   ]
  },
  {
   "cell_type": "code",
   "execution_count": 35,
   "id": "5dc7766b",
   "metadata": {},
   "outputs": [
    {
     "name": "stdout",
     "output_type": "stream",
     "text": [
      "<class 'int'>\n",
      "<class 'bool'>\n"
     ]
    }
   ],
   "source": [
    "# Python Language Basics-Python is a strongly typed language, which means that every object has a specific type (or class),\n",
    "#Type Casting, The str, bool, int , float types are also functions that can be used to cast values to these types\n",
    "var_Int=1\n",
    "var_BoolC=bool(var_Int)\n",
    "var_BoolC\n",
    "print(type(var_Int))\n",
    "print(type(var_BoolC))"
   ]
  },
  {
   "cell_type": "code",
   "execution_count": 68,
   "id": "e63b2c15",
   "metadata": {},
   "outputs": [],
   "source": [
    "# None is the Python null value type. Can be used in interesting ways\n",
    "def fn_add_maybe_multiply(var_a, var_b, var_c=None):\n",
    "    result = var_a + var_b\n",
    "    if var_c is not None:\n",
    "        result = result * var_c\n",
    "    return result"
   ]
  },
  {
   "cell_type": "code",
   "execution_count": 72,
   "id": "9a15ec7b",
   "metadata": {},
   "outputs": [
    {
     "data": {
      "text/plain": [
       "11"
      ]
     },
     "execution_count": 72,
     "metadata": {},
     "output_type": "execute_result"
    }
   ],
   "source": [
    "#fn_add_maybe_multiply?\n",
    "fn_add_maybe_multiply(5,6,None)"
   ]
  },
  {
   "cell_type": "code",
   "execution_count": 76,
   "id": "ec0d94aa",
   "metadata": {},
   "outputs": [
    {
     "name": "stdout",
     "output_type": "stream",
     "text": [
      "It's negative\n"
     ]
    }
   ],
   "source": [
    "# Python Language Basics- Control Flow. if, elif, and else\n",
    "var_x = -5\n",
    "if var_x < 0:\n",
    "    print(\"It's negative\")\n"
   ]
  },
  {
   "cell_type": "code",
   "execution_count": 78,
   "id": "580c0a01",
   "metadata": {},
   "outputs": [
    {
     "name": "stdout",
     "output_type": "stream",
     "text": [
      "Positive but smaller than 5\n"
     ]
    }
   ],
   "source": [
    "var_x=4\n",
    "if var_x < 0:\n",
    "    print(\"It's negative\")\n",
    "elif var_x == 0:\n",
    "    print(\"Equal to zero\")\n",
    "elif 0 < var_x < 5:\n",
    "    print(\"Positive but smaller than 5\")\n",
    "else:\n",
    "    print(\"Positive and larger than or equal to 5\")"
   ]
  },
  {
   "cell_type": "code",
   "execution_count": 34,
   "id": "810b55ec",
   "metadata": {},
   "outputs": [
    {
     "data": {
      "text/plain": [
       "12"
      ]
     },
     "execution_count": 34,
     "metadata": {},
     "output_type": "execute_result"
    }
   ],
   "source": [
    "# Python Language Basics- For Loops\n",
    "var_seqA = [1, 2, None, 4, None, 5]\n",
    "var_tot = 0\n",
    "for value in var_seqA:\n",
    "    if value is None:\n",
    "        continue\n",
    "    var_tot += value\n",
    "var_tot"
   ]
  },
  {
   "cell_type": "code",
   "execution_count": 47,
   "id": "f58c7577",
   "metadata": {},
   "outputs": [
    {
     "data": {
      "text/plain": [
       "13"
      ]
     },
     "execution_count": 47,
     "metadata": {},
     "output_type": "execute_result"
    }
   ],
   "source": [
    "# Python Language Basics- For loop\n",
    "var_seqB = [1, 2, 0, 4, 6, 5, 2, 1]\n",
    "var_tot_until_5 = 0\n",
    "for value in var_seqB:\n",
    "    if value == 5:\n",
    "        break\n",
    "    var_tot_until_5 += value\n",
    "var_tot_until_5"
   ]
  },
  {
   "cell_type": "code",
   "execution_count": 49,
   "id": "6cae0d07",
   "metadata": {},
   "outputs": [
    {
     "data": {
      "text/plain": [
       "504"
      ]
     },
     "execution_count": 49,
     "metadata": {},
     "output_type": "execute_result"
    }
   ],
   "source": [
    "# Python Language Basics- While loop\n",
    "var_x = 256\n",
    "var_total = 0\n",
    "while var_x > 0:\n",
    "    if var_total > 500:\n",
    "        break\n",
    "    var_total += var_x\n",
    "    var_x = var_x // 2\n",
    "var_total"
   ]
  },
  {
   "cell_type": "code",
   "execution_count": 56,
   "id": "a5dbda6b",
   "metadata": {},
   "outputs": [],
   "source": [
    "# Python Language Basics- pass is the “no-op” (or “do nothing”) statement in Python. \n",
    "var_x=0\n",
    "if var_x < 0:\n",
    "    print(\"negative!\")\n",
    "elif var_x == 0:\n",
    "    # TODO: put something smart here\n",
    "    pass\n",
    "else:\n",
    "    print(\"positive!\")"
   ]
  },
  {
   "cell_type": "code",
   "execution_count": 52,
   "id": "f7bacd45",
   "metadata": {},
   "outputs": [
    {
     "data": {
      "text/plain": [
       "[0, 1, 2, 3, 4, 5, 6, 7, 8, 9]"
      ]
     },
     "execution_count": 52,
     "metadata": {},
     "output_type": "execute_result"
    }
   ],
   "source": [
    "# Python Language Basics - The range function generates a sequence of evenly spaced integers.\n",
    "list(range(10))"
   ]
  },
  {
   "cell_type": "code",
   "execution_count": 55,
   "id": "f7271696",
   "metadata": {},
   "outputs": [
    {
     "name": "stdout",
     "output_type": "stream",
     "text": [
      "1\n",
      "2\n",
      "3\n",
      "4\n"
     ]
    }
   ],
   "source": [
    "# Python Language Basics - The range usage\n",
    "var_seq = [1, 2, 3, 4]\n",
    "for i in range(len(var_seq)):\n",
    "    print(var_seq[i])"
   ]
  },
  {
   "cell_type": "code",
   "execution_count": null,
   "id": "b450587d",
   "metadata": {},
   "outputs": [],
   "source": []
  }
 ],
 "metadata": {
  "kernelspec": {
   "display_name": "Python 3 (ipykernel)",
   "language": "python",
   "name": "python3"
  },
  "language_info": {
   "codemirror_mode": {
    "name": "ipython",
    "version": 3
   },
   "file_extension": ".py",
   "mimetype": "text/x-python",
   "name": "python",
   "nbconvert_exporter": "python",
   "pygments_lexer": "ipython3",
   "version": "3.9.13"
  }
 },
 "nbformat": 4,
 "nbformat_minor": 5
}
