{
 "cells": [
  {
   "cell_type": "code",
   "execution_count": 42,
   "id": "49d7b53f",
   "metadata": {},
   "outputs": [],
   "source": [
    "def identify_magic_square(array):\n",
    "    if array.shape[0] != array.shape[1]:\n",
    "        print(\"not a square matrix!!!\")\n",
    "    else:\n",
    "        sum_row = 0\n",
    "        sum_col = 0\n",
    "        sum_diag1 = 0\n",
    "        sum_diag2 = 0\n",
    "       \n",
    "        for i in range(array.shape[0]):\n",
    "            sum_row =sum(array[i,:])\n",
    "            sum_col = sum(array[])\n",
    "        if(sum_all_rows[1] == sum_all_col[1] & sum_all_col[1] == sum_diag1 & sum_diag1 == sum_diag2):\n",
    "            print(f\"Array \\n{array}\\nIs a square matrix \")\n",
    "        else:\n",
    "            print(f\"Array \\n{array}\\nIs not a square matrix \")"
   ]
  },
  {
   "cell_type": "code",
   "execution_count": 43,
   "id": "89f39d52",
   "metadata": {},
   "outputs": [],
   "source": [
    "import numpy as np"
   ]
  },
  {
   "cell_type": "code",
   "execution_count": 48,
   "id": "7eaa4611",
   "metadata": {},
   "outputs": [],
   "source": [
    "array = np.array([[8,1,0],[3,5,7],[4,9,2]])"
   ]
  },
  {
   "cell_type": "code",
   "execution_count": 49,
   "id": "50e17edc",
   "metadata": {},
   "outputs": [
    {
     "name": "stdout",
     "output_type": "stream",
     "text": [
      "Array \n",
      "[[8 1 0]\n",
      " [3 5 7]\n",
      " [4 9 2]]\n",
      "Is a square matrix \n"
     ]
    }
   ],
   "source": [
    "identify_magic_square(array)"
   ]
  },
  {
   "cell_type": "markdown",
   "id": "1b2ef456",
   "metadata": {},
   "source": [
    "Write a Python code block that inputs a sentence from the user. \n",
    "\n",
    "Count the frequency of each word in the sentence and store the \n",
    "\n",
    "result in a dictionary. Prints the dictionary with words as keys \n",
    "\n",
    "and their frequencies as values. "
   ]
  },
  {
   "cell_type": "code",
   "execution_count": 57,
   "id": "7ccef135",
   "metadata": {},
   "outputs": [
    {
     "name": "stdout",
     "output_type": "stream",
     "text": [
      "haha \\\\n haha\n"
     ]
    }
   ],
   "source": [
    "inp_str = str(input())"
   ]
  },
  {
   "cell_type": "code",
   "execution_count": 58,
   "id": "0f649f6a",
   "metadata": {},
   "outputs": [
    {
     "data": {
      "text/plain": [
       "'haha \\\\\\\\n haha'"
      ]
     },
     "execution_count": 58,
     "metadata": {},
     "output_type": "execute_result"
    }
   ],
   "source": [
    "\n"
   ]
  },
  {
   "cell_type": "code",
   "execution_count": null,
   "id": "2f01fe99",
   "metadata": {},
   "outputs": [],
   "source": []
  }
 ],
 "metadata": {
  "kernelspec": {
   "display_name": "Python 3 (ipykernel)",
   "language": "python",
   "name": "python3"
  },
  "language_info": {
   "codemirror_mode": {
    "name": "ipython",
    "version": 3
   },
   "file_extension": ".py",
   "mimetype": "text/x-python",
   "name": "python",
   "nbconvert_exporter": "python",
   "pygments_lexer": "ipython3",
   "version": "3.9.13"
  }
 },
 "nbformat": 4,
 "nbformat_minor": 5
}
