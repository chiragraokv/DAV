{
 "cells": [
  {
   "cell_type": "markdown",
   "id": "b3e91914",
   "metadata": {},
   "source": [
    "## 1. Generate a 3x4 NumPy array with random integers between 1 and 50.   \n",
    "\n",
    "a. Calculate and print the Mean, Median, and Standard Deviation of the array \n",
    "\n",
    "b. Print the Sum of all elements and the sum of each row. \n",
    "\n",
    "c. Reshape the 3x4 array into a 2x6 array and print it. "
   ]
  },
  {
   "cell_type": "code",
   "execution_count": 44,
   "id": "53d2dd83",
   "metadata": {},
   "outputs": [],
   "source": [
    "import numpy as np\n"
   ]
  },
  {
   "cell_type": "code",
   "execution_count": 70,
   "id": "90d116fa",
   "metadata": {},
   "outputs": [
    {
     "data": {
      "text/plain": [
       "array([[27,  7, 30, 10],\n",
       "       [41,  1, 34, 28],\n",
       "       [27, 47, 46,  6]])"
      ]
     },
     "execution_count": 70,
     "metadata": {},
     "output_type": "execute_result"
    }
   ],
   "source": [
    "array = np.random.randint(1,50,size = (3,4))\n",
    "array"
   ]
  },
  {
   "cell_type": "code",
   "execution_count": 71,
   "id": "a2e57543",
   "metadata": {},
   "outputs": [],
   "source": [
    "mean = np.mean(array)\n",
    "medain = np.median(array)\n",
    "standard_deviation = np.std(array)"
   ]
  },
  {
   "cell_type": "code",
   "execution_count": 72,
   "id": "eeda95e3",
   "metadata": {},
   "outputs": [
    {
     "name": "stdout",
     "output_type": "stream",
     "text": [
      "mean = 25.333333333333332, medain = 27.5, standard deviation = 15.2443067697055\n"
     ]
    }
   ],
   "source": [
    "print(f\"mean = {mean}, medain = {medain}, standard deviation = {standard_deviation}\")"
   ]
  },
  {
   "cell_type": "code",
   "execution_count": 73,
   "id": "f45668df",
   "metadata": {},
   "outputs": [
    {
     "data": {
      "text/plain": [
       "304"
      ]
     },
     "execution_count": 73,
     "metadata": {},
     "output_type": "execute_result"
    }
   ],
   "source": [
    "# sum of all the elements\n",
    "np.sum(array)"
   ]
  },
  {
   "cell_type": "code",
   "execution_count": 74,
   "id": "c519c08e",
   "metadata": {},
   "outputs": [
    {
     "data": {
      "text/plain": [
       "array([ 74, 104, 126])"
      ]
     },
     "execution_count": 74,
     "metadata": {},
     "output_type": "execute_result"
    }
   ],
   "source": [
    "# sum of elements of row\n",
    "np.sum(array, axis =1)"
   ]
  },
  {
   "cell_type": "code",
   "execution_count": 75,
   "id": "b2d620b5",
   "metadata": {},
   "outputs": [
    {
     "data": {
      "text/plain": [
       "array([[27,  7, 30, 10, 41,  1],\n",
       "       [34, 28, 27, 47, 46,  6]])"
      ]
     },
     "execution_count": 75,
     "metadata": {},
     "output_type": "execute_result"
    }
   ],
   "source": [
    "\n",
    "array.resize(2,6,refcheck=False)\n",
    "array"
   ]
  },
  {
   "cell_type": "markdown",
   "id": "a39e6002",
   "metadata": {},
   "source": [
    "## 2. Create two (3 * 3) matrices using NumPy and print it. Perform and print the results of the following linear algebra operations \n",
    "\n",
    "a. Matrix addition \n",
    "\n",
    "b. Matrix subtraction \n",
    "\n",
    "c. Matrix multiplication (element-wise and dot product) \n",
    "\n",
    "d. Transpose of a matrix \n",
    "\n",
    "e. Determinant and inverse (if applicable) "
   ]
  },
  {
   "cell_type": "code",
   "execution_count": 76,
   "id": "91241855",
   "metadata": {},
   "outputs": [
    {
     "data": {
      "text/plain": [
       "(array([[32, 29, 25],\n",
       "        [36,  8, 14],\n",
       "        [26, 11, 20]]),\n",
       " array([[41, 29,  3],\n",
       "        [ 6,  2, 45],\n",
       "        [21, 14, 13]]))"
      ]
     },
     "execution_count": 76,
     "metadata": {},
     "output_type": "execute_result"
    }
   ],
   "source": [
    "array1 = np.random.randint(1,50,size = (3,3))\n",
    "array2 = np.random.randint(1,50,size = (3,3))\n",
    "array1,array2"
   ]
  },
  {
   "cell_type": "code",
   "execution_count": 77,
   "id": "ecdf5f0d",
   "metadata": {},
   "outputs": [
    {
     "data": {
      "text/plain": [
       "array([[73, 58, 28],\n",
       "       [42, 10, 59],\n",
       "       [47, 25, 33]])"
      ]
     },
     "execution_count": 77,
     "metadata": {},
     "output_type": "execute_result"
    }
   ],
   "source": [
    "#addition of martix\n",
    "np.add(array1,array2)"
   ]
  },
  {
   "cell_type": "code",
   "execution_count": 78,
   "id": "5fe86bfb",
   "metadata": {},
   "outputs": [
    {
     "data": {
      "text/plain": [
       "array([[2011, 1336, 1726],\n",
       "       [1818, 1256,  650],\n",
       "       [1552, 1056,  833]])"
      ]
     },
     "execution_count": 78,
     "metadata": {},
     "output_type": "execute_result"
    }
   ],
   "source": [
    "#Multiplication (dot product)\n",
    "np.dot(array1,array2)"
   ]
  },
  {
   "cell_type": "code",
   "execution_count": 79,
   "id": "55fbf1c9",
   "metadata": {},
   "outputs": [
    {
     "data": {
      "text/plain": [
       "array([[1312,  841,   75],\n",
       "       [ 216,   16,  630],\n",
       "       [ 546,  154,  260]])"
      ]
     },
     "execution_count": 79,
     "metadata": {},
     "output_type": "execute_result"
    }
   ],
   "source": [
    "#Multiplication (dot product)\n",
    "np.multiply(array1,array2)"
   ]
  },
  {
   "cell_type": "code",
   "execution_count": 80,
   "id": "ad76343a",
   "metadata": {},
   "outputs": [
    {
     "name": "stdout",
     "output_type": "stream",
     "text": [
      "ARRAY =\n",
      "[[32 29 25]\n",
      " [36  8 14]\n",
      " [26 11 20]]\n",
      "Afte transpose =\n",
      "[[32 36 26]\n",
      " [29  8 11]\n",
      " [25 14 20]]\n"
     ]
    }
   ],
   "source": [
    "print(f\"ARRAY =\\n{array1}\\nAfte transpose =\\n{np.transpose(array1)}\")"
   ]
  },
  {
   "cell_type": "code",
   "execution_count": 81,
   "id": "441575dd",
   "metadata": {},
   "outputs": [
    {
     "name": "stdout",
     "output_type": "stream",
     "text": [
      "The determinant = -5431.999999999993\n"
     ]
    }
   ],
   "source": [
    "print(f\"The determinant = {np.linalg.det(array1)}\")"
   ]
  }
 ],
 "metadata": {
  "kernelspec": {
   "display_name": "Python 3 (ipykernel)",
   "language": "python",
   "name": "python3"
  },
  "language_info": {
   "codemirror_mode": {
    "name": "ipython",
    "version": 3
   },
   "file_extension": ".py",
   "mimetype": "text/x-python",
   "name": "python",
   "nbconvert_exporter": "python",
   "pygments_lexer": "ipython3",
   "version": "3.9.13"
  }
 },
 "nbformat": 4,
 "nbformat_minor": 5
}
