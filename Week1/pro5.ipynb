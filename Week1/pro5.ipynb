{
 "cells": [
  {
   "cell_type": "code",
   "execution_count": 6,
   "id": "bd1a61b4",
   "metadata": {},
   "outputs": [
    {
     "name": "stdout",
     "output_type": "stream",
     "text": [
      "enter the stringChirag Rao\n"
     ]
    }
   ],
   "source": [
    "'''Write a Python function that takes a string input from the user \n",
    "and counts the number of vowels and consonants in the string. '''\n",
    "element = input(\"enter the string :\")"
   ]
  },
  {
   "cell_type": "code",
   "execution_count": 24,
   "id": "8164d99a",
   "metadata": {},
   "outputs": [],
   "source": [
    "def find_vowels(element):\n",
    "    vol = 0\n",
    "    vowels = \"aeiouAEIOU\"\n",
    "    for i in element :\n",
    "        if i in vowels:\n",
    "            vol= vol+1\n",
    "    print(f\"number of vowels in string {element} = {vol}\")"
   ]
  },
  {
   "cell_type": "code",
   "execution_count": 25,
   "id": "32c6acc3",
   "metadata": {},
   "outputs": [
    {
     "name": "stdout",
     "output_type": "stream",
     "text": [
      "number of vowels in string Chirag Rao = 4\n"
     ]
    }
   ],
   "source": [
    "find_vowels(element)"
   ]
  }
 ],
 "metadata": {
  "kernelspec": {
   "display_name": "Python 3 (ipykernel)",
   "language": "python",
   "name": "python3"
  },
  "language_info": {
   "codemirror_mode": {
    "name": "ipython",
    "version": 3
   },
   "file_extension": ".py",
   "mimetype": "text/x-python",
   "name": "python",
   "nbconvert_exporter": "python",
   "pygments_lexer": "ipython3",
   "version": "3.9.13"
  }
 },
 "nbformat": 4,
 "nbformat_minor": 5
}
