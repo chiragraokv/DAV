{
 "cells": [
  {
   "cell_type": "code",
   "execution_count": 2,
   "id": "d5379e12",
   "metadata": {},
   "outputs": [
    {
     "data": {
      "text/plain": [
       "'Write a Python function to add two elements and display the \\nresult. The elements can be of type integer, float or string. '"
      ]
     },
     "execution_count": 2,
     "metadata": {},
     "output_type": "execute_result"
    }
   ],
   "source": [
    "'''Write a Python function to add two elements and display the \n",
    "result. The elements can be of type integer, float or string. '''\n",
    "# input two numbers"
   ]
  },
  {
   "cell_type": "code",
   "execution_count": 4,
   "id": "9c30830f",
   "metadata": {},
   "outputs": [],
   "source": [
    "def Add(ele1,ele2):\n",
    "    sum = ele1+ele2\n",
    "    print(f\"sum = {sum}\")"
   ]
  },
  {
   "cell_type": "code",
   "execution_count": 7,
   "id": "018378f7",
   "metadata": {},
   "outputs": [
    {
     "name": "stdout",
     "output_type": "stream",
     "text": [
      "sum = Chirag Rao\n",
      "sum = 25.648\n",
      "sum = 25\n"
     ]
    }
   ],
   "source": [
    "Add('Chirag',' Rao')\n",
    "Add(12.324,13.324)\n",
    "Add(12,13)"
   ]
  },
  {
   "cell_type": "code",
   "execution_count": null,
   "id": "2307d54e",
   "metadata": {},
   "outputs": [],
   "source": []
  }
 ],
 "metadata": {
  "kernelspec": {
   "display_name": "Python 3 (ipykernel)",
   "language": "python",
   "name": "python3"
  },
  "language_info": {
   "codemirror_mode": {
    "name": "ipython",
    "version": 3
   },
   "file_extension": ".py",
   "mimetype": "text/x-python",
   "name": "python",
   "nbconvert_exporter": "python",
   "pygments_lexer": "ipython3",
   "version": "3.9.13"
  }
 },
 "nbformat": 4,
 "nbformat_minor": 5
}
