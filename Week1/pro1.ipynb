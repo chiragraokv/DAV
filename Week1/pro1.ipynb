{
 "cells": [
  {
   "cell_type": "code",
   "execution_count": 1,
   "id": "4addd3ee",
   "metadata": {},
   "outputs": [
    {
     "name": "stdout",
     "output_type": "stream",
     "text": [
      "Enter firt number12\n",
      "Enter second number23\n"
     ]
    }
   ],
   "source": [
    "'''Write a Python function to input two numbers and perform the \n",
    "Calculator operations of (+, -, *, /).  '''\n",
    "# input two numbers\n",
    "num1 = input(\"Enter firt number \")\n",
    "num2 = input(\"Enter second number \")"
   ]
  },
  {
   "cell_type": "code",
   "execution_count": 4,
   "id": "2a7d386b",
   "metadata": {},
   "outputs": [],
   "source": [
    "num1 = int(num1)\n",
    "num2 = int(num2)"
   ]
  },
  {
   "cell_type": "code",
   "execution_count": 8,
   "id": "f7f84f37",
   "metadata": {},
   "outputs": [],
   "source": [
    "#calculate +,_,/,*\n",
    "sum = num1 +num2\n",
    "div = num1 /num2\n",
    "pro = num1 *num2\n",
    "dif = num1 -num2"
   ]
  },
  {
   "cell_type": "code",
   "execution_count": 9,
   "id": "e72c6687",
   "metadata": {},
   "outputs": [
    {
     "name": "stdout",
     "output_type": "stream",
     "text": [
      "sum = 35 \n",
      "difference = -11 \n",
      "product = 276 \n",
      "division = 0.5217391304347826\n"
     ]
    }
   ],
   "source": [
    "print(f\"sum = {sum} \\ndifference = {dif} \\nproduct = {pro} \\ndivision = {div}\")"
   ]
  },
  {
   "cell_type": "code",
   "execution_count": null,
   "id": "1379c690",
   "metadata": {},
   "outputs": [],
   "source": []
  }
 ],
 "metadata": {
  "kernelspec": {
   "display_name": "Python 3 (ipykernel)",
   "language": "python",
   "name": "python3"
  },
  "language_info": {
   "codemirror_mode": {
    "name": "ipython",
    "version": 3
   },
   "file_extension": ".py",
   "mimetype": "text/x-python",
   "name": "python",
   "nbconvert_exporter": "python",
   "pygments_lexer": "ipython3",
   "version": "3.9.13"
  }
 },
 "nbformat": 4,
 "nbformat_minor": 5
}
