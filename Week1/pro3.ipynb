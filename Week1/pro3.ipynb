{
 "cells": [
  {
   "cell_type": "code",
   "execution_count": 32,
   "id": "efcd5490",
   "metadata": {},
   "outputs": [],
   "source": [
    "'''Create a Python function that creates a sequence between 1 and \n",
    "100 and prints all the odd numbers. Compute and display the sum \n",
    "of all the even numbers. '''\n",
    "def callodd(Range):\n",
    "    sum = 0\n",
    "    odd = []\n",
    "    for i in range(1,Range+1):\n",
    "        if i%2 != 0:\n",
    "            odd.append(i)\n",
    "        else:\n",
    "            sum = sum +i\n",
    "    return sum,odd"
   ]
  },
  {
   "cell_type": "code",
   "execution_count": 33,
   "id": "a52e232f",
   "metadata": {},
   "outputs": [
    {
     "name": "stdout",
     "output_type": "stream",
     "text": [
      "Enter the range 100\n"
     ]
    }
   ],
   "source": [
    "#get range\n",
    "Range = int(input(\"Enter the range \"))"
   ]
  },
  {
   "cell_type": "code",
   "execution_count": 34,
   "id": "3d7a0b2a",
   "metadata": {},
   "outputs": [],
   "source": [
    "sum,odd = callodd(Range)"
   ]
  },
  {
   "cell_type": "code",
   "execution_count": 35,
   "id": "0230deb9",
   "metadata": {},
   "outputs": [
    {
     "name": "stdout",
     "output_type": "stream",
     "text": [
      "sum of even = 2550\n"
     ]
    }
   ],
   "source": [
    "print(f\"sum of even = {sum}\")"
   ]
  },
  {
   "cell_type": "code",
   "execution_count": 36,
   "id": "5b8b5e0e",
   "metadata": {},
   "outputs": [
    {
     "name": "stdout",
     "output_type": "stream",
     "text": [
      "odd numbers = [1, 3, 5, 7, 9, 11, 13, 15, 17, 19, 21, 23, 25, 27, 29, 31, 33, 35, 37, 39, 41, 43, 45, 47, 49, 51, 53, 55, 57, 59, 61, 63, 65, 67, 69, 71, 73, 75, 77, 79, 81, 83, 85, 87, 89, 91, 93, 95, 97, 99]\n"
     ]
    }
   ],
   "source": [
    "print(f\"odd numbers = {odd}\")"
   ]
  },
  {
   "cell_type": "code",
   "execution_count": null,
   "id": "6cb486b8",
   "metadata": {},
   "outputs": [],
   "source": []
  }
 ],
 "metadata": {
  "kernelspec": {
   "display_name": "Python 3 (ipykernel)",
   "language": "python",
   "name": "python3"
  },
  "language_info": {
   "codemirror_mode": {
    "name": "ipython",
    "version": 3
   },
   "file_extension": ".py",
   "mimetype": "text/x-python",
   "name": "python",
   "nbconvert_exporter": "python",
   "pygments_lexer": "ipython3",
   "version": "3.9.13"
  }
 },
 "nbformat": 4,
 "nbformat_minor": 5
}
