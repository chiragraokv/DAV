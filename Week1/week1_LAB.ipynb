{
 "cells": [
  {
   "cell_type": "markdown",
   "metadata": {},
   "source": [
    "## week 1 lab\n",
    "### Chirag Rao K V\n",
    "\n",
    "PC 66\n",
    "\n",
    "reg 240962180"
   ]
  },
  {
   "cell_type": "code",
   "execution_count": 1,
   "metadata": {},
   "outputs": [],
   "source": [
    "num1 = 4\n",
    "num2 = 5"
   ]
  },
  {
   "cell_type": "code",
   "execution_count": 2,
   "metadata": {},
   "outputs": [],
   "source": [
    "#calculate +,_,/,*\n",
    "sum = num1 +num2\n",
    "div = num1 /num2\n",
    "pro = num1 *num2\n",
    "dif = num1 -num2"
   ]
  },
  {
   "cell_type": "code",
   "execution_count": 3,
   "metadata": {},
   "outputs": [
    {
     "name": "stdout",
     "output_type": "stream",
     "text": [
      "sum = 9 \n",
      "difference = -1 \n",
      "product = 20 \n",
      "division = 0.8\n"
     ]
    }
   ],
   "source": [
    "print(f\"sum = {sum} \\ndifference = {dif} \\nproduct = {pro} \\ndivision = {div}\")"
   ]
  },
  {
   "cell_type": "code",
   "execution_count": 4,
   "metadata": {},
   "outputs": [],
   "source": [
    "'''Write a Python function that takes an integer and returns True if \n",
    "it’s a prime number and False otherwise.'''\n",
    "num = 32"
   ]
  },
  {
   "cell_type": "code",
   "execution_count": 5,
   "metadata": {},
   "outputs": [],
   "source": [
    "#check for prime\n",
    "def prime(num):\n",
    "    flag = 0\n",
    "    for i in range(2, num):\n",
    "        if num % i == 0:\n",
    "            flag += 1\n",
    "    if flag == 0:\n",
    "        print(f\"{num} is prime\")\n",
    "    else:\n",
    "        print(f\"{num} is not prime\")"
   ]
  },
  {
   "cell_type": "code",
   "execution_count": 6,
   "metadata": {},
   "outputs": [
    {
     "name": "stdout",
     "output_type": "stream",
     "text": [
      "32 is not prime\n"
     ]
    }
   ],
   "source": [
    "prime(num)"
   ]
  },
  {
   "cell_type": "code",
   "execution_count": 7,
   "metadata": {},
   "outputs": [],
   "source": [
    "'''Create a Python function that creates a sequence between 1 and \n",
    "100 and prints all the odd numbers. Compute and display the sum \n",
    "of all the even numbers. '''\n",
    "def callodd(Range):\n",
    "    sum = 0\n",
    "    odd = []\n",
    "    for i in range(1,Range+1):\n",
    "        if i%2 != 0:\n",
    "            odd.append(i)\n",
    "        else:\n",
    "            sum = sum +i\n",
    "    return sum,odd"
   ]
  },
  {
   "cell_type": "code",
   "execution_count": 8,
   "metadata": {},
   "outputs": [],
   "source": [
    "#get range\n",
    "Range = 40"
   ]
  },
  {
   "cell_type": "code",
   "execution_count": 9,
   "metadata": {},
   "outputs": [
    {
     "name": "stdout",
     "output_type": "stream",
     "text": [
      "sum of even = 420\n"
     ]
    }
   ],
   "source": [
    "sum,odd = callodd(Range)\n",
    "print(f\"sum of even = {sum}\")"
   ]
  },
  {
   "cell_type": "code",
   "execution_count": null,
   "metadata": {},
   "outputs": [
    {
     "name": "stdout",
     "output_type": "stream",
     "text": [
      "odd numbers = [1, 3, 5, 7, 9, 11, 13, 15, 17, 19, 21, 23, 25, 27, 29, 31, 33, 35, 37, 39]\n"
     ]
    }
   ],
   "source": [
    "print(f\"odd numbers = {odd}\")"
   ]
  },
  {
   "cell_type": "code",
   "execution_count": 11,
   "metadata": {},
   "outputs": [],
   "source": [
    "'''Write a Python function to add two elements and display the \n",
    "result. The elements can be of type integer, float or string. '''\n",
    "ele1 = 2\n",
    "ele2 = 4"
   ]
  },
  {
   "cell_type": "code",
   "execution_count": 12,
   "metadata": {},
   "outputs": [
    {
     "name": "stdout",
     "output_type": "stream",
     "text": [
      "sum = 6\n"
     ]
    }
   ],
   "source": [
    "def Add(ele1,ele2):\n",
    "    sum = ele1+ele2\n",
    "    print(f\"sum = {sum}\")\n",
    "Add(ele1,ele2)"
   ]
  },
  {
   "cell_type": "code",
   "execution_count": 13,
   "metadata": {},
   "outputs": [
    {
     "name": "stdout",
     "output_type": "stream",
     "text": [
      "sum = Chirag Rao\n",
      "sum = 25.648\n",
      "sum = 25\n"
     ]
    }
   ],
   "source": [
    "Add('Chirag',' Rao')\n",
    "Add(12.324,13.324)\n",
    "Add(12,13)"
   ]
  },
  {
   "cell_type": "code",
   "execution_count": 14,
   "metadata": {},
   "outputs": [],
   "source": [
    "'''Write a Python function that takes a string input from the user \n",
    "and counts the number of vowels and consonants in the string. '''\n",
    "element = \"This is a string\""
   ]
  },
  {
   "cell_type": "code",
   "execution_count": 15,
   "metadata": {},
   "outputs": [],
   "source": [
    "def find_vowels(element):\n",
    "    vol = 0\n",
    "    vowels = \"aeiouAEIOU\"\n",
    "    for i in element :\n",
    "        if i in vowels:\n",
    "            vol= vol+1\n",
    "    print(f\"number of vowels in string {element} = {vol}\")"
   ]
  },
  {
   "cell_type": "code",
   "execution_count": 16,
   "metadata": {},
   "outputs": [
    {
     "name": "stdout",
     "output_type": "stream",
     "text": [
      "number of vowels in string This is a string = 4\n"
     ]
    }
   ],
   "source": [
    "find_vowels(element)"
   ]
  }
 ],
 "metadata": {
  "kernelspec": {
   "display_name": "Python 3",
   "language": "python",
   "name": "python3"
  },
  "language_info": {
   "codemirror_mode": {
    "name": "ipython",
    "version": 3
   },
   "file_extension": ".py",
   "mimetype": "text/x-python",
   "name": "python",
   "nbconvert_exporter": "python",
   "pygments_lexer": "ipython3",
   "version": "3.13.1"
  }
 },
 "nbformat": 4,
 "nbformat_minor": 2
}
