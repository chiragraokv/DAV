{
 "cells": [
  {
   "cell_type": "code",
   "execution_count": 6,
   "id": "f1e64e45",
   "metadata": {},
   "outputs": [
    {
     "name": "stdout",
     "output_type": "stream",
     "text": [
      "enter the number 123\n"
     ]
    }
   ],
   "source": [
    "'''Write a Python function that takes an integer and returns True if \n",
    "it’s a prime number and False otherwise.'''\n",
    "num = int(input(\"enter the number \"))"
   ]
  },
  {
   "cell_type": "code",
   "execution_count": 10,
   "id": "c0d8b799",
   "metadata": {},
   "outputs": [],
   "source": [
    "#check for prime\n",
    "def prime(num):\n",
    "    flag = 0\n",
    "    for i in range(2,num):\n",
    "        if num%i == 0:\n",
    "            flag = flag+1\n",
    "    if flag == 0:\n",
    "        print(f\"{num} is prime\")\n",
    "    else:\n",
    "        print(f\"{num} is prime\")"
   ]
  },
  {
   "cell_type": "code",
   "execution_count": 11,
   "id": "36f38cc6",
   "metadata": {},
   "outputs": [
    {
     "name": "stdout",
     "output_type": "stream",
     "text": [
      "123 is prime\n"
     ]
    }
   ],
   "source": [
    "prime(num)"
   ]
  },
  {
   "cell_type": "code",
   "execution_count": null,
   "id": "b78fe58f",
   "metadata": {},
   "outputs": [],
   "source": []
  }
 ],
 "metadata": {
  "kernelspec": {
   "display_name": "Python 3 (ipykernel)",
   "language": "python",
   "name": "python3"
  },
  "language_info": {
   "codemirror_mode": {
    "name": "ipython",
    "version": 3
   },
   "file_extension": ".py",
   "mimetype": "text/x-python",
   "name": "python",
   "nbconvert_exporter": "python",
   "pygments_lexer": "ipython3",
   "version": "3.9.13"
  }
 },
 "nbformat": 4,
 "nbformat_minor": 5
}
