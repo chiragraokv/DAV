{
 "cells": [
  {
   "cell_type": "markdown",
   "id": "bba83574",
   "metadata": {},
   "source": [
    "Write a Python code block to create a dictionary of cricket World \n",
    "Cup winners. Let the key be the year; the value is the country that \n",
    "won the World Cup that year. Print the name of the best\n",
    "performing country.  Display the unique list of countries that \n",
    "have won the World Cup.  "
   ]
  },
  {
   "cell_type": "code",
   "execution_count": 39,
   "id": "16241150",
   "metadata": {},
   "outputs": [],
   "source": [
    "years = [\"2024\",\"2019\",\"2014\",\"2009\",\"2004\",\"1999\",\"1994\"]\n",
    "winners = [\"sa\",\"aus\",\"eng\",\"eng\",\"aus\",\"aus\",\"ind\"]"
   ]
  },
  {
   "cell_type": "code",
   "execution_count": 42,
   "id": "c5107ba0",
   "metadata": {},
   "outputs": [],
   "source": [
    "d1 = zip(years,winners)"
   ]
  },
  {
   "cell_type": "code",
   "execution_count": 49,
   "id": "d9d2759b",
   "metadata": {},
   "outputs": [],
   "source": [
    "winner_dict = dict(d1)\n",
    "winner_dict\n",
    "count = {}"
   ]
  },
  {
   "cell_type": "code",
   "execution_count": 51,
   "id": "2de339e8",
   "metadata": {},
   "outputs": [
    {
     "name": "stdout",
     "output_type": "stream",
     "text": [
      "{}\n"
     ]
    }
   ],
   "source": [
    "# find max occurance\n",
    "for year in winner_dict:\n",
    "    winner = winner_dict[year]\n",
    "    count.setdefault(winner,[])\n",
    "print(count)\n",
    "    "
   ]
  },
  {
   "cell_type": "code",
   "execution_count": null,
   "id": "6f363860",
   "metadata": {},
   "outputs": [],
   "source": []
  }
 ],
 "metadata": {
  "kernelspec": {
   "display_name": "Python 3 (ipykernel)",
   "language": "python",
   "name": "python3"
  },
  "language_info": {
   "codemirror_mode": {
    "name": "ipython",
    "version": 3
   },
   "file_extension": ".py",
   "mimetype": "text/x-python",
   "name": "python",
   "nbconvert_exporter": "python",
   "pygments_lexer": "ipython3",
   "version": "3.9.13"
  }
 },
 "nbformat": 4,
 "nbformat_minor": 5
}
