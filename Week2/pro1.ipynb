{
 "cells": [
  {
   "cell_type": "markdown",
   "id": "2f35b5c1",
   "metadata": {},
   "source": [
    "Write a Python code block that inputs numbers into a list. Print \n",
    "the largest, smallest, the sum, and the average of the numbers. \n",
    "Count occurrences of a specific number in the list."
   ]
  },
  {
   "cell_type": "code",
   "execution_count": 16,
   "id": "0c58d6e4",
   "metadata": {},
   "outputs": [
    {
     "name": "stdout",
     "output_type": "stream",
     "text": [
      "Enter the number 4\n"
     ]
    }
   ],
   "source": [
    "\n",
    "no = int(input(\"Enter the number \"))"
   ]
  },
  {
   "cell_type": "markdown",
   "id": "740f57f7",
   "metadata": {},
   "source": [
    "## adding numbers to list"
   ]
  },
  {
   "cell_type": "code",
   "execution_count": 17,
   "id": "394cd47b",
   "metadata": {},
   "outputs": [
    {
     "name": "stdout",
     "output_type": "stream",
     "text": [
      "number:1\n",
      "number:5\n",
      "number:2\n",
      "number:4\n"
     ]
    }
   ],
   "source": [
    "numbers = []\n",
    "for i in range(no):\n",
    "    ele = int(input(\"number:\"))\n",
    "    numbers.append(ele)"
   ]
  },
  {
   "cell_type": "markdown",
   "id": "5c34054f",
   "metadata": {},
   "source": [
    "### Compute"
   ]
  },
  {
   "cell_type": "code",
   "execution_count": 18,
   "id": "a60b1e82",
   "metadata": {},
   "outputs": [
    {
     "name": "stdout",
     "output_type": "stream",
     "text": [
      "Largest = 5\n",
      "Smalest = 1\n",
      "Largest = 12\n",
      "Smalest = 3.0\n"
     ]
    }
   ],
   "source": [
    "print(f\"Largest = {max(numbers)}\")\n",
    "print(f\"Smalest = {min(numbers)}\")\n",
    "print(f\"Largest = {sum(numbers)}\")\n",
    "print(f\"Smalest = {sum(numbers)/len(numbers)}\")\n"
   ]
  }
 ],
 "metadata": {
  "kernelspec": {
   "display_name": "Python 3 (ipykernel)",
   "language": "python",
   "name": "python3"
  },
  "language_info": {
   "codemirror_mode": {
    "name": "ipython",
    "version": 3
   },
   "file_extension": ".py",
   "mimetype": "text/x-python",
   "name": "python",
   "nbconvert_exporter": "python",
   "pygments_lexer": "ipython3",
   "version": "3.9.13"
  }
 },
 "nbformat": 4,
 "nbformat_minor": 5
}
