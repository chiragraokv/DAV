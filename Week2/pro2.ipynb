{
 "cells": [
  {
   "cell_type": "markdown",
   "id": "a5ae3251",
   "metadata": {},
   "source": [
    "Write a Python code block to create a tuple with five elements. \n",
    "Try to change one of the elements and handle the error that \n",
    "occurs. Print a message that explains why the error occurred. "
   ]
  },
  {
   "cell_type": "code",
   "execution_count": 11,
   "id": "4be38c3a",
   "metadata": {},
   "outputs": [],
   "source": [
    "touple = {1,2,3,4,5}"
   ]
  },
  {
   "cell_type": "code",
   "execution_count": 14,
   "id": "51a88763",
   "metadata": {},
   "outputs": [],
   "source": [
    "# touple[3] = 10\n",
    "error = '''  TypeError                                 Traceback (most recent call last)\n",
    "~\\AppData\\Local\\Temp\\ipykernel_17368\\556691867.py in <module>\n",
    "----> 1 touple[3] = 10\n",
    "\n",
    "TypeError: 'set' object does not support item assignment \n",
    "print(error) '''"
   ]
  },
  {
   "cell_type": "code",
   "execution_count": 16,
   "id": "5bdff4df",
   "metadata": {},
   "outputs": [
    {
     "name": "stdout",
     "output_type": "stream",
     "text": [
      "  TypeError                                 Traceback (most recent call last)\n",
      "~\\AppData\\Local\\Temp\\ipykernel_17368Ů691867.py in <module>\n",
      "----> 1 touple[3] = 10\n",
      "\n",
      "TypeError: 'set' object does not support item assignment \n",
      "print(error) \n"
     ]
    }
   ],
   "source": [
    "print(error)"
   ]
  },
  {
   "cell_type": "code",
   "execution_count": 17,
   "id": "45cad57e",
   "metadata": {},
   "outputs": [
    {
     "name": "stdout",
     "output_type": "stream",
     "text": [
      " \n",
      "This eror occures as touple dosent accept addition of elements\n"
     ]
    }
   ],
   "source": [
    "print(\" \\nThis eror occures as touple dosent accept addition of elements\")"
   ]
  }
 ],
 "metadata": {
  "kernelspec": {
   "display_name": "Python 3 (ipykernel)",
   "language": "python",
   "name": "python3"
  },
  "language_info": {
   "codemirror_mode": {
    "name": "ipython",
    "version": 3
   },
   "file_extension": ".py",
   "mimetype": "text/x-python",
   "name": "python",
   "nbconvert_exporter": "python",
   "pygments_lexer": "ipython3",
   "version": "3.9.13"
  }
 },
 "nbformat": 4,
 "nbformat_minor": 5
}
