{
 "cells": [
  {
   "cell_type": "markdown",
   "id": "fada2c4b",
   "metadata": {},
   "source": [
    "## Demo week 2\n",
    "### Chirag Rao K V\n",
    "\n",
    "PC 66\n",
    "\n",
    "reg 240962180"
   ]
  },
  {
   "cell_type": "code",
   "execution_count": 1,
   "id": "f2eed3dc",
   "metadata": {},
   "outputs": [
    {
     "data": {
      "text/plain": [
       "(1, 2, 3)"
      ]
     },
     "execution_count": 1,
     "metadata": {},
     "output_type": "execute_result"
    }
   ],
   "source": [
    "tup = (1,2,3)\n",
    "tup"
   ]
  },
  {
   "cell_type": "code",
   "execution_count": 2,
   "id": "18920b71",
   "metadata": {},
   "outputs": [
    {
     "data": {
      "text/plain": [
       "('s', 't', 'r', 'i', 'n', 'g')"
      ]
     },
     "execution_count": 2,
     "metadata": {},
     "output_type": "execute_result"
    }
   ],
   "source": [
    "tup = tuple('string')\n",
    "tup"
   ]
  },
  {
   "cell_type": "code",
   "execution_count": 3,
   "id": "3ab80a66",
   "metadata": {},
   "outputs": [
    {
     "name": "stdout",
     "output_type": "stream",
     "text": [
      "(1, 2, 3)\n",
      "[4, 5, 6]\n"
     ]
    }
   ],
   "source": [
    "#accessing tuple elements using  index\n",
    "nested_tup = (1,2,3),[4,5,6]\n",
    "print(nested_tup[0])\n",
    "print(nested_tup[1])"
   ]
  },
  {
   "cell_type": "code",
   "execution_count": 4,
   "id": "83fffff1",
   "metadata": {},
   "outputs": [
    {
     "data": {
      "text/plain": [
       "((1, 2, 3), [4, 5, 6, (1, 2, 3)], 's', 't', 'r', 'i', 'n', 'g')"
      ]
     },
     "execution_count": 4,
     "metadata": {},
     "output_type": "execute_result"
    }
   ],
   "source": [
    "nested_tup[1].append((1,2,3))\n",
    "nested_tup + tup\n"
   ]
  },
  {
   "cell_type": "code",
   "execution_count": 5,
   "id": "78352432",
   "metadata": {},
   "outputs": [
    {
     "data": {
      "text/plain": [
       "('asd', 'sds', 'frf', 'asd', 'sds', 'frf', 'asd', 'sds', 'frf')"
      ]
     },
     "execution_count": 5,
     "metadata": {},
     "output_type": "execute_result"
    }
   ],
   "source": [
    "('asd','sds','frf') *3"
   ]
  },
  {
   "cell_type": "code",
   "execution_count": 6,
   "id": "b87dc61c",
   "metadata": {},
   "outputs": [
    {
     "name": "stdout",
     "output_type": "stream",
     "text": [
      "3 4 6 7\n"
     ]
    }
   ],
   "source": [
    "#assignment using tuple\n",
    "tup3 = 3,4,(6,7)\n",
    "a,b,(c,d) = tup3 \n",
    "print(a,b,c,d)"
   ]
  },
  {
   "cell_type": "code",
   "execution_count": 7,
   "id": "d8fbc8ce",
   "metadata": {},
   "outputs": [
    {
     "name": "stdout",
     "output_type": "stream",
     "text": [
      "1 3\n",
      "3 1\n"
     ]
    }
   ],
   "source": [
    "#swapping two numbers\n",
    "a,b = 1,3\n",
    "print(a,b)\n",
    "a,b = b,a\n",
    "print(a,b)"
   ]
  },
  {
   "cell_type": "code",
   "execution_count": 8,
   "id": "5002c7c0",
   "metadata": {},
   "outputs": [
    {
     "name": "stdout",
     "output_type": "stream",
     "text": [
      "a = 1,b = 2 c = 3\n",
      "a = 4,b = 5 c = 6\n",
      "a = 7,b = 4 c = 3\n"
     ]
    }
   ],
   "source": [
    "seq = [(1,2,3),(4,5,6),(7,4,3)]\n",
    "for a,b,c in seq:\n",
    "    print(f\"a = {a},b = {b} c = {c}\")"
   ]
  },
  {
   "cell_type": "code",
   "execution_count": 9,
   "id": "eeacb960",
   "metadata": {},
   "outputs": [
    {
     "name": "stdout",
     "output_type": "stream",
     "text": [
      "1 [2, 3, 4] 5\n",
      "1 [2, 3, 4] 5\n"
     ]
    }
   ],
   "source": [
    "val = 1,2,3,4,5\n",
    "a,*rest,b = val\n",
    "print(a,rest,b)\n",
    "a,*_,b = val\n",
    "print(a,_,b)\n"
   ]
  },
  {
   "cell_type": "code",
   "execution_count": 10,
   "id": "7987e70f",
   "metadata": {},
   "outputs": [
    {
     "data": {
      "text/plain": [
       "6"
      ]
     },
     "execution_count": 10,
     "metadata": {},
     "output_type": "execute_result"
    }
   ],
   "source": [
    "#count occurance\n",
    "a = (1,2,2,2,2,2,2,3,4,5)\n",
    "a.count(2)"
   ]
  },
  {
   "cell_type": "code",
   "execution_count": 11,
   "id": "09a30a81",
   "metadata": {},
   "outputs": [
    {
     "data": {
      "text/plain": [
       "[1, 3, 4, 5]"
      ]
     },
     "execution_count": 11,
     "metadata": {},
     "output_type": "execute_result"
    }
   ],
   "source": [
    "#converting tuple into list to append elements\n",
    "tup = (1,3,4)\n",
    "a = list(tup)\n",
    "a.append(5)\n",
    "a"
   ]
  },
  {
   "cell_type": "code",
   "execution_count": 12,
   "id": "f8aa5b17",
   "metadata": {},
   "outputs": [
    {
     "data": {
      "text/plain": [
       "[1, 'red', 3, 4, 5]"
      ]
     },
     "execution_count": 12,
     "metadata": {},
     "output_type": "execute_result"
    }
   ],
   "source": [
    "#inserting elements\n",
    "a.insert(1,\"red\")\n",
    "a"
   ]
  },
  {
   "cell_type": "code",
   "execution_count": 13,
   "id": "f200d94e",
   "metadata": {},
   "outputs": [
    {
     "name": "stdout",
     "output_type": "stream",
     "text": [
      "[1, 'red', 4, 5]\n",
      "[1, 4, 5]\n"
     ]
    }
   ],
   "source": [
    "#remove element using index and remove keyword\n",
    "a.pop(2)\n",
    "print(a)\n",
    "a.remove(\"red\")\n",
    "print(a)"
   ]
  },
  {
   "cell_type": "code",
   "execution_count": 14,
   "id": "560d397d",
   "metadata": {},
   "outputs": [
    {
     "data": {
      "text/plain": [
       "False"
      ]
     },
     "execution_count": 14,
     "metadata": {},
     "output_type": "execute_result"
    }
   ],
   "source": [
    "# use of in keyword\n",
    "\"red\" in a "
   ]
  },
  {
   "cell_type": "code",
   "execution_count": 15,
   "id": "9316f1d9",
   "metadata": {},
   "outputs": [
    {
     "data": {
      "text/plain": [
       "[1, 4, 5, 1, 2, 'hahaha']"
      ]
     },
     "execution_count": 15,
     "metadata": {},
     "output_type": "execute_result"
    }
   ],
   "source": [
    "#adding multiple elements\n",
    "a.extend([1,2,\"hahaha\"])\n",
    "a"
   ]
  },
  {
   "cell_type": "code",
   "execution_count": 16,
   "id": "82f53f3f",
   "metadata": {},
   "outputs": [
    {
     "data": {
      "text/plain": [
       "[1, 1, 2, 4, 5]"
      ]
     },
     "execution_count": 16,
     "metadata": {},
     "output_type": "execute_result"
    }
   ],
   "source": [
    "a.remove(\"hahaha\")\n",
    "a.sort()\n",
    "a"
   ]
  },
  {
   "cell_type": "code",
   "execution_count": 17,
   "id": "56d2ee65",
   "metadata": {},
   "outputs": [
    {
     "name": "stdout",
     "output_type": "stream",
     "text": [
      "['chi', 'raga', 'raooo']\n",
      "['raooo', 'raga', 'chi']\n"
     ]
    }
   ],
   "source": [
    "#sort function using length. default - ascii\n",
    "str = [\"chi\",\"raooo\",\"raga\"]\n",
    "str.sort(key=len)\n",
    "print(str)\n",
    "str.sort(key=len,reverse=True)\n",
    "print(str)\n"
   ]
  },
  {
   "cell_type": "code",
   "execution_count": 18,
   "id": "aff2aa79",
   "metadata": {},
   "outputs": [
    {
     "name": "stdout",
     "output_type": "stream",
     "text": [
      "[3, 4, 5, 6, 7]\n",
      "[1, 2, 1, 1, 1, 1, 1, 8, 9]\n"
     ]
    }
   ],
   "source": [
    "lis = [1,2,3,4,5,6,7,8,9]\n",
    "print(lis[2:7])\n",
    "lis[2:7] = [1,1,1,1,1]\n",
    "print(lis)\n"
   ]
  },
  {
   "cell_type": "code",
   "execution_count": 19,
   "id": "e7bc36c6",
   "metadata": {},
   "outputs": [
    {
     "name": "stdout",
     "output_type": "stream",
     "text": [
      "[8, 9]\n",
      "[1, 1, 1, 1, 1, 8]\n"
     ]
    }
   ],
   "source": [
    "#from right end\n",
    "print(lis[-2:])\n",
    "print(lis[-7:-1])"
   ]
  },
  {
   "cell_type": "code",
   "execution_count": 20,
   "id": "3d1c7155",
   "metadata": {},
   "outputs": [
    {
     "data": {
      "text/plain": [
       "{'a': 'Some value', 'b': [1, 2, 3, 4]}"
      ]
     },
     "execution_count": 20,
     "metadata": {},
     "output_type": "execute_result"
    }
   ],
   "source": [
    "#creating a dictonary\n",
    "d1 = {\"a\": \"Some value\", \"b\":[1,2,3,4]}\n",
    "d1"
   ]
  },
  {
   "cell_type": "code",
   "execution_count": 21,
   "id": "23de84b1",
   "metadata": {},
   "outputs": [
    {
     "data": {
      "text/plain": [
       "{'a': 'Some value', 'b': 'replaced b', 7: 'this is a new elenent'}"
      ]
     },
     "execution_count": 21,
     "metadata": {},
     "output_type": "execute_result"
    }
   ],
   "source": [
    "#inserting elements to dict and replacing \n",
    "\n",
    "d1[7] = \"this is a new elenent\"\n",
    "d1[\"b\"] = \"replaced b\"\n",
    "d1"
   ]
  },
  {
   "cell_type": "code",
   "execution_count": 22,
   "id": "dd2d9e5c",
   "metadata": {},
   "outputs": [
    {
     "data": {
      "text/plain": [
       "True"
      ]
     },
     "execution_count": 22,
     "metadata": {},
     "output_type": "execute_result"
    }
   ],
   "source": [
    "# Checking for elements in dict\n",
    "7 in d1"
   ]
  },
  {
   "cell_type": "code",
   "execution_count": 23,
   "id": "6c71b5a7",
   "metadata": {},
   "outputs": [
    {
     "data": {
      "text/plain": [
       "{'b': 'replaced b'}"
      ]
     },
     "execution_count": 23,
     "metadata": {},
     "output_type": "execute_result"
    }
   ],
   "source": [
    "# delete value using del or pop\n",
    "ret = d1.pop(\"a\")\n",
    "del d1[7]\n",
    "d1"
   ]
  },
  {
   "cell_type": "code",
   "execution_count": 24,
   "id": "8949d89f",
   "metadata": {},
   "outputs": [
    {
     "data": {
      "text/plain": [
       "{'b': 'hahahha', 'c': 'hehehe'}"
      ]
     },
     "execution_count": 24,
     "metadata": {},
     "output_type": "execute_result"
    }
   ],
   "source": [
    "# using update function to merge dict\n",
    "d1.update({\"b\":\"hahahha\",\"c\":\"hehehe\"})\n",
    "d1"
   ]
  },
  {
   "cell_type": "code",
   "execution_count": 25,
   "id": "ecb9f071",
   "metadata": {},
   "outputs": [
    {
     "name": "stdout",
     "output_type": "stream",
     "text": [
      "<class 'zip'>\n"
     ]
    },
    {
     "data": {
      "text/plain": [
       "{0: 4, 1: 3, 2: 2, 3: 1, 4: 0}"
      ]
     },
     "execution_count": 25,
     "metadata": {},
     "output_type": "execute_result"
    }
   ],
   "source": [
    "# usig zip to merge two touples \n",
    "zip_obj = zip(range(5), reversed(range(5)))\n",
    "print(type(zip_obj))\n",
    "mapping = dict(zip_obj)\n",
    "mapping"
   ]
  },
  {
   "cell_type": "code",
   "execution_count": 26,
   "id": "e04655de",
   "metadata": {},
   "outputs": [
    {
     "data": {
      "text/plain": [
       "{'a': ['apple', 'atom'], 'b': ['bat', 'bar', 'book'], 'c': ['cat']}"
      ]
     },
     "execution_count": 26,
     "metadata": {},
     "output_type": "execute_result"
    }
   ],
   "source": [
    "#optimised if else block\n",
    "# to find the words starting with same letter\n",
    "words = [\"apple\", \"bat\", \"bar\", \"atom\", \"book\",\"cat\"]\n",
    "by_letter = {}\n",
    "for word in words: #itirate through every word in words list\n",
    "    letter  = word[0] # take the first letter of the word\n",
    "    by_letter.setdefault(letter,[]).append(word)\n",
    "by_letter"
   ]
  },
  {
   "cell_type": "markdown",
   "id": "ac66d073",
   "metadata": {},
   "source": [
    "### Dict key types"
   ]
  },
  {
   "cell_type": "code",
   "execution_count": 27,
   "id": "4da3f77a",
   "metadata": {},
   "outputs": [
    {
     "data": {
      "text/plain": [
       "-8764920631899052834"
      ]
     },
     "execution_count": 27,
     "metadata": {},
     "output_type": "execute_result"
    }
   ],
   "source": [
    "# checking if Object can be used aS a key using hash\n",
    "hash (\"string\")\n",
    "# hash ([1,2,[4,5]]) not valid "
   ]
  },
  {
   "cell_type": "code",
   "execution_count": 28,
   "id": "340e608a",
   "metadata": {},
   "outputs": [
    {
     "name": "stdout",
     "output_type": "stream",
     "text": [
      "<class 'tuple'>\n"
     ]
    },
    {
     "data": {
      "text/plain": [
       "{(1, 2, 3): 5}"
      ]
     },
     "execution_count": 28,
     "metadata": {},
     "output_type": "execute_result"
    }
   ],
   "source": [
    "# touple can be hashed as long as indivisual elements are hashable\n",
    "d = {}\n",
    "print(type(tuple([1, 2, 3])))\n",
    "\n",
    "d[tuple([1, 2, 3])] = 5 # assignment\n",
    "d\n",
    "# d[tuple([1, 2, [4,5]])] = 5 not hashable \n"
   ]
  },
  {
   "cell_type": "code",
   "execution_count": 29,
   "id": "f990783c",
   "metadata": {},
   "outputs": [
    {
     "name": "stdout",
     "output_type": "stream",
     "text": [
      "hehehe\n",
      "not present\n",
      "not present\n",
      "hahahha\n"
     ]
    }
   ],
   "source": [
    "keys = [\"c\",\"d\",\"a\",\"b\"]\n",
    "\n",
    "for key in keys:\n",
    "     print(d1.get(key,\"not present\"))\n"
   ]
  },
  {
   "cell_type": "code",
   "execution_count": 30,
   "id": "bc45ef0a",
   "metadata": {},
   "outputs": [
    {
     "data": {
      "text/plain": [
       "{1, 2, 3}"
      ]
     },
     "execution_count": 30,
     "metadata": {},
     "output_type": "execute_result"
    }
   ],
   "source": [
    "#SET\n",
    "set([2,2,2,1,3,3,1])"
   ]
  },
  {
   "cell_type": "code",
   "execution_count": 31,
   "id": "31ea1b7e",
   "metadata": {},
   "outputs": [
    {
     "name": "stdout",
     "output_type": "stream",
     "text": [
      "{1, 2, 3, 65, 5, 44}\n",
      "{2}\n",
      "{1, 2, 3, 65, 5, 44}\n",
      "{2}\n"
     ]
    }
   ],
   "source": [
    "# set literal with curly braces\n",
    "a = {2, 2, 2, 1, 3, 3,}\n",
    "type(a)\n",
    "b = {44,5,65,5,2}\n",
    "# union of two set | or .union\n",
    "print(a|b)\n",
    "#intersection & or .intersection\n",
    "print(a&b)\n",
    "#\n",
    "c = a.copy()\n",
    "c |= b\n",
    "print(c)\n",
    "d = a.copy()\n",
    "d &= b\n",
    "print(d)\n"
   ]
  },
  {
   "cell_type": "code",
   "execution_count": null,
   "id": "326b8e8a",
   "metadata": {},
   "outputs": [],
   "source": []
  }
 ],
 "metadata": {
  "kernelspec": {
   "display_name": "Python 3",
   "language": "python",
   "name": "python3"
  },
  "language_info": {
   "codemirror_mode": {
    "name": "ipython",
    "version": 3
   },
   "file_extension": ".py",
   "mimetype": "text/x-python",
   "name": "python",
   "nbconvert_exporter": "python",
   "pygments_lexer": "ipython3",
   "version": "3.13.1"
  }
 },
 "nbformat": 4,
 "nbformat_minor": 5
}
