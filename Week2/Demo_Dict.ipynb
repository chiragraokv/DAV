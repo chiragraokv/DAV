{
 "cells": [
  {
   "cell_type": "code",
   "execution_count": 24,
   "id": "3d1c7155",
   "metadata": {},
   "outputs": [
    {
     "data": {
      "text/plain": [
       "{'a': 'Some value', 'b': [1, 2, 3, 4]}"
      ]
     },
     "execution_count": 24,
     "metadata": {},
     "output_type": "execute_result"
    }
   ],
   "source": [
    "#creating a dictonary\n",
    "d1 = {\"a\": \"Some value\", \"b\":[1,2,3,4]}\n",
    "d1"
   ]
  },
  {
   "cell_type": "code",
   "execution_count": 25,
   "id": "23de84b1",
   "metadata": {},
   "outputs": [
    {
     "data": {
      "text/plain": [
       "{'a': 'Some value', 'b': 'replaced b', 7: 'this is a new elenent'}"
      ]
     },
     "execution_count": 25,
     "metadata": {},
     "output_type": "execute_result"
    }
   ],
   "source": [
    "#inserting elements to dict and replacing \n",
    "\n",
    "d1[7] = \"this is a new elenent\"\n",
    "d1[\"b\"] = \"replaced b\"\n",
    "d1"
   ]
  },
  {
   "cell_type": "code",
   "execution_count": 26,
   "id": "dd2d9e5c",
   "metadata": {},
   "outputs": [
    {
     "data": {
      "text/plain": [
       "True"
      ]
     },
     "execution_count": 26,
     "metadata": {},
     "output_type": "execute_result"
    }
   ],
   "source": [
    "# Checking for elements in dict\n",
    "7 in d1"
   ]
  },
  {
   "cell_type": "code",
   "execution_count": 27,
   "id": "6c71b5a7",
   "metadata": {},
   "outputs": [
    {
     "data": {
      "text/plain": [
       "{'b': 'replaced b'}"
      ]
     },
     "execution_count": 27,
     "metadata": {},
     "output_type": "execute_result"
    }
   ],
   "source": [
    "# delete value using del or pop\n",
    "ret = d1.pop(\"a\")\n",
    "del d1[7]\n",
    "d1"
   ]
  },
  {
   "cell_type": "code",
   "execution_count": 28,
   "id": "8949d89f",
   "metadata": {},
   "outputs": [
    {
     "data": {
      "text/plain": [
       "{'b': 'hahahha', 'c': 'hehehe'}"
      ]
     },
     "execution_count": 28,
     "metadata": {},
     "output_type": "execute_result"
    }
   ],
   "source": [
    "# using update function to merge dict\n",
    "d1.update({\"b\":\"hahahha\",\"c\":\"hehehe\"})\n",
    "d1"
   ]
  },
  {
   "cell_type": "code",
   "execution_count": 39,
   "id": "ecb9f071",
   "metadata": {},
   "outputs": [
    {
     "name": "stdout",
     "output_type": "stream",
     "text": [
      "<class 'zip'>\n"
     ]
    },
    {
     "data": {
      "text/plain": [
       "{0: 4, 1: 3, 2: 2, 3: 1, 4: 0}"
      ]
     },
     "execution_count": 39,
     "metadata": {},
     "output_type": "execute_result"
    }
   ],
   "source": [
    "# usig zip to merge two touples \n",
    "zip_obj = zip(range(5), reversed(range(5)))\n",
    "print(type(zip_obj))\n",
    "mapping = dict(zip_obj)\n",
    "mapping"
   ]
  },
  {
   "cell_type": "code",
   "execution_count": 44,
   "id": "e04655de",
   "metadata": {},
   "outputs": [
    {
     "data": {
      "text/plain": [
       "{'a': ['apple', 'atom'], 'b': ['bat', 'bar', 'book'], 'c': ['cat']}"
      ]
     },
     "execution_count": 44,
     "metadata": {},
     "output_type": "execute_result"
    }
   ],
   "source": [
    "#optimised if else block\n",
    "# to find the words starting with same letter\n",
    "words = [\"apple\", \"bat\", \"bar\", \"atom\", \"book\",\"cat\"]\n",
    "by_letter = {}\n",
    "for word in words: #itirate through every word in words list\n",
    "    letter  = word[0] # take the first letter of the word\n",
    "    by_letter.setdefault(letter,[]).append(word)\n",
    "by_letter"
   ]
  },
  {
   "cell_type": "markdown",
   "id": "ac66d073",
   "metadata": {},
   "source": [
    "### Dict key types"
   ]
  },
  {
   "cell_type": "code",
   "execution_count": 51,
   "id": "4da3f77a",
   "metadata": {},
   "outputs": [
    {
     "data": {
      "text/plain": [
       "6034009626807742461"
      ]
     },
     "execution_count": 51,
     "metadata": {},
     "output_type": "execute_result"
    }
   ],
   "source": [
    "# checking if Object can be used aS a key using hash\n",
    "hash (\"string\")\n",
    "# hash ([1,2,[4,5]]) not valid "
   ]
  },
  {
   "cell_type": "code",
   "execution_count": 64,
   "id": "340e608a",
   "metadata": {},
   "outputs": [
    {
     "name": "stdout",
     "output_type": "stream",
     "text": [
      "<class 'tuple'>\n"
     ]
    },
    {
     "data": {
      "text/plain": [
       "{(1, 2, 3): 5}"
      ]
     },
     "execution_count": 64,
     "metadata": {},
     "output_type": "execute_result"
    }
   ],
   "source": [
    "# touple can be hashed as long as indivisual elements are hashable\n",
    "d = {}\n",
    "print(type(tuple([1, 2, 3])))\n",
    "\n",
    "d[tuple([1, 2, 3])] = 5 # assignment\n",
    "d\n",
    "# d[tuple([1, 2, [4,5]])] = 5 not hashable \n"
   ]
  },
  {
   "cell_type": "code",
   "execution_count": 74,
   "id": "f990783c",
   "metadata": {},
   "outputs": [
    {
     "name": "stdout",
     "output_type": "stream",
     "text": [
      "hehehe\n",
      "not present\n",
      "not present\n",
      "hahahha\n"
     ]
    }
   ],
   "source": [
    "keys = [\"c\",\"d\",\"a\",\"b\"]\n",
    "\n",
    "for key in keys:\n",
    "     print(d1.get(key,\"not present\"))\n"
   ]
  },
  {
   "cell_type": "code",
   "execution_count": 75,
   "id": "bc45ef0a",
   "metadata": {},
   "outputs": [
    {
     "data": {
      "text/plain": [
       "{1, 2, 3}"
      ]
     },
     "execution_count": 75,
     "metadata": {},
     "output_type": "execute_result"
    }
   ],
   "source": [
    "#SET\n",
    "set([2,2,2,1,3,3,1])"
   ]
  },
  {
   "cell_type": "code",
   "execution_count": 85,
   "id": "31ea1b7e",
   "metadata": {},
   "outputs": [
    {
     "name": "stdout",
     "output_type": "stream",
     "text": [
      "{1, 2, 3, 65, 5, 44}\n",
      "{2}\n",
      "{1, 2, 3, 65, 5, 44}\n",
      "{2}\n"
     ]
    }
   ],
   "source": [
    "# set literal with curly braces\n",
    "a = {2, 2, 2, 1, 3, 3,}\n",
    "type(a)\n",
    "b = {44,5,65,5,2}\n",
    "# union of two set | or .union\n",
    "print(a|b)\n",
    "#intersection & or .intersection\n",
    "print(a&b)\n",
    "#\n",
    "c = a.copy()\n",
    "c |= b\n",
    "print(c)\n",
    "d = a.copy()\n",
    "d &= b\n",
    "print(d)\n"
   ]
  },
  {
   "cell_type": "code",
   "execution_count": null,
   "id": "326b8e8a",
   "metadata": {},
   "outputs": [],
   "source": []
  }
 ],
 "metadata": {
  "kernelspec": {
   "display_name": "Python 3 (ipykernel)",
   "language": "python",
   "name": "python3"
  },
  "language_info": {
   "codemirror_mode": {
    "name": "ipython",
    "version": 3
   },
   "file_extension": ".py",
   "mimetype": "text/x-python",
   "name": "python",
   "nbconvert_exporter": "python",
   "pygments_lexer": "ipython3",
   "version": "3.9.13"
  }
 },
 "nbformat": 4,
 "nbformat_minor": 5
}
