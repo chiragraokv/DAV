{
 "cells": [
  {
   "cell_type": "markdown",
   "metadata": {},
   "source": [
    "## LAB WEEK 2\n",
    "### Chirag Rao K V\n",
    "\n",
    "PC 66\n",
    "\n",
    "reg 240962180\n",
    "\n",
    "Write a Python code block that inputs numbers into a list. \n",
    "\n",
    "Print the largest, smallest, the sum, and the average of the numbers. \n",
    "\n",
    "Count occurrences of a specific number in the list."
   ]
  },
  {
   "cell_type": "code",
   "execution_count": 17,
   "metadata": {},
   "outputs": [],
   "source": [
    "no = 4"
   ]
  },
  {
   "cell_type": "code",
   "execution_count": 19,
   "metadata": {},
   "outputs": [],
   "source": [
    "numbers = []\n",
    "for i in range(no):\n",
    "    ele = int(input(\"number:\"))\n",
    "    numbers.append(ele)"
   ]
  },
  {
   "cell_type": "code",
   "execution_count": 3,
   "metadata": {},
   "outputs": [
    {
     "name": "stdout",
     "output_type": "stream",
     "text": [
      "Largest = 34\n",
      "Smalest = 4\n",
      "Largest = 77\n",
      "Smalest = 19.25\n"
     ]
    }
   ],
   "source": [
    "print(f\"Largest = {max(numbers)}\")\n",
    "print(f\"Smalest = {min(numbers)}\")\n",
    "print(f\"Largest = {sum(numbers)}\")\n",
    "print(f\"Smalest = {sum(numbers)/len(numbers)}\")"
   ]
  },
  {
   "cell_type": "markdown",
   "metadata": {},
   "source": [
    "Write a Python code block to create a tuple with five elements. \n",
    "\n",
    "Try to change one of the elements and handle the error that \n",
    "\n",
    "occurs. Print a message that explains why the error occurred. "
   ]
  },
  {
   "cell_type": "code",
   "execution_count": null,
   "metadata": {},
   "outputs": [
    {
     "name": "stderr",
     "output_type": "stream",
     "text": [
      "<>:2: SyntaxWarning: invalid escape sequence '\\A'\n",
      "<>:2: SyntaxWarning: invalid escape sequence '\\A'\n",
      "C:\\Users\\chira\\AppData\\Local\\Temp\\ipykernel_13632\\2924540063.py:2: SyntaxWarning: invalid escape sequence '\\A'\n",
      "  error = '''  TypeError                                 Traceback (most recent call last)\n"
     ]
    }
   ],
   "source": [
    "# touple[3] = 10\n",
    "error = '''  TypeError                                 Traceback (most recent call last)\n",
    "~\\AppData\\Local\\Temp\\ipykernel_17368\\556691867.py in <module>\n",
    "----> 1 touple[3] = 10\n",
    "\n",
    "TypeError: 'set' object does not support item assignment \n",
    "print(error) '''"
   ]
  },
  {
   "cell_type": "code",
   "execution_count": 5,
   "metadata": {},
   "outputs": [
    {
     "name": "stdout",
     "output_type": "stream",
     "text": [
      "  TypeError                                 Traceback (most recent call last)\n",
      "~\\AppData\\Local\\Temp\\ipykernel_17368Ů691867.py in <module>\n",
      "----> 1 touple[3] = 10\n",
      "\n",
      "TypeError: 'set' object does not support item assignment \n",
      "print(error) \n"
     ]
    }
   ],
   "source": [
    "print(error)"
   ]
  },
  {
   "cell_type": "code",
   "execution_count": 6,
   "metadata": {},
   "outputs": [
    {
     "name": "stdout",
     "output_type": "stream",
     "text": [
      " \n",
      "This eror occures as touple dosent accept addition of elements\n"
     ]
    }
   ],
   "source": [
    "print(\" \\nThis eror occures as touple dosent accept addition of elements\")"
   ]
  },
  {
   "cell_type": "markdown",
   "metadata": {},
   "source": [
    "Write a Python code block to create a dictionary of cricket World \n",
    "Cup winners. Let the key be the year; \n",
    "\n",
    "the value is the country that \n",
    "won the World Cup that year. Print the name of the best\n",
    "performing country. \n",
    "\n",
    " Display the unique list of countries that \n",
    "have won the World Cup.  "
   ]
  },
  {
   "cell_type": "code",
   "execution_count": 7,
   "metadata": {},
   "outputs": [
    {
     "name": "stdout",
     "output_type": "stream",
     "text": [
      "Winner Dictionary: {'2024': 'sa', '2019': 'aus', '2014': 'eng', '2009': 'eng', '2004': 'aus', '1999': 'aus', '1994': 'ind'}\n",
      "Winner Occurrences: {'sa': 1, 'aus': 3, 'eng': 2, 'ind': 1}\n",
      "The winner with the maximum occurrences is 'aus' with 3 wins.\n"
     ]
    }
   ],
   "source": [
    "years = [\"2024\", \"2019\", \"2014\", \"2009\", \"2004\", \"1999\", \"1994\"]\n",
    "winners = [\"sa\", \"aus\", \"eng\", \"eng\", \"aus\", \"aus\", \"ind\"]\n",
    "\n",
    "# Create a dictionary of winners\n",
    "winner_dict = dict(zip(years, winners))\n",
    "print(\"Winner Dictionary:\", winner_dict)\n",
    "\n",
    "# Count occurrences of each winner\n",
    "count = {}\n",
    "for year in winner_dict:\n",
    "    winner = winner_dict[year]\n",
    "    count[winner] = count.get(winner, 0) + 1\n",
    "\n",
    "print(\"Winner Occurrences:\", count)\n",
    "\n",
    "# Find the winner with the maximum occurrences\n",
    "max_winner = max(count, key=count.get)\n",
    "print(f\"The winner with the maximum occurrences is '{max_winner}' with {count[max_winner]} wins.\")"
   ]
  },
  {
   "cell_type": "markdown",
   "metadata": {},
   "source": []
  },
  {
   "cell_type": "code",
   "execution_count": 8,
   "metadata": {},
   "outputs": [
    {
     "data": {
      "text/plain": [
       "{'this': 1,\n",
       " 'is': 1,\n",
       " 'a': 1,\n",
       " 'sentance': 2,\n",
       " 'containing': 3,\n",
       " 'multiple': 2,\n",
       " 'words,': 1,\n",
       " 'these': 1,\n",
       " 'words': 2,\n",
       " 'are': 1,\n",
       " 'being': 1,\n",
       " 'repeated,': 1,\n",
       " 'sentence': 1}"
      ]
     },
     "execution_count": 8,
     "metadata": {},
     "output_type": "execute_result"
    }
   ],
   "source": [
    "# Input a sentence and count word frequencies\n",
    "sentence = \"this is a sentance containing multiple words, these words are being repeated, sentence containing sentance containing multiple words \"\n",
    "words = sentence.split()\n",
    "word_frequency = {}\n",
    "\n",
    "for word in words:\n",
    "    word_frequency[word] = word_frequency.get(word, 0) + 1\n",
    "\n",
    "word_frequency"
   ]
  },
  {
   "cell_type": "markdown",
   "metadata": {},
   "source": []
  },
  {
   "cell_type": "markdown",
   "metadata": {},
   "source": [
    "Write a Python code block to input numbers into two sets.  \n",
    "Perform union, intersection, and difference operations on the sets \n",
    "and print the results."
   ]
  },
  {
   "cell_type": "code",
   "execution_count": null,
   "metadata": {},
   "outputs": [
    {
     "data": {
      "text/plain": [
       "({2, 3, 4, 5, 6, 7}, {3, 4, 5, 6, 7})"
      ]
     },
     "execution_count": 13,
     "metadata": {},
     "output_type": "execute_result"
    }
   ],
   "source": [
    "set1 = set(map(int, input(\"Enter numbers for Set 1 (space-separated): \").split()))\n",
    "set2 = set(map(int, input(\"Enter numbers for Set 2 (space-separated): \").split()))\n",
    "set1,set2"
   ]
  },
  {
   "cell_type": "code",
   "execution_count": null,
   "metadata": {},
   "outputs": [],
   "source": [
    "union_set = set1 | set2\n",
    "intersection_set = set1 & set2\n",
    "\n",
    "difference_set = set1 - set2"
   ]
  },
  {
   "cell_type": "code",
   "execution_count": 16,
   "metadata": {},
   "outputs": [
    {
     "name": "stdout",
     "output_type": "stream",
     "text": [
      "Union: {2, 3, 4, 5, 6, 7}\n",
      "Intersection: {3, 4, 5, 6, 7}\n",
      "Difference (Set1 - Set2): {2}\n"
     ]
    }
   ],
   "source": [
    "print(\"Union:\", union_set)\n",
    "print(\"Intersection:\", intersection_set)\n",
    "print(\"Difference (Set1 - Set2):\", difference_set)"
   ]
  }
 ],
 "metadata": {
  "kernelspec": {
   "display_name": "Python 3",
   "language": "python",
   "name": "python3"
  },
  "language_info": {
   "codemirror_mode": {
    "name": "ipython",
    "version": 3
   },
   "file_extension": ".py",
   "mimetype": "text/x-python",
   "name": "python",
   "nbconvert_exporter": "python",
   "pygments_lexer": "ipython3",
   "version": "3.13.1"
  }
 },
 "nbformat": 4,
 "nbformat_minor": 2
}
